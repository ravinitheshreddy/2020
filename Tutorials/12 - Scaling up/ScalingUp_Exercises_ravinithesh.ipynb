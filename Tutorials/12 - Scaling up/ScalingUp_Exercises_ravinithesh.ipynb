{
 "cells": [
  {
   "cell_type": "markdown",
   "metadata": {},
   "source": [
    "# Scaling up\n",
    "\n",
    "Originally released as part of a homework in ADA2019.\n",
    "\n",
    "## Description\n",
    "\n",
    "[Reddit](https://www.reddit.com/) aka *'the front page of the internet'* is a network of over a million *communities* aka *'subreddits'*, each of which covers a different topic based on people's interests. In other words, it is a *massive* collection of forums (corresponding to the aforementioned communities), where people can share content specific to a given topic or comment on other people’s posts.   \n",
    "\n",
    "You are reddit's community manager and want to *appoint new moderators*. Because moderating a specific subreddit isn't a full-time job, you want the chosen moderators to moderate multiple subreddits at the same time. To make this choice effective, the moderators shouldn't have to spend too much time getting to know the community and the prevalent communication style, so it makes sense to let moderators moderate subreddits that are similar in communication style and language. At the same time, it also makes sense to let them moderate subreddits that are similar with respect to the participating users, because this allows moderators to track the behavior of individual users over multiple subreddits. For example, some users might only post offensive content once a month on a given subreddit, and therefore fly under the radar with someone moderating only that subreddit. However, considering all the subreddits these users post to, they might post something offensive every day but on different subreddits. Thus, a moderator in charge of all these subreddits would be able to ban such users much more effectively. In the light of the above description, your task is to find out ways to choose moderators considering both the textual content and the users of a subreddit.\n",
    "\n",
    "### Dataset:\n",
    "The dataset provided to you includes all the posts of the 15 largest subreddits written as of May 2015.\n",
    "\n",
    "Reddit posts (provided to you via a [google drive folder](https://drive.google.com/a/epfl.ch/file/d/19SVHKbUTUPtC9HMmADJcAAIY1Xjq6WFv/view?usp=sharing))\n",
    "```\n",
    "reddit_posts\n",
    " |-- id: id of the post \n",
    " |-- author: user name of the author \n",
    " |-- body: text of the message\n",
    " |-- subreddit: name of the subreddit\n",
    "```\n",
    "\n",
    "Reddit scores (provided to you via a [google drive folder](https://drive.google.com/a/epfl.ch/file/d/1vr4PolJzTXr6ODSe3ucib5EAyp3rjxec/view?usp=sharing))\n",
    "```\n",
    "reddit_scores\n",
    " |-- id: id of the post \n",
    " |-- score: score computed as sum of UP/DOWN votes\n",
    "```\n",
    "\n",
    "*Note: Jaccard similarity between subreddits represented using either the set of top-1000 words or the set of users can be computed locally (on the driver), however, all the other tasks have to be implemented in Spark.*\n",
    "\n",
    "## B1. Getting a sense of the data\n",
    "\n",
    "Start a PySpark instance..."
   ]
  },
  {
   "cell_type": "code",
   "execution_count": 2,
   "metadata": {},
   "outputs": [
    {
     "data": {
      "text/html": [
       "\n",
       "            <div>\n",
       "                <p><b>SparkSession - in-memory</b></p>\n",
       "                \n",
       "        <div>\n",
       "            <p><b>SparkContext</b></p>\n",
       "\n",
       "            <p><a href=\"http://host.docker.internal:4041\">Spark UI</a></p>\n",
       "\n",
       "            <dl>\n",
       "              <dt>Version</dt>\n",
       "                <dd><code>v3.0.1</code></dd>\n",
       "              <dt>Master</dt>\n",
       "                <dd><code>local[*]</code></dd>\n",
       "              <dt>AppName</dt>\n",
       "                <dd><code>pyspark-shell</code></dd>\n",
       "            </dl>\n",
       "        </div>\n",
       "        \n",
       "            </div>\n",
       "        "
      ],
      "text/plain": [
       "<pyspark.sql.session.SparkSession at 0x206a12440a0>"
      ]
     },
     "execution_count": 2,
     "metadata": {},
     "output_type": "execute_result"
    }
   ],
   "source": [
    "import pyspark\n",
    "import pyspark.sql\n",
    "from pyspark.sql import *\n",
    "from pyspark.sql.functions import *\n",
    "import numpy as np \n",
    "import pandas as pd\n",
    "\n",
    "conf = pyspark.SparkConf().setMaster(\"local[*]\").setAll([\n",
    "                                   ('spark.executor.memory', '12g'),  # find\n",
    "                                   ('spark.driver.memory','4g'), # your\n",
    "                                   ('spark.driver.maxResultSize', '2G') # setup\n",
    "                                  ])\n",
    "# create the session\n",
    "spark = SparkSession.builder.config(conf=conf).getOrCreate()\n",
    "\n",
    "# create the context\n",
    "sc = spark.sparkContext\n",
    "\n",
    "# FIX for Spark 2.x\n",
    "locale = sc._jvm.java.util.Locale\n",
    "locale.setDefault(locale.forLanguageTag(\"en-US\"))\n",
    "\n",
    "spark"
   ]
  },
  {
   "cell_type": "markdown",
   "metadata": {},
   "source": [
    "... and load the data in a Spark dataframe."
   ]
  },
  {
   "cell_type": "code",
   "execution_count": 3,
   "metadata": {},
   "outputs": [],
   "source": [
    "messages = spark.read.json(\"messages.json.gz\")\n",
    "score = spark.read.json(\"score.json.gz\")"
   ]
  },
  {
   "cell_type": "code",
   "execution_count": 4,
   "metadata": {},
   "outputs": [
    {
     "name": "stdout",
     "output_type": "stream",
     "text": [
      "root\n",
      " |-- author: string (nullable = true)\n",
      " |-- body: string (nullable = true)\n",
      " |-- id: string (nullable = true)\n",
      " |-- subreddit: string (nullable = true)\n",
      "\n"
     ]
    }
   ],
   "source": [
    "messages.printSchema()"
   ]
  },
  {
   "cell_type": "code",
   "execution_count": 5,
   "metadata": {},
   "outputs": [
    {
     "name": "stdout",
     "output_type": "stream",
     "text": [
      "root\n",
      " |-- id: string (nullable = true)\n",
      " |-- score: long (nullable = true)\n",
      "\n"
     ]
    }
   ],
   "source": [
    "score.printSchema()"
   ]
  },
  {
   "cell_type": "code",
   "execution_count": 6,
   "metadata": {},
   "outputs": [
    {
     "name": "stdout",
     "output_type": "stream",
     "text": [
      "+--------------------+--------------------+-------+---------------+\n",
      "|              author|                body|     id|      subreddit|\n",
      "+--------------------+--------------------+-------+---------------+\n",
      "|           WyaOfWade|gg this one's ove...|cqug90h|            nba|\n",
      "|           BEE_REAL_|Nihilum and LG ar...|cqug90p|GlobalOffensive|\n",
      "|           SlowRolla|Me too. Same hamm...|cqug916|           pics|\n",
      "|      SenpaiOniichan|well i think new ...|cqug919|leagueoflegends|\n",
      "|   backwoodsofcanada|That's something ...|cqug91n|  AdviceAnimals|\n",
      "|       BurntTheToast|Because we aren't...|cqug91p|         videos|\n",
      "|       starvinmartin|Well yeah. The fi...|cqug91z|            nba|\n",
      "|         superiorfox|**[STREAMLINK](ht...|cqug92a|            nba|\n",
      "|           hogsucker|1-She got to be a...|cqug92b|           news|\n",
      "|        PoopyVampire|Holy shit, I coul...|cqug92e|         movies|\n",
      "|           Stokest26|Do you get to jus...|cqug92m|            nfl|\n",
      "|          Drakengard|https://i.imgur.c...|cqug92p|            nfl|\n",
      "|      Dick-Punch-Man|But that isn't wh...|cqug930|         videos|\n",
      "|     dankkush420yolo|Ya razor to laser...|cqug938|          DotA2|\n",
      "|           wesman212|Can we sticky the...|cqug93g|            nfl|\n",
      "|            SureShaw|Honestly I don't ...|cqug93p|leagueoflegends|\n",
      "|            BirdLaw_|Woo. 2015 NFL Dra...|cqug93x|            nfl|\n",
      "|             gr0c3ry|THANK YOU!  Every...|cqug94i|            nfl|\n",
      "|             Monding|That's not silenc...|cqug94t|         hockey|\n",
      "|PM-ME-YOUR-PY-SCRIPT|I don't know. Where?|cqug953|  AdviceAnimals|\n",
      "+--------------------+--------------------+-------+---------------+\n",
      "only showing top 20 rows\n",
      "\n"
     ]
    }
   ],
   "source": [
    "messages.show()"
   ]
  },
  {
   "cell_type": "code",
   "execution_count": 7,
   "metadata": {},
   "outputs": [
    {
     "name": "stdout",
     "output_type": "stream",
     "text": [
      "+-------+-----+\n",
      "|     id|score|\n",
      "+-------+-----+\n",
      "|cqug90h|    4|\n",
      "|cqug90p|    5|\n",
      "|cqug916|    3|\n",
      "|cqug919|    1|\n",
      "|cqug91n|    1|\n",
      "|cqug91p|    2|\n",
      "|cqug91z|   21|\n",
      "|cqug92a|    0|\n",
      "|cqug92b|  -11|\n",
      "|cqug92e|    2|\n",
      "|cqug92m|    4|\n",
      "|cqug92p|    2|\n",
      "|cqug930|   -2|\n",
      "|cqug938|    1|\n",
      "|cqug93g|    1|\n",
      "|cqug93p|    1|\n",
      "|cqug93x|    2|\n",
      "|cqug94i|    2|\n",
      "|cqug94t|    3|\n",
      "|cqug953|   -5|\n",
      "+-------+-----+\n",
      "only showing top 20 rows\n",
      "\n"
     ]
    }
   ],
   "source": [
    "score.show()"
   ]
  },
  {
   "cell_type": "markdown",
   "metadata": {},
   "source": [
    "### B1.1. Identify the most active subreddit\n",
    "\n",
    "Print the list of subreddits along with the following information:\n",
    "1. The total number of posts\n",
    "2. The number of users with at least 1 message\n",
    "3. The mean message length\n",
    "\n",
    "*Note: Keep everything in one single dataframe and print the list sorted by number of posts in descending order.*"
   ]
  },
  {
   "cell_type": "code",
   "execution_count": 14,
   "metadata": {},
   "outputs": [
    {
     "name": "stdout",
     "output_type": "stream",
     "text": [
      "+---------------+----------+------------------+-----------+\n",
      "|      subreddit|PostsCount|      AvgMsgLength|AuthorCount|\n",
      "+---------------+----------+------------------+-----------+\n",
      "|leagueoflegends|   1151287|152.72280760574904|     119321|\n",
      "|            nba|    704862|106.48656758344187|      45034|\n",
      "|          funny|    691139|106.82283882113438|     224077|\n",
      "|           pics|    564502| 114.9710045314277|     205305|\n",
      "|            nfl|    534345|148.96989211090212|      41593|\n",
      "|         videos|    511492|170.22702603364274|     157628|\n",
      "|           news|    477658| 230.9491602778557|      98736|\n",
      "| DestinyTheGame|    471160|165.41786866457255|      37008|\n",
      "|         soccer|    455215|134.42224663071295|      41648|\n",
      "|          DotA2|    445154|141.48906670500546|      41466|\n",
      "|      worldnews|    439417|224.93754679495785|      99261|\n",
      "|  AdviceAnimals|    411902| 159.2513801826648|     115815|\n",
      "|         hockey|    389329| 95.37287230080472|      25568|\n",
      "|GlobalOffensive|    382017| 147.2883981602913|      46686|\n",
      "|         movies|    354601|164.83209297210104|      92484|\n",
      "+---------------+----------+------------------+-----------+\n",
      "\n"
     ]
    }
   ],
   "source": [
    "messages.registerTempTable(\"messages\")\n",
    "\n",
    "query = \"\"\"\n",
    "SELECT\n",
    "    subreddit,\n",
    "    count(subreddit) as PostsCount,\n",
    "    AVG(LENGTH(body)) as AvgMsgLength,\n",
    "    count(DISTINCT author) as AuthorCount\n",
    "FROM messages\n",
    "GROUP BY subreddit\n",
    "ORDER BY PostsCount DESC\n",
    "\"\"\"\n",
    "\n",
    "posts_counts = spark.sql(query)\n",
    "posts_counts.show()"
   ]
  },
  {
   "cell_type": "markdown",
   "metadata": {},
   "source": [
    "### B1.2. Identify the largest subreddit\n",
    "\n",
    "Print *two* different lists of subreddits: ordered by (1) the number of posts, and (2) the number of users. For each subreddit, print the name and the corresponding counts.\n",
    "\n",
    "Additionally, (3) plot the mean of message length for each subreddit in descending order."
   ]
  },
  {
   "cell_type": "code",
   "execution_count": 17,
   "metadata": {},
   "outputs": [
    {
     "data": {
      "text/html": [
       "<div>\n",
       "<style scoped>\n",
       "    .dataframe tbody tr th:only-of-type {\n",
       "        vertical-align: middle;\n",
       "    }\n",
       "\n",
       "    .dataframe tbody tr th {\n",
       "        vertical-align: top;\n",
       "    }\n",
       "\n",
       "    .dataframe thead th {\n",
       "        text-align: right;\n",
       "    }\n",
       "</style>\n",
       "<table border=\"1\" class=\"dataframe\">\n",
       "  <thead>\n",
       "    <tr style=\"text-align: right;\">\n",
       "      <th></th>\n",
       "      <th>subreddit</th>\n",
       "      <th>PostsCount</th>\n",
       "      <th>AvgMsgLength</th>\n",
       "      <th>AuthorCount</th>\n",
       "    </tr>\n",
       "  </thead>\n",
       "  <tbody>\n",
       "    <tr>\n",
       "      <th>0</th>\n",
       "      <td>leagueoflegends</td>\n",
       "      <td>1151287</td>\n",
       "      <td>152.722808</td>\n",
       "      <td>119321</td>\n",
       "    </tr>\n",
       "    <tr>\n",
       "      <th>1</th>\n",
       "      <td>nba</td>\n",
       "      <td>704862</td>\n",
       "      <td>106.486568</td>\n",
       "      <td>45034</td>\n",
       "    </tr>\n",
       "    <tr>\n",
       "      <th>2</th>\n",
       "      <td>funny</td>\n",
       "      <td>691139</td>\n",
       "      <td>106.822839</td>\n",
       "      <td>224077</td>\n",
       "    </tr>\n",
       "    <tr>\n",
       "      <th>3</th>\n",
       "      <td>pics</td>\n",
       "      <td>564502</td>\n",
       "      <td>114.971005</td>\n",
       "      <td>205305</td>\n",
       "    </tr>\n",
       "    <tr>\n",
       "      <th>4</th>\n",
       "      <td>nfl</td>\n",
       "      <td>534345</td>\n",
       "      <td>148.969892</td>\n",
       "      <td>41593</td>\n",
       "    </tr>\n",
       "  </tbody>\n",
       "</table>\n",
       "</div>"
      ],
      "text/plain": [
       "         subreddit  PostsCount  AvgMsgLength  AuthorCount\n",
       "0  leagueoflegends     1151287    152.722808       119321\n",
       "1              nba      704862    106.486568        45034\n",
       "2            funny      691139    106.822839       224077\n",
       "3             pics      564502    114.971005       205305\n",
       "4              nfl      534345    148.969892        41593"
      ]
     },
     "execution_count": 17,
     "metadata": {},
     "output_type": "execute_result"
    }
   ],
   "source": [
    "posts_count_pd = posts_counts.toPandas()\n",
    "posts_count_pd.head()"
   ]
  },
  {
   "cell_type": "code",
   "execution_count": 18,
   "metadata": {},
   "outputs": [
    {
     "data": {
      "text/html": [
       "<div>\n",
       "<style scoped>\n",
       "    .dataframe tbody tr th:only-of-type {\n",
       "        vertical-align: middle;\n",
       "    }\n",
       "\n",
       "    .dataframe tbody tr th {\n",
       "        vertical-align: top;\n",
       "    }\n",
       "\n",
       "    .dataframe thead th {\n",
       "        text-align: right;\n",
       "    }\n",
       "</style>\n",
       "<table border=\"1\" class=\"dataframe\">\n",
       "  <thead>\n",
       "    <tr style=\"text-align: right;\">\n",
       "      <th></th>\n",
       "      <th>subreddit</th>\n",
       "      <th>PostsCount</th>\n",
       "    </tr>\n",
       "  </thead>\n",
       "  <tbody>\n",
       "    <tr>\n",
       "      <th>0</th>\n",
       "      <td>leagueoflegends</td>\n",
       "      <td>1151287</td>\n",
       "    </tr>\n",
       "    <tr>\n",
       "      <th>1</th>\n",
       "      <td>nba</td>\n",
       "      <td>704862</td>\n",
       "    </tr>\n",
       "    <tr>\n",
       "      <th>2</th>\n",
       "      <td>funny</td>\n",
       "      <td>691139</td>\n",
       "    </tr>\n",
       "    <tr>\n",
       "      <th>3</th>\n",
       "      <td>pics</td>\n",
       "      <td>564502</td>\n",
       "    </tr>\n",
       "    <tr>\n",
       "      <th>4</th>\n",
       "      <td>nfl</td>\n",
       "      <td>534345</td>\n",
       "    </tr>\n",
       "    <tr>\n",
       "      <th>5</th>\n",
       "      <td>videos</td>\n",
       "      <td>511492</td>\n",
       "    </tr>\n",
       "    <tr>\n",
       "      <th>6</th>\n",
       "      <td>news</td>\n",
       "      <td>477658</td>\n",
       "    </tr>\n",
       "    <tr>\n",
       "      <th>7</th>\n",
       "      <td>DestinyTheGame</td>\n",
       "      <td>471160</td>\n",
       "    </tr>\n",
       "    <tr>\n",
       "      <th>8</th>\n",
       "      <td>soccer</td>\n",
       "      <td>455215</td>\n",
       "    </tr>\n",
       "    <tr>\n",
       "      <th>9</th>\n",
       "      <td>DotA2</td>\n",
       "      <td>445154</td>\n",
       "    </tr>\n",
       "    <tr>\n",
       "      <th>10</th>\n",
       "      <td>worldnews</td>\n",
       "      <td>439417</td>\n",
       "    </tr>\n",
       "    <tr>\n",
       "      <th>11</th>\n",
       "      <td>AdviceAnimals</td>\n",
       "      <td>411902</td>\n",
       "    </tr>\n",
       "    <tr>\n",
       "      <th>12</th>\n",
       "      <td>hockey</td>\n",
       "      <td>389329</td>\n",
       "    </tr>\n",
       "    <tr>\n",
       "      <th>13</th>\n",
       "      <td>GlobalOffensive</td>\n",
       "      <td>382017</td>\n",
       "    </tr>\n",
       "    <tr>\n",
       "      <th>14</th>\n",
       "      <td>movies</td>\n",
       "      <td>354601</td>\n",
       "    </tr>\n",
       "  </tbody>\n",
       "</table>\n",
       "</div>"
      ],
      "text/plain": [
       "          subreddit  PostsCount\n",
       "0   leagueoflegends     1151287\n",
       "1               nba      704862\n",
       "2             funny      691139\n",
       "3              pics      564502\n",
       "4               nfl      534345\n",
       "5            videos      511492\n",
       "6              news      477658\n",
       "7    DestinyTheGame      471160\n",
       "8            soccer      455215\n",
       "9             DotA2      445154\n",
       "10        worldnews      439417\n",
       "11    AdviceAnimals      411902\n",
       "12           hockey      389329\n",
       "13  GlobalOffensive      382017\n",
       "14           movies      354601"
      ]
     },
     "execution_count": 18,
     "metadata": {},
     "output_type": "execute_result"
    }
   ],
   "source": [
    "subreddit_by_post = posts_count_pd[[\"subreddit\", \"PostsCount\"]].sort_values(by=[\"PostsCount\"],ascending=False)\n",
    "subreddit_by_post"
   ]
  },
  {
   "cell_type": "code",
   "execution_count": 19,
   "metadata": {},
   "outputs": [
    {
     "data": {
      "text/html": [
       "<div>\n",
       "<style scoped>\n",
       "    .dataframe tbody tr th:only-of-type {\n",
       "        vertical-align: middle;\n",
       "    }\n",
       "\n",
       "    .dataframe tbody tr th {\n",
       "        vertical-align: top;\n",
       "    }\n",
       "\n",
       "    .dataframe thead th {\n",
       "        text-align: right;\n",
       "    }\n",
       "</style>\n",
       "<table border=\"1\" class=\"dataframe\">\n",
       "  <thead>\n",
       "    <tr style=\"text-align: right;\">\n",
       "      <th></th>\n",
       "      <th>subreddit</th>\n",
       "      <th>AuthorCount</th>\n",
       "    </tr>\n",
       "  </thead>\n",
       "  <tbody>\n",
       "    <tr>\n",
       "      <th>2</th>\n",
       "      <td>funny</td>\n",
       "      <td>224077</td>\n",
       "    </tr>\n",
       "    <tr>\n",
       "      <th>3</th>\n",
       "      <td>pics</td>\n",
       "      <td>205305</td>\n",
       "    </tr>\n",
       "    <tr>\n",
       "      <th>5</th>\n",
       "      <td>videos</td>\n",
       "      <td>157628</td>\n",
       "    </tr>\n",
       "    <tr>\n",
       "      <th>0</th>\n",
       "      <td>leagueoflegends</td>\n",
       "      <td>119321</td>\n",
       "    </tr>\n",
       "    <tr>\n",
       "      <th>11</th>\n",
       "      <td>AdviceAnimals</td>\n",
       "      <td>115815</td>\n",
       "    </tr>\n",
       "    <tr>\n",
       "      <th>10</th>\n",
       "      <td>worldnews</td>\n",
       "      <td>99261</td>\n",
       "    </tr>\n",
       "    <tr>\n",
       "      <th>6</th>\n",
       "      <td>news</td>\n",
       "      <td>98736</td>\n",
       "    </tr>\n",
       "    <tr>\n",
       "      <th>14</th>\n",
       "      <td>movies</td>\n",
       "      <td>92484</td>\n",
       "    </tr>\n",
       "    <tr>\n",
       "      <th>13</th>\n",
       "      <td>GlobalOffensive</td>\n",
       "      <td>46686</td>\n",
       "    </tr>\n",
       "    <tr>\n",
       "      <th>1</th>\n",
       "      <td>nba</td>\n",
       "      <td>45034</td>\n",
       "    </tr>\n",
       "    <tr>\n",
       "      <th>8</th>\n",
       "      <td>soccer</td>\n",
       "      <td>41648</td>\n",
       "    </tr>\n",
       "    <tr>\n",
       "      <th>4</th>\n",
       "      <td>nfl</td>\n",
       "      <td>41593</td>\n",
       "    </tr>\n",
       "    <tr>\n",
       "      <th>9</th>\n",
       "      <td>DotA2</td>\n",
       "      <td>41466</td>\n",
       "    </tr>\n",
       "    <tr>\n",
       "      <th>7</th>\n",
       "      <td>DestinyTheGame</td>\n",
       "      <td>37008</td>\n",
       "    </tr>\n",
       "    <tr>\n",
       "      <th>12</th>\n",
       "      <td>hockey</td>\n",
       "      <td>25568</td>\n",
       "    </tr>\n",
       "  </tbody>\n",
       "</table>\n",
       "</div>"
      ],
      "text/plain": [
       "          subreddit  AuthorCount\n",
       "2             funny       224077\n",
       "3              pics       205305\n",
       "5            videos       157628\n",
       "0   leagueoflegends       119321\n",
       "11    AdviceAnimals       115815\n",
       "10        worldnews        99261\n",
       "6              news        98736\n",
       "14           movies        92484\n",
       "13  GlobalOffensive        46686\n",
       "1               nba        45034\n",
       "8            soccer        41648\n",
       "4               nfl        41593\n",
       "9             DotA2        41466\n",
       "7    DestinyTheGame        37008\n",
       "12           hockey        25568"
      ]
     },
     "execution_count": 19,
     "metadata": {},
     "output_type": "execute_result"
    }
   ],
   "source": [
    "subreddit_by_user = posts_count_pd[[\"subreddit\", \"AuthorCount\"]].sort_values(by=[\"AuthorCount\"],ascending=False)\n",
    "subreddit_by_user"
   ]
  },
  {
   "cell_type": "code",
   "execution_count": 22,
   "metadata": {},
   "outputs": [
    {
     "data": {
      "text/plain": [
       "Text(0.5, 1.0, 'Average Message length by Subreddit')"
      ]
     },
     "execution_count": 22,
     "metadata": {},
     "output_type": "execute_result"
    },
    {
     "data": {
      "image/png": "[encoded data removed]",
      "text/plain": [
       "<Figure size 720x504 with 1 Axes>"
      ]
     },
     "metadata": {
      "needs_background": "light"
     },
     "output_type": "display_data"
    }
   ],
   "source": [
    "subreddit_by_msg = posts_count_pd[[\"subreddit\", \"AvgMsgLength\"]].sort_values(by=[\"AvgMsgLength\"],ascending=False)\n",
    "pl = subreddit_by_msg.plot(kind=\"bar\", \n",
    "                            x=\"subreddit\", y=\"AvgMsgLength\", \n",
    "                            figsize=(10, 7), log=True, alpha=0.5, color=\"olive\")\n",
    "pl.set_xlabel(\"Subreddit\")\n",
    "pl.set_ylabel(\"Average Message length (Log Scale)\")\n",
    "pl.set_title(\"Average Message length by Subreddit\")"
   ]
  },
  {
   "cell_type": "markdown",
   "metadata": {},
   "source": [
    "### B1.3. Identify the subreddit with the highest average score\n",
    "\n",
    "Print the list of subreddits sorted by their average content scores."
   ]
  },
  {
   "cell_type": "code",
   "execution_count": 23,
   "metadata": {},
   "outputs": [
    {
     "data": {
      "text/plain": [
       "DataFrame[author: string, body: string, id: string, subreddit: string, id: string, score: bigint]"
      ]
     },
     "execution_count": 23,
     "metadata": {},
     "output_type": "execute_result"
    }
   ],
   "source": [
    "subreddits_joined = messages.join(score,\n",
    "                                  messages.id == score.id)\n",
    "subreddits_joined"
   ]
  },
  {
   "cell_type": "code",
   "execution_count": 26,
   "metadata": {},
   "outputs": [
    {
     "data": {
      "text/html": [
       "<div>\n",
       "<style scoped>\n",
       "    .dataframe tbody tr th:only-of-type {\n",
       "        vertical-align: middle;\n",
       "    }\n",
       "\n",
       "    .dataframe tbody tr th {\n",
       "        vertical-align: top;\n",
       "    }\n",
       "\n",
       "    .dataframe thead th {\n",
       "        text-align: right;\n",
       "    }\n",
       "</style>\n",
       "<table border=\"1\" class=\"dataframe\">\n",
       "  <thead>\n",
       "    <tr style=\"text-align: right;\">\n",
       "      <th></th>\n",
       "      <th>subreddit</th>\n",
       "      <th>AvgContentScore</th>\n",
       "    </tr>\n",
       "  </thead>\n",
       "  <tbody>\n",
       "    <tr>\n",
       "      <th>0</th>\n",
       "      <td>videos</td>\n",
       "      <td>12.649445</td>\n",
       "    </tr>\n",
       "    <tr>\n",
       "      <th>1</th>\n",
       "      <td>pics</td>\n",
       "      <td>12.216559</td>\n",
       "    </tr>\n",
       "    <tr>\n",
       "      <th>2</th>\n",
       "      <td>funny</td>\n",
       "      <td>12.041505</td>\n",
       "    </tr>\n",
       "    <tr>\n",
       "      <th>3</th>\n",
       "      <td>AdviceAnimals</td>\n",
       "      <td>11.251696</td>\n",
       "    </tr>\n",
       "    <tr>\n",
       "      <th>4</th>\n",
       "      <td>soccer</td>\n",
       "      <td>10.634628</td>\n",
       "    </tr>\n",
       "    <tr>\n",
       "      <th>5</th>\n",
       "      <td>movies</td>\n",
       "      <td>9.820150</td>\n",
       "    </tr>\n",
       "    <tr>\n",
       "      <th>6</th>\n",
       "      <td>nfl</td>\n",
       "      <td>9.048349</td>\n",
       "    </tr>\n",
       "    <tr>\n",
       "      <th>7</th>\n",
       "      <td>nba</td>\n",
       "      <td>9.032795</td>\n",
       "    </tr>\n",
       "    <tr>\n",
       "      <th>8</th>\n",
       "      <td>news</td>\n",
       "      <td>8.673421</td>\n",
       "    </tr>\n",
       "    <tr>\n",
       "      <th>9</th>\n",
       "      <td>worldnews</td>\n",
       "      <td>7.866837</td>\n",
       "    </tr>\n",
       "    <tr>\n",
       "      <th>10</th>\n",
       "      <td>hockey</td>\n",
       "      <td>6.520121</td>\n",
       "    </tr>\n",
       "    <tr>\n",
       "      <th>11</th>\n",
       "      <td>leagueoflegends</td>\n",
       "      <td>5.983558</td>\n",
       "    </tr>\n",
       "    <tr>\n",
       "      <th>12</th>\n",
       "      <td>DotA2</td>\n",
       "      <td>4.880538</td>\n",
       "    </tr>\n",
       "    <tr>\n",
       "      <th>13</th>\n",
       "      <td>GlobalOffensive</td>\n",
       "      <td>4.351442</td>\n",
       "    </tr>\n",
       "    <tr>\n",
       "      <th>14</th>\n",
       "      <td>DestinyTheGame</td>\n",
       "      <td>3.028882</td>\n",
       "    </tr>\n",
       "  </tbody>\n",
       "</table>\n",
       "</div>"
      ],
      "text/plain": [
       "          subreddit  AvgContentScore\n",
       "0            videos        12.649445\n",
       "1              pics        12.216559\n",
       "2             funny        12.041505\n",
       "3     AdviceAnimals        11.251696\n",
       "4            soccer        10.634628\n",
       "5            movies         9.820150\n",
       "6               nfl         9.048349\n",
       "7               nba         9.032795\n",
       "8              news         8.673421\n",
       "9         worldnews         7.866837\n",
       "10           hockey         6.520121\n",
       "11  leagueoflegends         5.983558\n",
       "12            DotA2         4.880538\n",
       "13  GlobalOffensive         4.351442\n",
       "14   DestinyTheGame         3.028882"
      ]
     },
     "execution_count": 26,
     "metadata": {},
     "output_type": "execute_result"
    }
   ],
   "source": [
    "subreddits_joined.registerTempTable(\"subreddits_joined\")\n",
    "\n",
    "query = \"\"\"\n",
    "SELECT\n",
    "    subreddit,\n",
    "    AVG(score) as AvgContentScore\n",
    "FROM subreddits_joined\n",
    "GROUP BY subreddit\n",
    "ORDER BY AvgContentScore DESC\n",
    "\"\"\"\n",
    "\n",
    "score_counts = spark.sql(query)\n",
    "score_counts = score_counts.toPandas()\n",
    "score_counts"
   ]
  },
  {
   "cell_type": "markdown",
   "metadata": {},
   "source": [
    "## B2. Moderator assignment based on Subreddit Textual Content\n",
    "\n",
    "Different subreddits follow different communication styles inherent in the topic and the community. Having said that, the goal is to discover similar subreddits by only looking at the *words* present in the posted messages. Once such a list of similar subreddits is identified, an appropriately chosen moderator can then be assigned to all these subreddits.\n",
    "\n",
    "Specifically, the task boils down to computing a similarity score between two subreddits based on the *words* present in their textual content. Your first idea is to use the *Jaccard similarity*, which is defined as the size of the intersection of two sets divided by the size of their union.\n",
    "\n",
    "$Jaccard(A,B) = \\frac{|A \\cap B|}{|A \\cup B|}$"
   ]
  },
  {
   "cell_type": "code",
   "execution_count": 27,
   "metadata": {},
   "outputs": [],
   "source": [
    "def jaccard_similarity(list1, list2):\n",
    "    s1 = set(list1)\n",
    "    s2 = set(list2)\n",
    "    return len(s1.intersection(s2)) / len(s1.union(s2))"
   ]
  },
  {
   "cell_type": "markdown",
   "metadata": {},
   "source": [
    "### B2.1.\n",
    "The first step requires constructing a set representation of each subreddit. The goal is to represent each subreddit as a *set of words* existing in the messages posted on that subreddit. Compute the 50,000 most frequent words across all the provided subreddits. Construct a representation for each subreddit by retaining only the words found in the previously identified set of 50,000 frequent words.\n",
    "\n",
    "Some rules:\n",
    " * Words are defined as tokens matching the regular expression `\\W`\n",
    " * Remove all the stop-words (English language)\n",
    "\n",
    "*Note: You might find the [RegexTokenizer](https://spark.apache.org/docs/2.2.0/ml-features.html#tokenizer) and the [StopWordsRemover](https://spark.apache.org/docs/2.2.0/ml-features.html#stopwordsremover) utilities available in the package pyspark.ml useful for this task as they help you in transforming the features and removing stopwords.*"
   ]
  },
  {
   "cell_type": "code",
   "execution_count": 36,
   "metadata": {},
   "outputs": [
    {
     "name": "stdout",
     "output_type": "stream",
     "text": [
      "+--------------------+--------------------+-------+---------------+-------+-----+--------------------+\n",
      "|              author|                body|     id|      subreddit|     id|score|               words|\n",
      "+--------------------+--------------------+-------+---------------+-------+-----+--------------------+\n",
      "|      FIDEL_CASHFLOW|   it's worth a shot|cqugak4|            nfl|cqugak4|    2|[it, s, worth, a,...|\n",
      "|       Heyo_Maggots_|I'm using: http:/...|cqugb1r|            nfl|cqugb1r|    1|[i, m, using, htt...|\n",
      "|              Donk72|Starting to feel ...|cqugcoc|          funny|cqugcoc|    1|[starting, to, fe...|\n",
      "|               S8975|           Very cool|cqugext|           pics|cqugext|   11|        [very, cool]|\n",
      "|             brutmax|Jesus a technical...|cqugg53|            nba|cqugg53|   -4|[jesus, a, techni...|\n",
      "|        Alexlsonflre|Pleasedon'tfuckth...|cqugh9s|            nfl|cqugh9s|    6|[pleasedon, tfuck...|\n",
      "|            PSU19420|Mel Kiper clearly...|cqugiqi|            nfl|cqugiqi|    5|[mel, kiper, clea...|\n",
      "|             JKaye57|Thatta boy Marty....|cqugisy|         hockey|cqugisy|    2|[thatta, boy, mar...|\n",
      "|       BlaggerDagger|Government checks...|cqugkli|          funny|cqugkli|   -7|[government, chec...|\n",
      "|       AutoModerator|Hello /u/evg7773,...|cqugkyz|         videos|cqugkyz|    1|[hello, u, evg777...|\n",
      "|           envious_1|Yeah but someone ...|cqugl97|leagueoflegends|cqugl97|  136|[yeah, but, someo...|\n",
      "|           Nonsuch33|That cat is my so...|cqugo6w|         videos|cqugo6w|    1|[that, cat, is, m...|\n",
      "|           lippycruz|           12mb hmmm|cqugr7w|          DotA2|cqugr7w|    1|        [12mb, hmmm]|\n",
      "|             2222lil|Sometimes people ...|cqugrro|            nfl|cqugrro|    2|[sometimes, peopl...|\n",
      "|           WriteOnSC|Have the first tw...|cqugtm4|            nfl|cqugtm4|    1|[have, the, first...|\n",
      "|       PlantingATree|Im gonna have a h...|cqugtmi|            nfl|cqugtmi|    3|[im, gonna, have,...|\n",
      "|          CBass32001|Rofl, racism? Go ...|cqugtpa|            nfl|cqugtpa|    1|[rofl, racism, go...|\n",
      "|     New__York__Bozo|So this is what \"...|cqugtux|            nfl|cqugtux|    4|[so, this, is, wh...|\n",
      "|     DirtyStanBoozie|Something happen ...|cqugu7d|            nfl|cqugu7d|    4|[something, happe...|\n",
      "|BigScarySmokeMonster|LETS CUT TO YOUNG...|cqugv4j|            nfl|cqugv4j|    7|[lets, cut, to, y...|\n",
      "+--------------------+--------------------+-------+---------------+-------+-----+--------------------+\n",
      "only showing top 20 rows\n",
      "\n"
     ]
    }
   ],
   "source": [
    "from pyspark.ml.feature import StopWordsRemover\n",
    "from pyspark.ml.feature import Tokenizer, RegexTokenizer\n",
    "from pyspark.sql.functions import array\n",
    "from pyspark.sql.functions import col, udf\n",
    "from pyspark.sql.types import IntegerType\n",
    "\n",
    "regexTokenizer = RegexTokenizer(inputCol=\"body\", outputCol=\"words\", pattern=\"\\\\W\")\n",
    "countTokens = udf(lambda words: len(words), IntegerType())\n",
    "regexTokenized = regexTokenizer.transform(subreddits_joined)\n",
    "regexTokenized.show()"
   ]
  },
  {
   "cell_type": "code",
   "execution_count": 37,
   "metadata": {},
   "outputs": [
    {
     "name": "stdout",
     "output_type": "stream",
     "text": [
      "+--------------------+--------------------+-------+---------------+-------+-----+--------------------+--------------------+\n",
      "|              author|                body|     id|      subreddit|     id|score|               words|      filtered_words|\n",
      "+--------------------+--------------------+-------+---------------+-------+-----+--------------------+--------------------+\n",
      "|      FIDEL_CASHFLOW|   it's worth a shot|cqugak4|            nfl|cqugak4|    2|[it, s, worth, a,...|       [worth, shot]|\n",
      "|       Heyo_Maggots_|I'm using: http:/...|cqugb1r|            nfl|cqugb1r|    1|[i, m, using, htt...|[m, using, http, ...|\n",
      "|              Donk72|Starting to feel ...|cqugcoc|          funny|cqugcoc|    1|[starting, to, fe...|[starting, feel, ...|\n",
      "|               S8975|           Very cool|cqugext|           pics|cqugext|   11|        [very, cool]|              [cool]|\n",
      "|             brutmax|Jesus a technical...|cqugg53|            nba|cqugg53|   -4|[jesus, a, techni...|[jesus, technical...|\n",
      "|        Alexlsonflre|Pleasedon'tfuckth...|cqugh9s|            nfl|cqugh9s|    6|[pleasedon, tfuck...|[pleasedon, tfuck...|\n",
      "|            PSU19420|Mel Kiper clearly...|cqugiqi|            nfl|cqugiqi|    5|[mel, kiper, clea...|[mel, kiper, clea...|\n",
      "|             JKaye57|Thatta boy Marty....|cqugisy|         hockey|cqugisy|    2|[thatta, boy, mar...|[thatta, boy, mar...|\n",
      "|       BlaggerDagger|Government checks...|cqugkli|          funny|cqugkli|   -7|[government, chec...|[government, checks]|\n",
      "|       AutoModerator|Hello /u/evg7773,...|cqugkyz|         videos|cqugkyz|    1|[hello, u, evg777...|[hello, u, evg777...|\n",
      "|           envious_1|Yeah but someone ...|cqugl97|leagueoflegends|cqugl97|  136|[yeah, but, someo...|[yeah, someone, r...|\n",
      "|           Nonsuch33|That cat is my so...|cqugo6w|         videos|cqugo6w|    1|[that, cat, is, m...|[cat, social, lif...|\n",
      "|           lippycruz|           12mb hmmm|cqugr7w|          DotA2|cqugr7w|    1|        [12mb, hmmm]|        [12mb, hmmm]|\n",
      "|             2222lil|Sometimes people ...|cqugrro|            nfl|cqugrro|    2|[sometimes, peopl...|[sometimes, peopl...|\n",
      "|           WriteOnSC|Have the first tw...|cqugtm4|            nfl|cqugtm4|    1|[have, the, first...|[first, two, draf...|\n",
      "|       PlantingATree|Im gonna have a h...|cqugtmi|            nfl|cqugtmi|    3|[im, gonna, have,...|[im, gonna, heart...|\n",
      "|          CBass32001|Rofl, racism? Go ...|cqugtpa|            nfl|cqugtpa|    1|[rofl, racism, go...|[rofl, racism, go...|\n",
      "|     New__York__Bozo|So this is what \"...|cqugtux|            nfl|cqugtux|    4|[so, this, is, wh...|[edging, feels, l...|\n",
      "|     DirtyStanBoozie|Something happen ...|cqugu7d|            nfl|cqugu7d|    4|[something, happe...|[something, happe...|\n",
      "|BigScarySmokeMonster|LETS CUT TO YOUNG...|cqugv4j|            nfl|cqugv4j|    7|[lets, cut, to, y...|[lets, cut, young...|\n",
      "+--------------------+--------------------+-------+---------------+-------+-----+--------------------+--------------------+\n",
      "only showing top 20 rows\n",
      "\n"
     ]
    }
   ],
   "source": [
    "remover = StopWordsRemover(inputCol=\"words\", outputCol=\"filtered_words\")\n",
    "subreddits_stpw_rmd = remover.transform(regexTokenized)\n",
    "subreddits_stpw_rmd.show()"
   ]
  },
  {
   "cell_type": "code",
   "execution_count": 69,
   "metadata": {},
   "outputs": [
    {
     "data": {
      "text/plain": [
       "[('like', 1018978), ('people', 745031), ('get', 691349)]"
      ]
     },
     "execution_count": 69,
     "metadata": {},
     "output_type": "execute_result"
    }
   ],
   "source": [
    "all_words = subreddits_stpw_rmd.rdd.flatMap(lambda row: [(w,1) for w in row.filtered_words])\n",
    "word_counts_rdd = all_words.reduceByKey(lambda a, b: a+b).sortBy(lambda r: -r[1])\n",
    "word_counts_rdd.take(3)"
   ]
  },
  {
   "cell_type": "code",
   "execution_count": 70,
   "metadata": {},
   "outputs": [
    {
     "name": "stdout",
     "output_type": "stream",
     "text": [
      "+------+-------+\n",
      "|  Word|  Count|\n",
      "+------+-------+\n",
      "|  like|1018978|\n",
      "|people| 745031|\n",
      "|   get| 691349|\n",
      "|   one| 682820|\n",
      "| think| 575352|\n",
      "|     m| 569057|\n",
      "|    re| 517827|\n",
      "|   com| 497303|\n",
      "|  time| 456060|\n",
      "|  good| 454768|\n",
      "|  game| 452376|\n",
      "|really| 451527|\n",
      "|  even| 432973|\n",
      "|  know| 413379|\n",
      "|    gt| 404776|\n",
      "|  http| 395552|\n",
      "|  well| 352021|\n",
      "|   see| 351081|\n",
      "|  much| 348304|\n",
      "|  also| 333478|\n",
      "+------+-------+\n",
      "only showing top 20 rows\n",
      "\n"
     ]
    }
   ],
   "source": [
    "word_counts_rdd_with_schema = word_counts_rdd.map(lambda r: Row(Word=r[0], Count=r[1]))\n",
    "word_counts = spark.createDataFrame(word_counts_rdd_with_schema)\n",
    "word_counts.show()"
   ]
  },
  {
   "cell_type": "code",
   "execution_count": 79,
   "metadata": {},
   "outputs": [],
   "source": [
    "top_words = word_counts.select(\"Word\").limit(10)"
   ]
  },
  {
   "cell_type": "code",
   "execution_count": 94,
   "metadata": {},
   "outputs": [
    {
     "data": {
      "text/plain": [
       "DataFrame[Word: string]"
      ]
     },
     "execution_count": 94,
     "metadata": {},
     "output_type": "execute_result"
    }
   ],
   "source": [
    "top_words"
   ]
  },
  {
   "cell_type": "code",
   "execution_count": 46,
   "metadata": {},
   "outputs": [
    {
     "ename": "KeyboardInterrupt",
     "evalue": "",
     "output_type": "error",
     "traceback": [
      "\u001b[1;31m---------------------------------------------------------------------------\u001b[0m",
      "\u001b[1;31mKeyboardInterrupt\u001b[0m                         Traceback (most recent call last)",
      "\u001b[1;32m<ipython-input-46-925bd83461c8>\u001b[0m in \u001b[0;36m<module>\u001b[1;34m\u001b[0m\n\u001b[1;32m----> 1\u001b[1;33m \u001b[0msubreddits_stpw_rmd\u001b[0m\u001b[1;33m.\u001b[0m\u001b[0mtake\u001b[0m\u001b[1;33m(\u001b[0m\u001b[1;36m3\u001b[0m\u001b[1;33m)\u001b[0m\u001b[1;33m\u001b[0m\u001b[1;33m\u001b[0m\u001b[0m\n\u001b[0m",
      "\u001b[1;32m~\\.conda\\envs\\ada\\lib\\site-packages\\pyspark\\sql\\dataframe.py\u001b[0m in \u001b[0;36mtake\u001b[1;34m(self, num)\u001b[0m\n\u001b[0;32m    637\u001b[0m         \u001b[1;33m[\u001b[0m\u001b[0mRow\u001b[0m\u001b[1;33m(\u001b[0m\u001b[0mage\u001b[0m\u001b[1;33m=\u001b[0m\u001b[1;36m2\u001b[0m\u001b[1;33m,\u001b[0m \u001b[0mname\u001b[0m\u001b[1;33m=\u001b[0m\u001b[1;34mu'Alice'\u001b[0m\u001b[1;33m)\u001b[0m\u001b[1;33m,\u001b[0m \u001b[0mRow\u001b[0m\u001b[1;33m(\u001b[0m\u001b[0mage\u001b[0m\u001b[1;33m=\u001b[0m\u001b[1;36m5\u001b[0m\u001b[1;33m,\u001b[0m \u001b[0mname\u001b[0m\u001b[1;33m=\u001b[0m\u001b[1;34mu'Bob'\u001b[0m\u001b[1;33m)\u001b[0m\u001b[1;33m]\u001b[0m\u001b[1;33m\u001b[0m\u001b[1;33m\u001b[0m\u001b[0m\n\u001b[0;32m    638\u001b[0m         \"\"\"\n\u001b[1;32m--> 639\u001b[1;33m         \u001b[1;32mreturn\u001b[0m \u001b[0mself\u001b[0m\u001b[1;33m.\u001b[0m\u001b[0mlimit\u001b[0m\u001b[1;33m(\u001b[0m\u001b[0mnum\u001b[0m\u001b[1;33m)\u001b[0m\u001b[1;33m.\u001b[0m\u001b[0mcollect\u001b[0m\u001b[1;33m(\u001b[0m\u001b[1;33m)\u001b[0m\u001b[1;33m\u001b[0m\u001b[1;33m\u001b[0m\u001b[0m\n\u001b[0m\u001b[0;32m    640\u001b[0m \u001b[1;33m\u001b[0m\u001b[0m\n\u001b[0;32m    641\u001b[0m     \u001b[1;33m@\u001b[0m\u001b[0mignore_unicode_prefix\u001b[0m\u001b[1;33m\u001b[0m\u001b[1;33m\u001b[0m\u001b[0m\n",
      "\u001b[1;32m~\\.conda\\envs\\ada\\lib\\site-packages\\pyspark\\sql\\dataframe.py\u001b[0m in \u001b[0;36mcollect\u001b[1;34m(self)\u001b[0m\n\u001b[0;32m    594\u001b[0m         \"\"\"\n\u001b[0;32m    595\u001b[0m         \u001b[1;32mwith\u001b[0m \u001b[0mSCCallSiteSync\u001b[0m\u001b[1;33m(\u001b[0m\u001b[0mself\u001b[0m\u001b[1;33m.\u001b[0m\u001b[0m_sc\u001b[0m\u001b[1;33m)\u001b[0m \u001b[1;32mas\u001b[0m \u001b[0mcss\u001b[0m\u001b[1;33m:\u001b[0m\u001b[1;33m\u001b[0m\u001b[1;33m\u001b[0m\u001b[0m\n\u001b[1;32m--> 596\u001b[1;33m             \u001b[0msock_info\u001b[0m \u001b[1;33m=\u001b[0m \u001b[0mself\u001b[0m\u001b[1;33m.\u001b[0m\u001b[0m_jdf\u001b[0m\u001b[1;33m.\u001b[0m\u001b[0mcollectToPython\u001b[0m\u001b[1;33m(\u001b[0m\u001b[1;33m)\u001b[0m\u001b[1;33m\u001b[0m\u001b[1;33m\u001b[0m\u001b[0m\n\u001b[0m\u001b[0;32m    597\u001b[0m         \u001b[1;32mreturn\u001b[0m \u001b[0mlist\u001b[0m\u001b[1;33m(\u001b[0m\u001b[0m_load_from_socket\u001b[0m\u001b[1;33m(\u001b[0m\u001b[0msock_info\u001b[0m\u001b[1;33m,\u001b[0m \u001b[0mBatchedSerializer\u001b[0m\u001b[1;33m(\u001b[0m\u001b[0mPickleSerializer\u001b[0m\u001b[1;33m(\u001b[0m\u001b[1;33m)\u001b[0m\u001b[1;33m)\u001b[0m\u001b[1;33m)\u001b[0m\u001b[1;33m)\u001b[0m\u001b[1;33m\u001b[0m\u001b[1;33m\u001b[0m\u001b[0m\n\u001b[0;32m    598\u001b[0m \u001b[1;33m\u001b[0m\u001b[0m\n",
      "\u001b[1;32m~\\.conda\\envs\\ada\\lib\\site-packages\\py4j\\java_gateway.py\u001b[0m in \u001b[0;36m__call__\u001b[1;34m(self, *args)\u001b[0m\n\u001b[0;32m   1301\u001b[0m             \u001b[0mproto\u001b[0m\u001b[1;33m.\u001b[0m\u001b[0mEND_COMMAND_PART\u001b[0m\u001b[1;33m\u001b[0m\u001b[1;33m\u001b[0m\u001b[0m\n\u001b[0;32m   1302\u001b[0m \u001b[1;33m\u001b[0m\u001b[0m\n\u001b[1;32m-> 1303\u001b[1;33m         \u001b[0manswer\u001b[0m \u001b[1;33m=\u001b[0m \u001b[0mself\u001b[0m\u001b[1;33m.\u001b[0m\u001b[0mgateway_client\u001b[0m\u001b[1;33m.\u001b[0m\u001b[0msend_command\u001b[0m\u001b[1;33m(\u001b[0m\u001b[0mcommand\u001b[0m\u001b[1;33m)\u001b[0m\u001b[1;33m\u001b[0m\u001b[1;33m\u001b[0m\u001b[0m\n\u001b[0m\u001b[0;32m   1304\u001b[0m         return_value = get_return_value(\n\u001b[0;32m   1305\u001b[0m             answer, self.gateway_client, self.target_id, self.name)\n",
      "\u001b[1;32m~\\.conda\\envs\\ada\\lib\\site-packages\\py4j\\java_gateway.py\u001b[0m in \u001b[0;36msend_command\u001b[1;34m(self, command, retry, binary)\u001b[0m\n\u001b[0;32m   1031\u001b[0m         \u001b[0mconnection\u001b[0m \u001b[1;33m=\u001b[0m \u001b[0mself\u001b[0m\u001b[1;33m.\u001b[0m\u001b[0m_get_connection\u001b[0m\u001b[1;33m(\u001b[0m\u001b[1;33m)\u001b[0m\u001b[1;33m\u001b[0m\u001b[1;33m\u001b[0m\u001b[0m\n\u001b[0;32m   1032\u001b[0m         \u001b[1;32mtry\u001b[0m\u001b[1;33m:\u001b[0m\u001b[1;33m\u001b[0m\u001b[1;33m\u001b[0m\u001b[0m\n\u001b[1;32m-> 1033\u001b[1;33m             \u001b[0mresponse\u001b[0m \u001b[1;33m=\u001b[0m \u001b[0mconnection\u001b[0m\u001b[1;33m.\u001b[0m\u001b[0msend_command\u001b[0m\u001b[1;33m(\u001b[0m\u001b[0mcommand\u001b[0m\u001b[1;33m)\u001b[0m\u001b[1;33m\u001b[0m\u001b[1;33m\u001b[0m\u001b[0m\n\u001b[0m\u001b[0;32m   1034\u001b[0m             \u001b[1;32mif\u001b[0m \u001b[0mbinary\u001b[0m\u001b[1;33m:\u001b[0m\u001b[1;33m\u001b[0m\u001b[1;33m\u001b[0m\u001b[0m\n\u001b[0;32m   1035\u001b[0m                 \u001b[1;32mreturn\u001b[0m \u001b[0mresponse\u001b[0m\u001b[1;33m,\u001b[0m \u001b[0mself\u001b[0m\u001b[1;33m.\u001b[0m\u001b[0m_create_connection_guard\u001b[0m\u001b[1;33m(\u001b[0m\u001b[0mconnection\u001b[0m\u001b[1;33m)\u001b[0m\u001b[1;33m\u001b[0m\u001b[1;33m\u001b[0m\u001b[0m\n",
      "\u001b[1;32m~\\.conda\\envs\\ada\\lib\\site-packages\\py4j\\java_gateway.py\u001b[0m in \u001b[0;36msend_command\u001b[1;34m(self, command)\u001b[0m\n\u001b[0;32m   1198\u001b[0m \u001b[1;33m\u001b[0m\u001b[0m\n\u001b[0;32m   1199\u001b[0m         \u001b[1;32mtry\u001b[0m\u001b[1;33m:\u001b[0m\u001b[1;33m\u001b[0m\u001b[1;33m\u001b[0m\u001b[0m\n\u001b[1;32m-> 1200\u001b[1;33m             \u001b[0manswer\u001b[0m \u001b[1;33m=\u001b[0m \u001b[0msmart_decode\u001b[0m\u001b[1;33m(\u001b[0m\u001b[0mself\u001b[0m\u001b[1;33m.\u001b[0m\u001b[0mstream\u001b[0m\u001b[1;33m.\u001b[0m\u001b[0mreadline\u001b[0m\u001b[1;33m(\u001b[0m\u001b[1;33m)\u001b[0m\u001b[1;33m[\u001b[0m\u001b[1;33m:\u001b[0m\u001b[1;33m-\u001b[0m\u001b[1;36m1\u001b[0m\u001b[1;33m]\u001b[0m\u001b[1;33m)\u001b[0m\u001b[1;33m\u001b[0m\u001b[1;33m\u001b[0m\u001b[0m\n\u001b[0m\u001b[0;32m   1201\u001b[0m             \u001b[0mlogger\u001b[0m\u001b[1;33m.\u001b[0m\u001b[0mdebug\u001b[0m\u001b[1;33m(\u001b[0m\u001b[1;34m\"Answer received: {0}\"\u001b[0m\u001b[1;33m.\u001b[0m\u001b[0mformat\u001b[0m\u001b[1;33m(\u001b[0m\u001b[0manswer\u001b[0m\u001b[1;33m)\u001b[0m\u001b[1;33m)\u001b[0m\u001b[1;33m\u001b[0m\u001b[1;33m\u001b[0m\u001b[0m\n\u001b[0;32m   1202\u001b[0m             \u001b[1;32mif\u001b[0m \u001b[0manswer\u001b[0m\u001b[1;33m.\u001b[0m\u001b[0mstartswith\u001b[0m\u001b[1;33m(\u001b[0m\u001b[0mproto\u001b[0m\u001b[1;33m.\u001b[0m\u001b[0mRETURN_MESSAGE\u001b[0m\u001b[1;33m)\u001b[0m\u001b[1;33m:\u001b[0m\u001b[1;33m\u001b[0m\u001b[1;33m\u001b[0m\u001b[0m\n",
      "\u001b[1;32m~\\.conda\\envs\\ada\\lib\\socket.py\u001b[0m in \u001b[0;36mreadinto\u001b[1;34m(self, b)\u001b[0m\n\u001b[0;32m    667\u001b[0m         \u001b[1;32mwhile\u001b[0m \u001b[1;32mTrue\u001b[0m\u001b[1;33m:\u001b[0m\u001b[1;33m\u001b[0m\u001b[1;33m\u001b[0m\u001b[0m\n\u001b[0;32m    668\u001b[0m             \u001b[1;32mtry\u001b[0m\u001b[1;33m:\u001b[0m\u001b[1;33m\u001b[0m\u001b[1;33m\u001b[0m\u001b[0m\n\u001b[1;32m--> 669\u001b[1;33m                 \u001b[1;32mreturn\u001b[0m \u001b[0mself\u001b[0m\u001b[1;33m.\u001b[0m\u001b[0m_sock\u001b[0m\u001b[1;33m.\u001b[0m\u001b[0mrecv_into\u001b[0m\u001b[1;33m(\u001b[0m\u001b[0mb\u001b[0m\u001b[1;33m)\u001b[0m\u001b[1;33m\u001b[0m\u001b[1;33m\u001b[0m\u001b[0m\n\u001b[0m\u001b[0;32m    670\u001b[0m             \u001b[1;32mexcept\u001b[0m \u001b[0mtimeout\u001b[0m\u001b[1;33m:\u001b[0m\u001b[1;33m\u001b[0m\u001b[1;33m\u001b[0m\u001b[0m\n\u001b[0;32m    671\u001b[0m                 \u001b[0mself\u001b[0m\u001b[1;33m.\u001b[0m\u001b[0m_timeout_occurred\u001b[0m \u001b[1;33m=\u001b[0m \u001b[1;32mTrue\u001b[0m\u001b[1;33m\u001b[0m\u001b[1;33m\u001b[0m\u001b[0m\n",
      "\u001b[1;31mKeyboardInterrupt\u001b[0m: "
     ]
    }
   ],
   "source": [
    "subreddits_stpw_rmd.take(3)"
   ]
  },
  {
   "cell_type": "code",
   "execution_count": null,
   "metadata": {},
   "outputs": [],
   "source": []
  },
  {
   "cell_type": "markdown",
   "metadata": {},
   "source": [
    "### B2.2.\n",
    "* Compute the Jaccard similarity between all the subreddits using the set representation obtained in step **B2.1.**, and plot in a heatmap the similarity values of all the pairs of subreddits.\n",
    "* Analyze this plot and discuss your observations. Do you observe that subreddits corresponding to similar topics possess higher Jaccard similarity?\n",
    "* Provide detailed interpretations of the obtained results. Specifically,\n",
    "    - Explain the limitations of your conclusions, and discuss the potential reasons.\n",
    "    - Explain the potential problems with the Jaccard similarity function."
   ]
  },
  {
   "cell_type": "code",
   "execution_count": null,
   "metadata": {},
   "outputs": [],
   "source": []
  },
  {
   "cell_type": "markdown",
   "metadata": {},
   "source": [
    "### B2.3.\n",
    "\n",
    "* Alternatively, compute the 1000 most frequent words for each subreddit, construct its representation as the set of top-1000 words, and print a heatmap with the Jaccard similarity like in step **B2.2.**.\n",
    "* Explain your observations in detail: how and why is this new result different from the one obtained in **B2.2.**?\n",
    "\n",
    "*Note: Use the same rules specified in B2.1: words tokenized with the regex \\W and stop-words removed*"
   ]
  },
  {
   "cell_type": "code",
   "execution_count": null,
   "metadata": {},
   "outputs": [],
   "source": []
  },
  {
   "cell_type": "markdown",
   "metadata": {},
   "source": [
    "## B3. Moderator assignment based on Subreddit Users\n",
    "\n",
    "Subreddits can be seen as communities of people interacting about a common topic. As an alternative to the *textual content* based similarity in **B2**, your task here is to validate if similarity between two subreddits can be measured based on their participating users.\n",
    "\n",
    "Of course users are not monothematic, and they interact with multiple subreddits. In this task, we are specifically interested in observing the amount of overlap across different subreddits based on their participating users. Similar to **B2**, the overlap is measured using the *Jaccard similarity*.\n",
    "\n",
    "\n",
    "### B3.1.\n",
    "Construct a set representation of each subreddit as the users that posted at least one time in that subreddit.\n",
    "\n",
    "Some users are very talkative and active across different topics. Print the username of the person that posted in the maximum number of subreddits. *Note that users who posted at least once in a subreddit are considered as participant of that subreddit.*"
   ]
  },
  {
   "cell_type": "code",
   "execution_count": null,
   "metadata": {},
   "outputs": [],
   "source": []
  },
  {
   "cell_type": "markdown",
   "metadata": {},
   "source": [
    "### B3.2.\n",
    "\n",
    "* Compute the Jaccard similarity between all the subreddits using the set representation obtained in step **B3.1.**, and visualise it similar to **B2**.\n",
    "* Analyze this plot, identify highly similar pairs of subreddits, and clearly describe your observations."
   ]
  },
  {
   "cell_type": "code",
   "execution_count": null,
   "metadata": {},
   "outputs": [],
   "source": []
  },
  {
   "cell_type": "markdown",
   "metadata": {},
   "source": [
    "## B4. Language vs. Users similarity\n",
    "    \n",
    "* Visualize the similarity scores based on word (**B2.3.**) and user (**B3**) similarity on the x and y axes respectively for the subreddit `NBA` compared to all the other subreddits. Do some semantically meaningful groups emerge? Provide clear explanataions of your observations.\n",
    "* Furthermore, do you observe differences in similarities between various sports-related subreddits in the dataset? Please provide explanations of the reasons behind these differences, if any!"
   ]
  },
  {
   "cell_type": "code",
   "execution_count": null,
   "metadata": {},
   "outputs": [],
   "source": []
  }
 ],
 "metadata": {
  "kernelspec": {
   "display_name": "Python 3",
   "language": "python",
   "name": "python3"
  },
  "language_info": {
   "codemirror_mode": {
    "name": "ipython",
    "version": 3
   },
   "file_extension": ".py",
   "mimetype": "text/x-python",
   "name": "python",
   "nbconvert_exporter": "python",
   "pygments_lexer": "ipython3",
   "version": "3.8.5"
  }
 },
 "nbformat": 4,
 "nbformat_minor": 4
}
