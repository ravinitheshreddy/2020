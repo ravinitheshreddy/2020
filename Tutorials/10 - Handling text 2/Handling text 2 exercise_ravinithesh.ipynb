{
 "cells": [
  {
   "cell_type": "code",
   "execution_count": 1,
   "metadata": {},
   "outputs": [],
   "source": [
    "import numpy as np\n",
    "import pandas as pd\n",
    "import matplotlib.pyplot as plt\n",
    "%matplotlib inline\n",
    "from sklearn.linear_model import LogisticRegressionCV\n",
    "from sklearn.decomposition import TruncatedSVD\n",
    "from sklearn.feature_extraction.text import TfidfVectorizer\n",
    "from helpers.helper_functions import *"
   ]
  },
  {
   "cell_type": "markdown",
   "metadata": {},
   "source": [
    "# Handling text 2 exercise\n",
    "[Handling text exercisses ADApted drom ADA 2018 final exam]\n",
    "\n",
    "The Sheldon Cooper we all know and love (OK, some of us might not know him, and some might not love him) from the TV series \"The Big Bang Theory\" has gotten into an argument with Leonard from the same TV show. Sheldon insists that he knows the show better than anyone, and keeps making various claims about the show, which neither of them know how to prove or disprove. The two of them have reached out to you ladies and gentlemen, as data scientists, to help them. You will be given the full script of the series, with information on the episode, the scene, the person saying each dialogue line, and the dialogue lines themselves.\n",
    "\n",
    "Leonard has challenged several of Sheldon's claims about the show, and throughout this exam you will see some of those and you will get to prove or disprove them, but remember: sometimes, we can neither prove a claim, nor disprove it!"
   ]
  },
  {
   "cell_type": "markdown",
   "metadata": {},
   "source": [
    "## Task A: Picking up the shovel\n",
    "\n",
    "**Note: You will use the data you preprocess in this task in all the subsequent ones.**\n",
    "\n",
    "Our friends' argument concerns the entire show. We have given you a file in the `data/` folder that contains the script of every single episode. New episodes are indicated by '>>', new scenes by '>', and the rest of the lines are dialogue lines. Some lines are said by multiple people (for example, lines indicated by 'All' or 'Together'); **you must discard these lines**, for the sake of simplicity. However, you do not need to do it for Q1 in this task -- you'll take care of it when you solve Q2.\n",
    "\n",
    "**Q1**. Your first task is to extract all lines of dialogue in each scene and episode, creating a dataframe where each row has the episode and scene where a dialogue line was said, the character who said it, and the line itself. You do not need to extract the proper name of the episode (e.g. episode 1 can appear as \"Series 01 Episode 01 - Pilot Episode\", and doesn't need to appear as \"Pilot Episode\"). Then, answer the following question: In total, how many scenes are there in each season? We're not asking about unique scenes; the same location appearing in two episodes counts as two scenes. You can use a Pandas dataframe with a season column and a scene count column as the response.\n",
    "\n",
    "**Note: The data refers to seasons as \"series\".**"
   ]
  },
  {
   "cell_type": "code",
   "execution_count": 2,
   "metadata": {},
   "outputs": [
    {
     "data": {
      "text/html": [
       "<div>\n",
       "<style scoped>\n",
       "    .dataframe tbody tr th:only-of-type {\n",
       "        vertical-align: middle;\n",
       "    }\n",
       "\n",
       "    .dataframe tbody tr th {\n",
       "        vertical-align: top;\n",
       "    }\n",
       "\n",
       "    .dataframe thead th {\n",
       "        text-align: right;\n",
       "    }\n",
       "</style>\n",
       "<table border=\"1\" class=\"dataframe\">\n",
       "  <thead>\n",
       "    <tr style=\"text-align: right;\">\n",
       "      <th></th>\n",
       "      <th>season</th>\n",
       "      <th>epi_num</th>\n",
       "      <th>epi_name</th>\n",
       "      <th>scene</th>\n",
       "      <th>character</th>\n",
       "      <th>dialogue</th>\n",
       "    </tr>\n",
       "  </thead>\n",
       "  <tbody>\n",
       "    <tr>\n",
       "      <th>0</th>\n",
       "      <td>1</td>\n",
       "      <td>1</td>\n",
       "      <td>Pilot Episode</td>\n",
       "      <td>A corridor at a sperm bank.</td>\n",
       "      <td>Sheldon</td>\n",
       "      <td>So if a photon is directed through a plane wit...</td>\n",
       "    </tr>\n",
       "    <tr>\n",
       "      <th>1</th>\n",
       "      <td>1</td>\n",
       "      <td>1</td>\n",
       "      <td>Pilot Episode</td>\n",
       "      <td>A corridor at a sperm bank.</td>\n",
       "      <td>Leonard</td>\n",
       "      <td>Agreed, what’s your point?</td>\n",
       "    </tr>\n",
       "    <tr>\n",
       "      <th>2</th>\n",
       "      <td>1</td>\n",
       "      <td>1</td>\n",
       "      <td>Pilot Episode</td>\n",
       "      <td>A corridor at a sperm bank.</td>\n",
       "      <td>Sheldon</td>\n",
       "      <td>There’s no point, I just think it’s a good ide...</td>\n",
       "    </tr>\n",
       "    <tr>\n",
       "      <th>3</th>\n",
       "      <td>1</td>\n",
       "      <td>1</td>\n",
       "      <td>Pilot Episode</td>\n",
       "      <td>A corridor at a sperm bank.</td>\n",
       "      <td>Leonard</td>\n",
       "      <td>Excuse me?</td>\n",
       "    </tr>\n",
       "    <tr>\n",
       "      <th>4</th>\n",
       "      <td>1</td>\n",
       "      <td>1</td>\n",
       "      <td>Pilot Episode</td>\n",
       "      <td>A corridor at a sperm bank.</td>\n",
       "      <td>Receptionist</td>\n",
       "      <td>Hang on.</td>\n",
       "    </tr>\n",
       "  </tbody>\n",
       "</table>\n",
       "</div>"
      ],
      "text/plain": [
       "   season  epi_num       epi_name                        scene     character  \\\n",
       "0       1        1  Pilot Episode  A corridor at a sperm bank.       Sheldon   \n",
       "1       1        1  Pilot Episode  A corridor at a sperm bank.       Leonard   \n",
       "2       1        1  Pilot Episode  A corridor at a sperm bank.       Sheldon   \n",
       "3       1        1  Pilot Episode  A corridor at a sperm bank.       Leonard   \n",
       "4       1        1  Pilot Episode  A corridor at a sperm bank.  Receptionist   \n",
       "\n",
       "                                            dialogue  \n",
       "0  So if a photon is directed through a plane wit...  \n",
       "1                         Agreed, what’s your point?  \n",
       "2  There’s no point, I just think it’s a good ide...  \n",
       "3                                         Excuse me?  \n",
       "4                                           Hang on.  "
      ]
     },
     "execution_count": 2,
     "metadata": {},
     "output_type": "execute_result"
    }
   ],
   "source": [
    "# your code goes here\n",
    "column_names = [\"season\", \"epi_num\", \"epi_name\", \"scene\", \"character\", \"dialogue\"]\n",
    "all_lines = list() # list to store the data before creating the dataframe\n",
    "\n",
    "with open(\"./data/all_scripts.txt\", errors='ignore', encoding=\"utf8\") as scriptfile:\n",
    "    for line in scriptfile:\n",
    "        if line[:2] == \">>\":\n",
    "            descp = line.split(\" \")\n",
    "            season = int(descp[2])\n",
    "            epi_num = int(descp[4])\n",
    "            epi_name = descp[-1].strip()\n",
    "            continue\n",
    "        elif line[0] == \">\":\n",
    "            scene = line[2:].strip()\n",
    "            continue\n",
    "        else:\n",
    "            character, dialogue = line.split(\":\", 1)\n",
    "            all_lines.append([season, epi_num, epi_name, scene, character, dialogue.strip()])\n",
    "\n",
    "# create the dataframe        \n",
    "bigbang = pd.DataFrame(data = all_lines, columns = column_names)\n",
    "# print the head of the dataframe\n",
    "bigbang.head()"
   ]
  },
  {
   "cell_type": "code",
   "execution_count": 3,
   "metadata": {},
   "outputs": [
    {
     "data": {
      "text/plain": [
       "season\n",
       "1     157\n",
       "2     205\n",
       "3     193\n",
       "4     219\n",
       "5     198\n",
       "6     211\n",
       "7     207\n",
       "8     191\n",
       "9     177\n",
       "10    189\n",
       "Name: scene, dtype: int64"
      ]
     },
     "execution_count": 3,
     "metadata": {},
     "output_type": "execute_result"
    }
   ],
   "source": [
    "# Grouping the dataframe by seasons\n",
    "bigbang_grouped = bigbang.groupby(['season', \"epi_num\"])\n",
    "# counting the scenes in each season\n",
    "unique_scene_epiwise = bigbang_grouped[\"scene\"].nunique()\n",
    "unique_scene_seasonwise = unique_scene_epiwise.groupby(\"season\").agg(\"sum\")\n",
    "unique_scene_seasonwise"
   ]
  },
  {
   "cell_type": "markdown",
   "metadata": {},
   "source": [
    "**Q2**. Now, let's define two sets of characters: all the characters, and recurrent characters. Recurrent characters are those who appear in more than one episode. For the subsequent sections, you will need to have a list of recurrent characters. Assume that there are no two _named characters_ (i.e. characters who have actual names and aren't referred to generically as \"little girl\", \"grumpy grandpa\", etc.) with the same name, i.e. there are no two Sheldons, etc. Generate a list of recurrent characters who have more than 90 dialogue lines in total, and then take a look at the list you have. If you've done this correctly, you should have a list of 20 names. However, one of these is clearly not a recurrent character. Manually remove that one, and print out your list of recurrent characters. To remove that character, pay attention to the _named character_ assumption we gave you earlier on. **For all the subsequent questions, you must only keep the dialogue lines said by the recurrent characters in your list.**"
   ]
  },
  {
   "cell_type": "code",
   "execution_count": 4,
   "metadata": {},
   "outputs": [
    {
     "data": {
      "text/html": [
       "<div>\n",
       "<style scoped>\n",
       "    .dataframe tbody tr th:only-of-type {\n",
       "        vertical-align: middle;\n",
       "    }\n",
       "\n",
       "    .dataframe tbody tr th {\n",
       "        vertical-align: top;\n",
       "    }\n",
       "\n",
       "    .dataframe thead th {\n",
       "        text-align: right;\n",
       "    }\n",
       "</style>\n",
       "<table border=\"1\" class=\"dataframe\">\n",
       "  <thead>\n",
       "    <tr style=\"text-align: right;\">\n",
       "      <th></th>\n",
       "      <th>dialogue</th>\n",
       "    </tr>\n",
       "    <tr>\n",
       "      <th>character</th>\n",
       "      <th></th>\n",
       "    </tr>\n",
       "  </thead>\n",
       "  <tbody>\n",
       "    <tr>\n",
       "      <th>Amy</th>\n",
       "      <td>3472</td>\n",
       "    </tr>\n",
       "    <tr>\n",
       "      <th>Arthur</th>\n",
       "      <td>130</td>\n",
       "    </tr>\n",
       "    <tr>\n",
       "      <th>Bernadette</th>\n",
       "      <td>2690</td>\n",
       "    </tr>\n",
       "    <tr>\n",
       "      <th>Bert</th>\n",
       "      <td>95</td>\n",
       "    </tr>\n",
       "    <tr>\n",
       "      <th>Beverley</th>\n",
       "      <td>162</td>\n",
       "    </tr>\n",
       "    <tr>\n",
       "      <th>Emily</th>\n",
       "      <td>164</td>\n",
       "    </tr>\n",
       "    <tr>\n",
       "      <th>Howard</th>\n",
       "      <td>5872</td>\n",
       "    </tr>\n",
       "    <tr>\n",
       "      <th>Kripke</th>\n",
       "      <td>106</td>\n",
       "    </tr>\n",
       "    <tr>\n",
       "      <th>Leonard</th>\n",
       "      <td>9829</td>\n",
       "    </tr>\n",
       "    <tr>\n",
       "      <th>Leslie</th>\n",
       "      <td>116</td>\n",
       "    </tr>\n",
       "    <tr>\n",
       "      <th>Man</th>\n",
       "      <td>105</td>\n",
       "    </tr>\n",
       "    <tr>\n",
       "      <th>Mrs Cooper</th>\n",
       "      <td>213</td>\n",
       "    </tr>\n",
       "    <tr>\n",
       "      <th>Mrs Wolowitz</th>\n",
       "      <td>136</td>\n",
       "    </tr>\n",
       "    <tr>\n",
       "      <th>Penny</th>\n",
       "      <td>7677</td>\n",
       "    </tr>\n",
       "    <tr>\n",
       "      <th>Priya</th>\n",
       "      <td>222</td>\n",
       "    </tr>\n",
       "    <tr>\n",
       "      <th>Raj</th>\n",
       "      <td>4779</td>\n",
       "    </tr>\n",
       "    <tr>\n",
       "      <th>Sheldon</th>\n",
       "      <td>11689</td>\n",
       "    </tr>\n",
       "    <tr>\n",
       "      <th>Stuart</th>\n",
       "      <td>733</td>\n",
       "    </tr>\n",
       "    <tr>\n",
       "      <th>Wil</th>\n",
       "      <td>126</td>\n",
       "    </tr>\n",
       "    <tr>\n",
       "      <th>Zack</th>\n",
       "      <td>135</td>\n",
       "    </tr>\n",
       "  </tbody>\n",
       "</table>\n",
       "</div>"
      ],
      "text/plain": [
       "              dialogue\n",
       "character             \n",
       "Amy               3472\n",
       "Arthur             130\n",
       "Bernadette        2690\n",
       "Bert                95\n",
       "Beverley           162\n",
       "Emily              164\n",
       "Howard            5872\n",
       "Kripke             106\n",
       "Leonard           9829\n",
       "Leslie             116\n",
       "Man                105\n",
       "Mrs Cooper         213\n",
       "Mrs Wolowitz       136\n",
       "Penny             7677\n",
       "Priya              222\n",
       "Raj               4779\n",
       "Sheldon          11689\n",
       "Stuart             733\n",
       "Wil                126\n",
       "Zack               135"
      ]
     },
     "execution_count": 4,
     "metadata": {},
     "output_type": "execute_result"
    }
   ],
   "source": [
    "# your code goes here\n",
    "lines_per_chars = bigbang.groupby(\"character\").count()[[\"dialogue\"]]\n",
    "recurrent_chars = lines_per_chars[lines_per_chars[\"dialogue\"] > 90]\n",
    "recurrent_chars"
   ]
  },
  {
   "cell_type": "code",
   "execution_count": 5,
   "metadata": {},
   "outputs": [
    {
     "data": {
      "text/html": [
       "<div>\n",
       "<style scoped>\n",
       "    .dataframe tbody tr th:only-of-type {\n",
       "        vertical-align: middle;\n",
       "    }\n",
       "\n",
       "    .dataframe tbody tr th {\n",
       "        vertical-align: top;\n",
       "    }\n",
       "\n",
       "    .dataframe thead th {\n",
       "        text-align: right;\n",
       "    }\n",
       "</style>\n",
       "<table border=\"1\" class=\"dataframe\">\n",
       "  <thead>\n",
       "    <tr style=\"text-align: right;\">\n",
       "      <th></th>\n",
       "      <th>dialogue</th>\n",
       "    </tr>\n",
       "    <tr>\n",
       "      <th>character</th>\n",
       "      <th></th>\n",
       "    </tr>\n",
       "  </thead>\n",
       "  <tbody>\n",
       "    <tr>\n",
       "      <th>Amy</th>\n",
       "      <td>3472</td>\n",
       "    </tr>\n",
       "    <tr>\n",
       "      <th>Arthur</th>\n",
       "      <td>130</td>\n",
       "    </tr>\n",
       "    <tr>\n",
       "      <th>Bernadette</th>\n",
       "      <td>2690</td>\n",
       "    </tr>\n",
       "    <tr>\n",
       "      <th>Bert</th>\n",
       "      <td>95</td>\n",
       "    </tr>\n",
       "    <tr>\n",
       "      <th>Beverley</th>\n",
       "      <td>162</td>\n",
       "    </tr>\n",
       "    <tr>\n",
       "      <th>Emily</th>\n",
       "      <td>164</td>\n",
       "    </tr>\n",
       "    <tr>\n",
       "      <th>Howard</th>\n",
       "      <td>5872</td>\n",
       "    </tr>\n",
       "    <tr>\n",
       "      <th>Kripke</th>\n",
       "      <td>106</td>\n",
       "    </tr>\n",
       "    <tr>\n",
       "      <th>Leonard</th>\n",
       "      <td>9829</td>\n",
       "    </tr>\n",
       "    <tr>\n",
       "      <th>Leslie</th>\n",
       "      <td>116</td>\n",
       "    </tr>\n",
       "    <tr>\n",
       "      <th>Mrs Cooper</th>\n",
       "      <td>213</td>\n",
       "    </tr>\n",
       "    <tr>\n",
       "      <th>Mrs Wolowitz</th>\n",
       "      <td>136</td>\n",
       "    </tr>\n",
       "    <tr>\n",
       "      <th>Penny</th>\n",
       "      <td>7677</td>\n",
       "    </tr>\n",
       "    <tr>\n",
       "      <th>Priya</th>\n",
       "      <td>222</td>\n",
       "    </tr>\n",
       "    <tr>\n",
       "      <th>Raj</th>\n",
       "      <td>4779</td>\n",
       "    </tr>\n",
       "    <tr>\n",
       "      <th>Sheldon</th>\n",
       "      <td>11689</td>\n",
       "    </tr>\n",
       "    <tr>\n",
       "      <th>Stuart</th>\n",
       "      <td>733</td>\n",
       "    </tr>\n",
       "    <tr>\n",
       "      <th>Wil</th>\n",
       "      <td>126</td>\n",
       "    </tr>\n",
       "    <tr>\n",
       "      <th>Zack</th>\n",
       "      <td>135</td>\n",
       "    </tr>\n",
       "  </tbody>\n",
       "</table>\n",
       "</div>"
      ],
      "text/plain": [
       "              dialogue\n",
       "character             \n",
       "Amy               3472\n",
       "Arthur             130\n",
       "Bernadette        2690\n",
       "Bert                95\n",
       "Beverley           162\n",
       "Emily              164\n",
       "Howard            5872\n",
       "Kripke             106\n",
       "Leonard           9829\n",
       "Leslie             116\n",
       "Mrs Cooper         213\n",
       "Mrs Wolowitz       136\n",
       "Penny             7677\n",
       "Priya              222\n",
       "Raj               4779\n",
       "Sheldon          11689\n",
       "Stuart             733\n",
       "Wil                126\n",
       "Zack               135"
      ]
     },
     "execution_count": 5,
     "metadata": {},
     "output_type": "execute_result"
    }
   ],
   "source": [
    "# Man is not a character. So remove it\n",
    "recurrent_chars = recurrent_chars.drop(\"Man\", axis=0)\n",
    "recurrent_chars"
   ]
  },
  {
   "cell_type": "markdown",
   "metadata": {},
   "source": [
    "## Task B: Read the scripts carefully\n",
    "\n",
    "### Part 1: Don't put the shovel down just yet\n",
    "\n",
    "**Q3**. From each dialogue line, replace punctuation marks (listed in the EXCLUDE_CHARS variable provided in `helpers/helper_functions.py`) with whitespaces, and lowercase all the text. **Do not remove any stopwords, leave them be for all the questions in this task.**"
   ]
  },
  {
   "cell_type": "code",
   "execution_count": 7,
   "metadata": {},
   "outputs": [
    {
     "data": {
      "text/html": [
       "<div>\n",
       "<style scoped>\n",
       "    .dataframe tbody tr th:only-of-type {\n",
       "        vertical-align: middle;\n",
       "    }\n",
       "\n",
       "    .dataframe tbody tr th {\n",
       "        vertical-align: top;\n",
       "    }\n",
       "\n",
       "    .dataframe thead th {\n",
       "        text-align: right;\n",
       "    }\n",
       "</style>\n",
       "<table border=\"1\" class=\"dataframe\">\n",
       "  <thead>\n",
       "    <tr style=\"text-align: right;\">\n",
       "      <th></th>\n",
       "      <th>season</th>\n",
       "      <th>epi_num</th>\n",
       "      <th>epi_name</th>\n",
       "      <th>scene</th>\n",
       "      <th>character</th>\n",
       "      <th>dialogue</th>\n",
       "    </tr>\n",
       "  </thead>\n",
       "  <tbody>\n",
       "    <tr>\n",
       "      <th>0</th>\n",
       "      <td>1</td>\n",
       "      <td>1</td>\n",
       "      <td>Pilot Episode</td>\n",
       "      <td>A corridor at a sperm bank.</td>\n",
       "      <td>Sheldon</td>\n",
       "      <td>so if a photon is directed through a plane wit...</td>\n",
       "    </tr>\n",
       "    <tr>\n",
       "      <th>1</th>\n",
       "      <td>1</td>\n",
       "      <td>1</td>\n",
       "      <td>Pilot Episode</td>\n",
       "      <td>A corridor at a sperm bank.</td>\n",
       "      <td>Leonard</td>\n",
       "      <td>agreed  what s your point</td>\n",
       "    </tr>\n",
       "    <tr>\n",
       "      <th>2</th>\n",
       "      <td>1</td>\n",
       "      <td>1</td>\n",
       "      <td>Pilot Episode</td>\n",
       "      <td>A corridor at a sperm bank.</td>\n",
       "      <td>Sheldon</td>\n",
       "      <td>there s no point  i just think it s a good ide...</td>\n",
       "    </tr>\n",
       "    <tr>\n",
       "      <th>3</th>\n",
       "      <td>1</td>\n",
       "      <td>1</td>\n",
       "      <td>Pilot Episode</td>\n",
       "      <td>A corridor at a sperm bank.</td>\n",
       "      <td>Leonard</td>\n",
       "      <td>excuse me</td>\n",
       "    </tr>\n",
       "    <tr>\n",
       "      <th>4</th>\n",
       "      <td>1</td>\n",
       "      <td>1</td>\n",
       "      <td>Pilot Episode</td>\n",
       "      <td>A corridor at a sperm bank.</td>\n",
       "      <td>Receptionist</td>\n",
       "      <td>hang on</td>\n",
       "    </tr>\n",
       "  </tbody>\n",
       "</table>\n",
       "</div>"
      ],
      "text/plain": [
       "   season  epi_num       epi_name                        scene     character  \\\n",
       "0       1        1  Pilot Episode  A corridor at a sperm bank.       Sheldon   \n",
       "1       1        1  Pilot Episode  A corridor at a sperm bank.       Leonard   \n",
       "2       1        1  Pilot Episode  A corridor at a sperm bank.       Sheldon   \n",
       "3       1        1  Pilot Episode  A corridor at a sperm bank.       Leonard   \n",
       "4       1        1  Pilot Episode  A corridor at a sperm bank.  Receptionist   \n",
       "\n",
       "                                            dialogue  \n",
       "0  so if a photon is directed through a plane wit...  \n",
       "1                         agreed  what s your point   \n",
       "2  there s no point  i just think it s a good ide...  \n",
       "3                                         excuse me   \n",
       "4                                           hang on   "
      ]
     },
     "execution_count": 7,
     "metadata": {},
     "output_type": "execute_result"
    }
   ],
   "source": [
    "# your code goes here\n",
    "def clean_diag(dialogue):\n",
    "    for char in EXCLUDE_CHARS:\n",
    "        dialogue = dialogue.replace(char, ' ')\n",
    "    return dialogue.lower()\n",
    "bigbang[\"dialogue\"] = bigbang[\"dialogue\"].apply(clean_diag)\n",
    "bigbang.head()"
   ]
  },
  {
   "cell_type": "markdown",
   "metadata": {},
   "source": [
    "**Q4**. For each term, calculate its \"corpus frequency\", i.e. its number of occurrences in the entire series. Visualize the distribution of corpus frequency using a histogram. Explain your observations. What are the appropriate x and y scales for this plot?"
   ]
  },
  {
   "cell_type": "code",
   "execution_count": 22,
   "metadata": {},
   "outputs": [],
   "source": [
    "# your code goes here\n",
    "terms = {}\n",
    "for _, diag in bigbang.iterrows():\n",
    "    for term in diag['dialogue'].split(' '):\n",
    "        if term not in terms:\n",
    "            terms[term] = 0\n",
    "        terms[term] += 1"
   ]
  },
  {
   "cell_type": "code",
   "execution_count": 23,
   "metadata": {},
   "outputs": [
    {
     "data": {
      "text/html": [
       "<div>\n",
       "<style scoped>\n",
       "    .dataframe tbody tr th:only-of-type {\n",
       "        vertical-align: middle;\n",
       "    }\n",
       "\n",
       "    .dataframe tbody tr th {\n",
       "        vertical-align: top;\n",
       "    }\n",
       "\n",
       "    .dataframe thead th {\n",
       "        text-align: right;\n",
       "    }\n",
       "</style>\n",
       "<table border=\"1\" class=\"dataframe\">\n",
       "  <thead>\n",
       "    <tr style=\"text-align: right;\">\n",
       "      <th></th>\n",
       "      <th>term</th>\n",
       "      <th>frequency</th>\n",
       "    </tr>\n",
       "  </thead>\n",
       "  <tbody>\n",
       "    <tr>\n",
       "      <th>0</th>\n",
       "      <td>so</td>\n",
       "      <td>3373</td>\n",
       "    </tr>\n",
       "    <tr>\n",
       "      <th>1</th>\n",
       "      <td>if</td>\n",
       "      <td>2598</td>\n",
       "    </tr>\n",
       "    <tr>\n",
       "      <th>2</th>\n",
       "      <td>a</td>\n",
       "      <td>14240</td>\n",
       "    </tr>\n",
       "    <tr>\n",
       "      <th>3</th>\n",
       "      <td>photon</td>\n",
       "      <td>4</td>\n",
       "    </tr>\n",
       "    <tr>\n",
       "      <th>4</th>\n",
       "      <td>is</td>\n",
       "      <td>5706</td>\n",
       "    </tr>\n",
       "    <tr>\n",
       "      <th>...</th>\n",
       "      <td>...</td>\n",
       "      <td>...</td>\n",
       "    </tr>\n",
       "    <tr>\n",
       "      <th>21687</th>\n",
       "      <td>skyped</td>\n",
       "      <td>1</td>\n",
       "    </tr>\n",
       "    <tr>\n",
       "      <th>21688</th>\n",
       "      <td>corresponded</td>\n",
       "      <td>1</td>\n",
       "    </tr>\n",
       "    <tr>\n",
       "      <th>21689</th>\n",
       "      <td>nickels</td>\n",
       "      <td>1</td>\n",
       "    </tr>\n",
       "    <tr>\n",
       "      <th>21690</th>\n",
       "      <td>highlighted</td>\n",
       "      <td>1</td>\n",
       "    </tr>\n",
       "    <tr>\n",
       "      <th>21691</th>\n",
       "      <td>relation…</td>\n",
       "      <td>1</td>\n",
       "    </tr>\n",
       "  </tbody>\n",
       "</table>\n",
       "<p>21692 rows × 2 columns</p>\n",
       "</div>"
      ],
      "text/plain": [
       "               term  frequency\n",
       "0                so       3373\n",
       "1                if       2598\n",
       "2                 a      14240\n",
       "3            photon          4\n",
       "4                is       5706\n",
       "...             ...        ...\n",
       "21687        skyped          1\n",
       "21688  corresponded          1\n",
       "21689       nickels          1\n",
       "21690   highlighted          1\n",
       "21691     relation…          1\n",
       "\n",
       "[21692 rows x 2 columns]"
      ]
     },
     "execution_count": 23,
     "metadata": {},
     "output_type": "execute_result"
    }
   ],
   "source": [
    "corpus_frequency = pd.DataFrame(list(terms.items()), columns=['term', 'frequency'])\n",
    "corpus_frequency"
   ]
  },
  {
   "cell_type": "code",
   "execution_count": 27,
   "metadata": {},
   "outputs": [
    {
     "data": {
      "text/plain": [
       "<AxesSubplot:title={'center':'Frequency histogram (loglog scale)'}, ylabel='Frequency'>"
      ]
     },
     "execution_count": 27,
     "metadata": {},
     "output_type": "execute_result"
    },
    {
     "data": {
      "image/png": "[encoded data removed]",
      "text/plain": [
       "<Figure size 432x288 with 1 Axes>"
      ]
     },
     "metadata": {
      "needs_background": "light"
     },
     "output_type": "display_data"
    },
    {
     "data": {
      "image/png": "[encoded data removed]",
      "text/plain": [
       "<Figure size 432x288 with 1 Axes>"
      ]
     },
     "metadata": {
      "needs_background": "light"
     },
     "output_type": "display_data"
    }
   ],
   "source": [
    "corpus_frequency.plot.hist(by=\"Frequency\", bins=100, title=\"Frequency histogram\")\n",
    "corpus_frequency.plot.hist(by=\"Frequency\", loglog=True, bins=np.logspace(0, 6, 100), title=\"Frequency histogram (loglog scale)\")"
   ]
  },
  {
   "cell_type": "markdown",
   "metadata": {},
   "source": [
    "### Part 2: Talkativity\n",
    "**Q5**. For each of the recurrent characters, calculate their total number of words uttered across all episodes. Based on this, who seems to be the most talkative character?"
   ]
  },
  {
   "cell_type": "code",
   "execution_count": 29,
   "metadata": {},
   "outputs": [
    {
     "data": {
      "text/plain": [
       "character\n",
       "Amy              47997\n",
       "Arthur            1933\n",
       "Bernadette       33510\n",
       "Bert              1407\n",
       "Beverley          2447\n",
       "Emily             1930\n",
       "Howard           84388\n",
       "Kripke            1538\n",
       "Leonard         126078\n",
       "Leslie            1541\n",
       "Mrs Cooper        4060\n",
       "Mrs Wolowitz      1757\n",
       "Penny            99517\n",
       "Priya             2424\n",
       "Raj              73039\n",
       "Sheldon         223272\n",
       "Stuart            9773\n",
       "Wil               2022\n",
       "Zack              1775\n",
       "Name: Words, dtype: int64"
      ]
     },
     "execution_count": 29,
     "metadata": {},
     "output_type": "execute_result"
    }
   ],
   "source": [
    "# your code goes here\n",
    "bigbang[\"Words\"] = bigbang[\"dialogue\"].apply(lambda x: len(x.split(' ')))\n",
    "words_per_char = bigbang.groupby(\"character\").sum()[\"Words\"]\n",
    "words_per_char[recurrent_chars.index]"
   ]
  },
  {
   "cell_type": "code",
   "execution_count": 30,
   "metadata": {},
   "outputs": [
    {
     "name": "stdout",
     "output_type": "stream",
     "text": [
      "Most talkative character:  Sheldon\n"
     ]
    }
   ],
   "source": [
    "print(\"Most talkative character: \", words_per_char[recurrent_chars.index].idxmax())"
   ]
  },
  {
   "cell_type": "markdown",
   "metadata": {},
   "source": [
    "## Task D: The Detective's Hat\n",
    "\n",
    "Sheldon claims that given a dialogue line, he can, with an accuracy of above 70%, say whether it's by himself or by someone else. Leonard contests this claim, since he believes that this claimed accuracy is too high. Leonard also suspects that it's easier for Sheldon to distinguish the lines that _aren't_ his, rather than those that _are_. We want you to put on the (proverbial) detective's hat and to investigate this claim.\n",
    "\n",
    "**Q6**. Divide the set of all dialogue lines into two subsets: the training set, consisting of all the seasons except the last two, and the test set, consisting of the last two seasons. Each of your data points (which is one row of your matrix) is one **dialogue line**. Now, use the scikit-learn class **TfIdfVectorizer** to create TF-IDF representations for the data points in your training and test sets. Note that since you're going to train a machine learning model, everything used in the training needs to be independent of the test set. As a preprocessing step, remove stopwords and words that appear only once from your vocabulary. Use the simple tokenizer provided in `helpers/helper_functions.py` as an input to the TfidfVectorizer class, and use the words provided in `helpers/stopwords.txt` as your stopwords."
   ]
  },
  {
   "cell_type": "code",
   "execution_count": 31,
   "metadata": {},
   "outputs": [
    {
     "data": {
      "text/html": [
       "<div>\n",
       "<style scoped>\n",
       "    .dataframe tbody tr th:only-of-type {\n",
       "        vertical-align: middle;\n",
       "    }\n",
       "\n",
       "    .dataframe tbody tr th {\n",
       "        vertical-align: top;\n",
       "    }\n",
       "\n",
       "    .dataframe thead th {\n",
       "        text-align: right;\n",
       "    }\n",
       "</style>\n",
       "<table border=\"1\" class=\"dataframe\">\n",
       "  <thead>\n",
       "    <tr style=\"text-align: right;\">\n",
       "      <th></th>\n",
       "      <th>season</th>\n",
       "      <th>epi_num</th>\n",
       "      <th>epi_name</th>\n",
       "      <th>scene</th>\n",
       "      <th>character</th>\n",
       "      <th>dialogue</th>\n",
       "      <th>Words</th>\n",
       "    </tr>\n",
       "  </thead>\n",
       "  <tbody>\n",
       "    <tr>\n",
       "      <th>0</th>\n",
       "      <td>1</td>\n",
       "      <td>1</td>\n",
       "      <td>Pilot Episode</td>\n",
       "      <td>A corridor at a sperm bank.</td>\n",
       "      <td>Sheldon</td>\n",
       "      <td>so if a photon is directed through a plane wit...</td>\n",
       "      <td>62</td>\n",
       "    </tr>\n",
       "    <tr>\n",
       "      <th>1</th>\n",
       "      <td>1</td>\n",
       "      <td>1</td>\n",
       "      <td>Pilot Episode</td>\n",
       "      <td>A corridor at a sperm bank.</td>\n",
       "      <td>Leonard</td>\n",
       "      <td>agreed  what s your point</td>\n",
       "      <td>7</td>\n",
       "    </tr>\n",
       "    <tr>\n",
       "      <th>2</th>\n",
       "      <td>1</td>\n",
       "      <td>1</td>\n",
       "      <td>Pilot Episode</td>\n",
       "      <td>A corridor at a sperm bank.</td>\n",
       "      <td>Sheldon</td>\n",
       "      <td>there s no point  i just think it s a good ide...</td>\n",
       "      <td>18</td>\n",
       "    </tr>\n",
       "    <tr>\n",
       "      <th>3</th>\n",
       "      <td>1</td>\n",
       "      <td>1</td>\n",
       "      <td>Pilot Episode</td>\n",
       "      <td>A corridor at a sperm bank.</td>\n",
       "      <td>Leonard</td>\n",
       "      <td>excuse me</td>\n",
       "      <td>3</td>\n",
       "    </tr>\n",
       "    <tr>\n",
       "      <th>4</th>\n",
       "      <td>1</td>\n",
       "      <td>1</td>\n",
       "      <td>Pilot Episode</td>\n",
       "      <td>A corridor at a sperm bank.</td>\n",
       "      <td>Receptionist</td>\n",
       "      <td>hang on</td>\n",
       "      <td>3</td>\n",
       "    </tr>\n",
       "  </tbody>\n",
       "</table>\n",
       "</div>"
      ],
      "text/plain": [
       "   season  epi_num       epi_name                        scene     character  \\\n",
       "0       1        1  Pilot Episode  A corridor at a sperm bank.       Sheldon   \n",
       "1       1        1  Pilot Episode  A corridor at a sperm bank.       Leonard   \n",
       "2       1        1  Pilot Episode  A corridor at a sperm bank.       Sheldon   \n",
       "3       1        1  Pilot Episode  A corridor at a sperm bank.       Leonard   \n",
       "4       1        1  Pilot Episode  A corridor at a sperm bank.  Receptionist   \n",
       "\n",
       "                                            dialogue  Words  \n",
       "0  so if a photon is directed through a plane wit...     62  \n",
       "1                         agreed  what s your point       7  \n",
       "2  there s no point  i just think it s a good ide...     18  \n",
       "3                                         excuse me       3  \n",
       "4                                           hang on       3  "
      ]
     },
     "execution_count": 31,
     "metadata": {},
     "output_type": "execute_result"
    }
   ],
   "source": [
    "# your code goes here\n",
    "train_set = bigbang[bigbang[\"season\"] <= bigbang[\"season\"].max() - 2]\n",
    "train_set.head()"
   ]
  },
  {
   "cell_type": "code",
   "execution_count": 32,
   "metadata": {},
   "outputs": [
    {
     "data": {
      "text/html": [
       "<div>\n",
       "<style scoped>\n",
       "    .dataframe tbody tr th:only-of-type {\n",
       "        vertical-align: middle;\n",
       "    }\n",
       "\n",
       "    .dataframe tbody tr th {\n",
       "        vertical-align: top;\n",
       "    }\n",
       "\n",
       "    .dataframe thead th {\n",
       "        text-align: right;\n",
       "    }\n",
       "</style>\n",
       "<table border=\"1\" class=\"dataframe\">\n",
       "  <thead>\n",
       "    <tr style=\"text-align: right;\">\n",
       "      <th></th>\n",
       "      <th>season</th>\n",
       "      <th>epi_num</th>\n",
       "      <th>epi_name</th>\n",
       "      <th>scene</th>\n",
       "      <th>character</th>\n",
       "      <th>dialogue</th>\n",
       "      <th>Words</th>\n",
       "    </tr>\n",
       "  </thead>\n",
       "  <tbody>\n",
       "    <tr>\n",
       "      <th>40354</th>\n",
       "      <td>9</td>\n",
       "      <td>1</td>\n",
       "      <td>Matrimonial Momentum</td>\n",
       "      <td>A Wedding Chapel.</td>\n",
       "      <td>Penny</td>\n",
       "      <td>so  what package are you thinking</td>\n",
       "      <td>8</td>\n",
       "    </tr>\n",
       "    <tr>\n",
       "      <th>40355</th>\n",
       "      <td>9</td>\n",
       "      <td>1</td>\n",
       "      <td>Matrimonial Momentum</td>\n",
       "      <td>A Wedding Chapel.</td>\n",
       "      <td>Leonard</td>\n",
       "      <td>mm  this one comes with music and flowers  oh ...</td>\n",
       "      <td>23</td>\n",
       "    </tr>\n",
       "    <tr>\n",
       "      <th>40356</th>\n",
       "      <td>9</td>\n",
       "      <td>1</td>\n",
       "      <td>Matrimonial Momentum</td>\n",
       "      <td>A Wedding Chapel.</td>\n",
       "      <td>Penny</td>\n",
       "      <td>why would we want that</td>\n",
       "      <td>6</td>\n",
       "    </tr>\n",
       "    <tr>\n",
       "      <th>40357</th>\n",
       "      <td>9</td>\n",
       "      <td>1</td>\n",
       "      <td>Matrimonial Momentum</td>\n",
       "      <td>A Wedding Chapel.</td>\n",
       "      <td>Leonard</td>\n",
       "      <td>‘cause there s a lot of gorgeous blondes out t...</td>\n",
       "      <td>29</td>\n",
       "    </tr>\n",
       "    <tr>\n",
       "      <th>40358</th>\n",
       "      <td>9</td>\n",
       "      <td>1</td>\n",
       "      <td>Matrimonial Momentum</td>\n",
       "      <td>A Wedding Chapel.</td>\n",
       "      <td>Penny</td>\n",
       "      <td>whatever  put us on the internet  i ve always ...</td>\n",
       "      <td>19</td>\n",
       "    </tr>\n",
       "  </tbody>\n",
       "</table>\n",
       "</div>"
      ],
      "text/plain": [
       "       season  epi_num              epi_name              scene character  \\\n",
       "40354       9        1  Matrimonial Momentum  A Wedding Chapel.     Penny   \n",
       "40355       9        1  Matrimonial Momentum  A Wedding Chapel.   Leonard   \n",
       "40356       9        1  Matrimonial Momentum  A Wedding Chapel.     Penny   \n",
       "40357       9        1  Matrimonial Momentum  A Wedding Chapel.   Leonard   \n",
       "40358       9        1  Matrimonial Momentum  A Wedding Chapel.     Penny   \n",
       "\n",
       "                                                dialogue  Words  \n",
       "40354                 so  what package are you thinking       8  \n",
       "40355  mm  this one comes with music and flowers  oh ...     23  \n",
       "40356                            why would we want that       6  \n",
       "40357  ‘cause there s a lot of gorgeous blondes out t...     29  \n",
       "40358  whatever  put us on the internet  i ve always ...     19  "
      ]
     },
     "execution_count": 32,
     "metadata": {},
     "output_type": "execute_result"
    }
   ],
   "source": [
    "test_set = bigbang[bigbang[\"season\"] > bigbang[\"season\"].max() - 2]\n",
    "test_set.head()"
   ]
  },
  {
   "cell_type": "code",
   "execution_count": 33,
   "metadata": {},
   "outputs": [],
   "source": [
    "with open(\"helpers/stopwords.txt\") as f:\n",
    "    stop_words = list(map(lambda x: x[:-1], f.readlines()))\n",
    "    \n",
    "tfidf = TfidfVectorizer(stop_words=stop_words, tokenizer=simple_tokeniser, min_df=1)\n",
    "\n",
    "train_vectors = tfidf.fit_transform(train_set[\"dialogue\"])\n",
    "test_vectors = tfidf.transform(test_set[\"dialogue\"])"
   ]
  },
  {
   "cell_type": "markdown",
   "metadata": {},
   "source": [
    "**Q7**. Find the set of all words in the training set that are only uttered by Sheldon. Is it possible for Sheldon to identify himself only based on these? Use the test set to assess this possibility, and explain your method."
   ]
  },
  {
   "cell_type": "code",
   "execution_count": 35,
   "metadata": {},
   "outputs": [],
   "source": [
    "# your code goes here\n",
    "\n",
    "words_for_chars = pd.concat([pd.Series(row[\"character\"], row['dialogue'].split(' '))\n",
    "                             for _, row in bigbang.iterrows()]).reset_index()\n",
    "words_for_chars.columns = [\"Word\", \"Character\"]\n",
    "\n",
    "words_for_chars = words_for_chars.groupby(\"Word\")[\"Character\"].apply(set)\n",
    "sheldon_words = words_for_chars[words_for_chars.apply(lambda x: (\"Sheldon\" in x) and (len(x) == 1))].index"
   ]
  },
  {
   "cell_type": "code",
   "execution_count": 37,
   "metadata": {},
   "outputs": [
    {
     "name": "stdout",
     "output_type": "stream",
     "text": [
      "Accuracy:  0.3656061437191443\n"
     ]
    }
   ],
   "source": [
    "def contains_sheldon_words(line):\n",
    "    for word in sheldon_words:\n",
    "        if word in line:\n",
    "            return True\n",
    "    return False\n",
    "test_pred = test_set[\"dialogue\"].apply(contains_sheldon_words)\n",
    "test_true = test_set[\"character\"] == \"Sheldon\"\n",
    "print(\"Accuracy: \", (test_true == test_pred).sum() / len(test_true))"
   ]
  },
  {
   "cell_type": "markdown",
   "metadata": {},
   "source": [
    "**Q8**. Now, perform singular value decomposition (SVD) on the training TF-IDF matrix, and calculate a **25-dimensional approximation** for both the training and test TF-IDF matrices (you can do this using scikit-learn's **TruncatedSVD** class). Then, train a logistic regression classifier with 10-fold cross-validation (using the scikit-learn **LogisticRegressionCV** class) on the output of the SVD that given a dialogue line, tells you whether it's by Sheldon or by someone else.\n",
    "\n",
    "&nbsp;&nbsp;&nbsp;&nbsp;&nbsp;&nbsp;**i)** Report precision, recall and F1-score for both classes (Sheldon and not-Sheldon), as well as accuracy, of your classifier on the training set and the test set. You need to implement the calculation of the evaluation measures (precision, etc.) yourself -- using the scikit-learn functions for them is not allowed.\n",
    "\n",
    "&nbsp;&nbsp;&nbsp;&nbsp;&nbsp;&nbsp;**ii)** What difference do you observe between the model's scores on the training and test sets? What could you infer from the amount of difference you see? What about the difference between scores on the two classes? Given the performance of your classifier, is Leonard right that the accuracy Sheldon claims is unattainable? What about his suspicions about the lines that Sheldon can and cannot distinguish?\n",
    "    \n",
    "&nbsp;&nbsp;&nbsp;&nbsp;&nbsp;&nbsp;**iii)** List 10 of the most extreme false positives and 10 of the most extreme false negatives, in terms of the probabilities predicted by the logistic regression model. What are common features of false positives? What about the false negatives?\n",
    "    \n",
    "&nbsp;&nbsp;&nbsp;&nbsp;&nbsp;&nbsp;**iv)** What is the most important feature in the model? What are the 5 most important words in this feature? _Hint: Think of the definition of an SVD, and that you did an SVD on the TF-IDF matrix with dialogue lines as rows and words as columns. You have projected the original data points onto a 25-dimensional subspace -- you need to look at the unit vectors you used for the projection._"
   ]
  },
  {
   "cell_type": "code",
   "execution_count": 43,
   "metadata": {},
   "outputs": [],
   "source": [
    "# your code goes here\n",
    "svd = TruncatedSVD(n_components=25)\n",
    "train_svd = svd.fit_transform(train_vectors)\n",
    "test_svd = svd.transform(test_vectors)"
   ]
  },
  {
   "cell_type": "code",
   "execution_count": 44,
   "metadata": {},
   "outputs": [],
   "source": [
    "model = LogisticRegressionCV(cv=10)\n",
    "train_labels = train_set[\"character\"] == \"Sheldon\"\n",
    "model.fit(train_svd, train_labels)\n",
    "test_pred = model.predict(test_svd)\n",
    "train_pred = model.predict(train_svd)"
   ]
  },
  {
   "cell_type": "code",
   "execution_count": 45,
   "metadata": {},
   "outputs": [
    {
     "name": "stdout",
     "output_type": "stream",
     "text": [
      "Statistics for class 1 on train set:\n",
      " {'accuracy': 0.7662437428755514, 'precision': 0.5519125683060109, 'recall': 0.01068556919170546, 'fscore': 0.020965230928905034}\n",
      "Statistics for class 0 on train set:\n",
      " {'accuracy': 0.7662437428755514, 'precision': 0.7672201339274601, 'recall': 0.9973464500679567, 'fscore': 0.8672773064314157}\n",
      "Statistics for class 1 on test set:\n",
      " {'accuracy': 0.7947522398976047, 'precision': 0.3181818181818182, 'recall': 0.0031291908806437194, 'fscore': 0.00619743249225321}\n",
      "Statistics for class 0 on test set:\n",
      " {'accuracy': 0.7947522398976047, 'precision': 0.7957127152803225, 'recall': 0.9982760602229629, 'fscore': 0.8855584442065557}\n"
     ]
    }
   ],
   "source": [
    "def confusion_matrix(test, pred, positive=1):\n",
    "    negative = 0 if positive == 1 else 1\n",
    "    cm = np.zeros((2,2))\n",
    "    test = test.values\n",
    "    cm[0,0] = np.logical_and(pred == positive, test == positive).sum()\n",
    "    cm[0,1] = np.logical_and(pred == positive, test == negative).sum()\n",
    "    cm[1,0] = np.logical_and(pred == negative, test == positive).sum()\n",
    "    cm[1,1] = np.logical_and(pred == negative, test == negative).sum()\n",
    "    df = pd.DataFrame(cm.astype(int), columns=[\"Positive\", \"Negative\"])\n",
    "    df.index = [\"Positive Prediction\", \"Negative Prediction\"]\n",
    "    return df\n",
    "\n",
    "def accuracy(confusion_matrix):\n",
    "    return (confusion_matrix[0,0] + confusion_matrix[1,1]) / confusion_matrix.sum()\n",
    "\n",
    "def precision(confusion_matrix):\n",
    "    if (confusion_matrix[0,:].sum() == 0):\n",
    "        return 1\n",
    "    return confusion_matrix[0,0] / confusion_matrix[0,:].sum()\n",
    "\n",
    "def recall(confusion_matrix):\n",
    "    if (confusion_matrix[:,0].sum() == 0):\n",
    "        return 1\n",
    "    return confusion_matrix[0,0] / confusion_matrix[:,0].sum()\n",
    "\n",
    "def fscore(confusion_matrix):\n",
    "    p = precision(confusion_matrix)\n",
    "    r = recall(confusion_matrix)\n",
    "    return 2 * p * r / (p+r)\n",
    "\n",
    "def stats(confusion_matrix):\n",
    "    confusion_matrix = confusion_matrix.values\n",
    "    return {\"accuracy\": accuracy(confusion_matrix), \"precision\":precision(confusion_matrix),\n",
    "            \"recall\": recall(confusion_matrix), \"fscore\": fscore(confusion_matrix)}\n",
    "\n",
    "print(\"Statistics for class 1 on train set:\\n\", stats(confusion_matrix(train_labels, train_pred, positive=1)))\n",
    "print(\"Statistics for class 0 on train set:\\n\", stats(confusion_matrix(train_labels, train_pred, positive=0)))\n",
    "print(\"Statistics for class 1 on test set:\\n\", stats(confusion_matrix(test_true, test_pred, positive=1)))\n",
    "print(\"Statistics for class 0 on test set:\\n\", stats(confusion_matrix(test_true, test_pred, positive=0)))"
   ]
  },
  {
   "cell_type": "code",
   "execution_count": 46,
   "metadata": {},
   "outputs": [],
   "source": [
    "proba = model.predict_proba(test_svd)\n",
    "to_class = lambda x: [0, 1] if x == 1 else [1, 0]\n",
    "test_class = np.array([to_class(i) for i in test_true])\n",
    "pred_class = test_class * proba"
   ]
  },
  {
   "cell_type": "code",
   "execution_count": 48,
   "metadata": {},
   "outputs": [
    {
     "name": "stdout",
     "output_type": "stream",
     "text": [
      "10 most extreme false negatives\n"
     ]
    },
    {
     "data": {
      "text/plain": [
       "array([' knock  knock  knock  amy   knock  knock  knock  amy   knock  knock  knock  amy  will you marry me ',\n",
       "       'oh  yes  you are  i track your cycle  for the next 36 hours you re as fertile as a manure covered wheat field ',\n",
       "       'clearly the combination of our dna is exceptional  our child could be the next step in the evolution of mankind  we ll be able to get into any preschool we want ',\n",
       "       'uh  no  we lock that door  lower our underpants a little and make a baby ',\n",
       "       'oh  i am  and you realize what the next step is ',\n",
       "       'yeah  we need to stop for magnets on the way home  this is going right on the fridge ',\n",
       "       'you re back ',\n",
       "       'would you look at that  the image we gave it was 45  white noise  and it still managed to reconstruct it ',\n",
       "       'i suppose you re here because i ve decided to be physical with my girlfriend  and i ve never done that before ',\n",
       "       'i don t understand  i thought you d be thrilled to procreate with me '],\n",
       "      dtype=object)"
      ]
     },
     "execution_count": 48,
     "metadata": {},
     "output_type": "execute_result"
    }
   ],
   "source": [
    "print(\"10 most extreme false negatives\")\n",
    "test_set.iloc[pred_class[:,0].argsort()[:10]][\"dialogue\"].values"
   ]
  },
  {
   "cell_type": "code",
   "execution_count": 49,
   "metadata": {},
   "outputs": [
    {
     "name": "stdout",
     "output_type": "stream",
     "text": [
      "10 most extreme false positives\n"
     ]
    },
    {
     "data": {
      "text/plain": [
       "array(['so  what package are you thinking ',\n",
       "       'you re right  it sells itself ',\n",
       "       'you have to admit  it s a pretty smooth ride ',\n",
       "       'i was hoping it d be quieter ',\n",
       "       'if childbirth is half this bad  you are so screwed  are we there yet ',\n",
       "       'soon ', 'why is it taking so long ',\n",
       "       'fine  we ll go to the e r  just stop selling me on the van ',\n",
       "       'howard  howard  look at the dvd screen  i put on batman  the animated series  your favourite ',\n",
       "       'i ve been babysitting him way longer than you have '],\n",
       "      dtype=object)"
      ]
     },
     "execution_count": 49,
     "metadata": {},
     "output_type": "execute_result"
    }
   ],
   "source": [
    "print(\"10 most extreme false positives\")\n",
    "test_set.iloc[pred_class[:,1].argsort()[:10]][\"dialogue\"].values"
   ]
  },
  {
   "cell_type": "code",
   "execution_count": 50,
   "metadata": {},
   "outputs": [
    {
     "data": {
      "text/plain": [
       "['hey',\n",
       " 'hey',\n",
       " 'sheldon',\n",
       " 'really',\n",
       " 'right',\n",
       " 'know',\n",
       " 'thank',\n",
       " 'going',\n",
       " 'thank',\n",
       " 'good',\n",
       " 'sure',\n",
       " 'sorry',\n",
       " 'sorry',\n",
       " 'want',\n",
       " 'think',\n",
       " 'get',\n",
       " 'come',\n",
       " 'hi',\n",
       " 'like',\n",
       " 'great',\n",
       " 'penny',\n",
       " 'hello',\n",
       " 'll',\n",
       " 'got',\n",
       " 'say']"
      ]
     },
     "execution_count": 50,
     "metadata": {},
     "output_type": "execute_result"
    }
   ],
   "source": [
    "best_components = svd.components_.argmax(axis=1)\n",
    "list(np.array(tfidf.get_feature_names())[best_components])"
   ]
  },
  {
   "cell_type": "code",
   "execution_count": null,
   "metadata": {},
   "outputs": [],
   "source": []
  }
 ],
 "metadata": {
  "kernelspec": {
   "display_name": "Python 3",
   "language": "python",
   "name": "python3"
  },
  "language_info": {
   "codemirror_mode": {
    "name": "ipython",
    "version": 3
   },
   "file_extension": ".py",
   "mimetype": "text/x-python",
   "name": "python",
   "nbconvert_exporter": "python",
   "pygments_lexer": "ipython3",
   "version": "3.7.9"
  },
  "varInspector": {
   "cols": {
    "lenName": 16,
    "lenType": 16,
    "lenVar": 40
   },
   "kernels_config": {
    "python": {
     "delete_cmd_postfix": "",
     "delete_cmd_prefix": "del ",
     "library": "var_list.py",
     "varRefreshCmd": "print(var_dic_list())"
    },
    "r": {
     "delete_cmd_postfix": ") ",
     "delete_cmd_prefix": "rm(",
     "library": "var_list.r",
     "varRefreshCmd": "cat(var_dic_list()) "
    }
   },
   "types_to_exclude": [
    "module",
    "function",
    "builtin_function_or_method",
    "instance",
    "_Feature"
   ],
   "window_display": false
  }
 },
 "nbformat": 4,
 "nbformat_minor": 4
}
