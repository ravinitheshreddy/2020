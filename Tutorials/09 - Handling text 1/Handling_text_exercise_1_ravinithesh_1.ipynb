{
 "cells": [
  {
   "cell_type": "markdown",
   "metadata": {},
   "source": [
    "# Handling text exercise 1"
   ]
  },
  {
   "cell_type": "markdown",
   "metadata": {},
   "source": [
    "## Welcome! This exercise consists of:\n",
    "\n",
    "## Part 1: Hands on tutorial\n",
    "1. Implementing the natural language processing pipeline\n",
    "2. Solving four typical language processing tasks:\n",
    "   * Sentiment analysis\n",
    "   * Document classification\n",
    "   * Topic detection\n",
    "   * Semantic analysis\n",
    "\n",
    "\n",
    "### We will be working with four books in plain text:\n",
    "1. Moby-Dick, by Herman Melville\n",
    "2. Frankenstein; or, The Modern Prometheus, by Mary Shelley\n",
    "3. Pride and Prejudice, by Jane Austen\n",
    "4. Dracula, Bram Stoker\n",
    "\n",
    "#### To run this notebook, you need to install the following libraries:\n",
    "\n",
    "conda install nltk gensim spacy <br>\n",
    "pip install pyLDAvis  <br>\n",
    "pip install vaderSentiment  <br>\n",
    "pip install empath <br>\n",
    "python -m spacy download en  <br>\n",
    "python -m nltk.downloader punkt <br>\n",
    "python -m nltk.downloader all-corpora <br>\n",
    "\n",
    "## Part 2: Handling text comprehension questions\n",
    "- You can test your understanding of important NLP concepts. Solutions will be released next week."
   ]
  },
  {
   "cell_type": "markdown",
   "metadata": {},
   "source": [
    "## Part 1"
   ]
  },
  {
   "cell_type": "code",
   "execution_count": 56,
   "metadata": {},
   "outputs": [
    {
     "name": "stdout",
     "output_type": "stream",
     "text": [
      "The autoreload extension is already loaded. To reload it, use:\n",
      "  %reload_ext autoreload\n"
     ]
    },
    {
     "name": "stderr",
     "output_type": "stream",
     "text": [
      "C:\\ProgramData\\Anaconda3\\envs\\ada_nlp\\lib\\site-packages\\ipykernel\\ipkernel.py:287: DeprecationWarning: `should_run_async` will not call `transform_cell` automatically in the future. Please pass the result to `transformed_cell` argument and any exception that happen during thetransform in `preprocessing_exc_tuple` in IPython 7.17 and above.\n",
      "  and should_run_async(code)\n"
     ]
    }
   ],
   "source": [
    "%load_ext autoreload\n",
    "%autoreload 2\n",
    "\n",
    "import warnings; warnings.simplefilter('ignore')\n",
    "import os, codecs, string, random\n",
    "import numpy as np\n",
    "from numpy.random import seed as random_seed\n",
    "from numpy.random import shuffle as random_shuffle\n",
    "import matplotlib.pyplot as plt\n",
    "%matplotlib inline  \n",
    "\n",
    "seed = 42\n",
    "random.seed(seed)\n",
    "np.random.seed(seed)\n",
    "\n",
    "#NLP libraries\n",
    "import spacy, nltk, gensim, sklearn\n",
    "import pyLDAvis.gensim\n",
    "\n",
    "#Vader\n",
    "import vaderSentiment\n",
    "from vaderSentiment.vaderSentiment import SentimentIntensityAnalyzer\n",
    "\n",
    "#Scikit imports\n",
    "from sklearn.feature_extraction.text import CountVectorizer\n",
    "from sklearn.model_selection import train_test_split\n",
    "from sklearn.model_selection import cross_val_score\n",
    "from sklearn.linear_model import LogisticRegression\n",
    "from sklearn import preprocessing\n",
    "from sklearn.preprocessing import StandardScaler\n",
    "from sklearn.utils import shuffle\n",
    "\n",
    "#The data\n",
    "corpus_root = 'books/'"
   ]
  },
  {
   "cell_type": "markdown",
   "metadata": {},
   "source": [
    "#### In this tutorial we will be working with text in English. The same principles apply, but the methods cannot be applied directly to the text in unknown or other languages. We will be working mainly with the Spacy library."
   ]
  },
  {
   "cell_type": "markdown",
   "metadata": {},
   "source": [
    "Initialize the Spacy analyzer in English"
   ]
  },
  {
   "cell_type": "code",
   "execution_count": 57,
   "metadata": {},
   "outputs": [],
   "source": [
    "nlp = spacy.load('en')"
   ]
  },
  {
   "cell_type": "markdown",
   "metadata": {},
   "source": [
    "Load the books"
   ]
  },
  {
   "cell_type": "code",
   "execution_count": 58,
   "metadata": {},
   "outputs": [
    {
     "name": "stdout",
     "output_type": "stream",
     "text": [
      "DRACULA.txt\n",
      "Frankenstein.txt\n",
      "Moby_Dick.txt\n",
      "PRIDE_AND_PREJUDICE.txt\n"
     ]
    }
   ],
   "source": [
    "books = list()\n",
    "\n",
    "for book_file in os.listdir(corpus_root):\n",
    "    if \".txt\" in book_file:\n",
    "        print(book_file)\n",
    "        with codecs.open(os.path.join(corpus_root,book_file),encoding=\"utf8\") as f:\n",
    "            books.append(f.read())"
   ]
  },
  {
   "cell_type": "markdown",
   "metadata": {},
   "source": [
    "Print the beginning of Pride and Prejudice"
   ]
  },
  {
   "cell_type": "code",
   "execution_count": 59,
   "metadata": {},
   "outputs": [
    {
     "name": "stdout",
     "output_type": "stream",
     "text": [
      "PRIDE AND PREJUDICE\n",
      "\n",
      "By Jane Austen\n",
      "\n",
      "\n",
      "\n",
      "Chapter 1\n",
      "\n",
      "\n",
      "It is a truth universally acknowledged, that a single man in possession\n",
      "of a good fortune, must be in want of a wife.\n",
      "\n",
      "However little known the feelings or views of such a man may be on his\n",
      "first entering a neighbourhood, this truth is so well fixed in the minds\n",
      "of the surrounding families, that he is considered the rightful property\n",
      "of some one or other of their daughters.\n",
      "\n",
      "“My dear Mr. Bennet,” said his lady to him one day, “have you heard that\n",
      "Netherfield Park is let at last?”\n",
      "\n",
      "Mr. Bennet replied that he had not.\n",
      "\n",
      "“But\n"
     ]
    }
   ],
   "source": [
    "print(books[3][0:600])"
   ]
  },
  {
   "cell_type": "markdown",
   "metadata": {},
   "source": [
    "#### Let's remove the new lines"
   ]
  },
  {
   "cell_type": "code",
   "execution_count": 5,
   "metadata": {},
   "outputs": [
    {
     "name": "stderr",
     "output_type": "stream",
     "text": [
      "C:\\ProgramData\\Anaconda3\\envs\\ada_nlp\\lib\\site-packages\\ipykernel\\ipkernel.py:287: DeprecationWarning: `should_run_async` will not call `transform_cell` automatically in the future. Please pass the result to `transformed_cell` argument and any exception that happen during thetransform in `preprocessing_exc_tuple` in IPython 7.17 and above.\n",
      "  and should_run_async(code)\n"
     ]
    }
   ],
   "source": [
    "books = [\" \".join(b.split()) for b in books]"
   ]
  },
  {
   "cell_type": "code",
   "execution_count": 6,
   "metadata": {},
   "outputs": [
    {
     "name": "stdout",
     "output_type": "stream",
     "text": [
      "PRIDE AND PREJUDICE By Jane Austen Chapter 1 It is a truth universally acknowledged, that a single man in possession of a good fortune, must be in want of a wife. However little known the feelings or views of such a man may be on his first entering a neighbourhood, this truth is so well fixed in the minds of the surrounding families, that he is considered the rightful property of some one or other of their daughters. “My dear Mr. Bennet,” said his lady to him one day, “have you heard that Netherfield Park is let at last?” Mr. Bennet replied that he had not. “But it is,” returned she; “for Mrs.\n"
     ]
    },
    {
     "name": "stderr",
     "output_type": "stream",
     "text": [
      "C:\\ProgramData\\Anaconda3\\envs\\ada_nlp\\lib\\site-packages\\ipykernel\\ipkernel.py:287: DeprecationWarning: `should_run_async` will not call `transform_cell` automatically in the future. Please pass the result to `transformed_cell` argument and any exception that happen during thetransform in `preprocessing_exc_tuple` in IPython 7.17 and above.\n",
      "  and should_run_async(code)\n"
     ]
    }
   ],
   "source": [
    "print(books[3][0:600])"
   ]
  },
  {
   "cell_type": "markdown",
   "metadata": {},
   "source": [
    "### Load Frankenstein"
   ]
  },
  {
   "cell_type": "code",
   "execution_count": 7,
   "metadata": {},
   "outputs": [
    {
     "name": "stderr",
     "output_type": "stream",
     "text": [
      "C:\\ProgramData\\Anaconda3\\envs\\ada_nlp\\lib\\site-packages\\ipykernel\\ipkernel.py:287: DeprecationWarning: `should_run_async` will not call `transform_cell` automatically in the future. Please pass the result to `transformed_cell` argument and any exception that happen during thetransform in `preprocessing_exc_tuple` in IPython 7.17 and above.\n",
      "  and should_run_async(code)\n"
     ]
    }
   ],
   "source": [
    "#index all books\n",
    "book = books[1]\n",
    "\n",
    "#put in raw text, get a Spacy object\n",
    "doc = nlp(book)"
   ]
  },
  {
   "cell_type": "markdown",
   "metadata": {},
   "source": [
    "## Let's create our own NLP pipeline with Spacy!"
   ]
  },
  {
   "cell_type": "markdown",
   "metadata": {},
   "source": [
    "### Step 1: Sentence splitting\n",
    "\n",
    "#### May sound trivial, but it's not! (e.g., U.K. or Yahoo!) Spacy uses a statistical model to generate accurate predictions. This works well out of the box for general-purpose text or web text. For social media use dedicated libraries."
   ]
  },
  {
   "cell_type": "code",
   "execution_count": 8,
   "metadata": {},
   "outputs": [
    {
     "name": "stdout",
     "output_type": "stream",
     "text": [
      "Sentence 1: Frankenstein, or the Modern Prometheus by Mary Wollstonecraft (Godwin) Shelley Letter 1 St. Petersburgh, Dec. 11th, 17-- TO Mrs. Saville, England \n",
      "\n",
      "Sentence 2: You will rejoice to hear that no disaster has accompanied the commencement of an enterprise which you have regarded with such evil forebodings. \n",
      "\n",
      "Sentence 3: I arrived here yesterday, and my first task is to assure my dear sister of my welfare and increasing confidence in the success of my undertaking. \n",
      "\n"
     ]
    },
    {
     "name": "stderr",
     "output_type": "stream",
     "text": [
      "C:\\ProgramData\\Anaconda3\\envs\\ada_nlp\\lib\\site-packages\\ipykernel\\ipkernel.py:287: DeprecationWarning: `should_run_async` will not call `transform_cell` automatically in the future. Please pass the result to `transformed_cell` argument and any exception that happen during thetransform in `preprocessing_exc_tuple` in IPython 7.17 and above.\n",
      "  and should_run_async(code)\n"
     ]
    }
   ],
   "source": [
    "sentences = [sent for sent in doc.sents]\n",
    "print('Sentence 1:',sentences[0],'\\n')\n",
    "print('Sentence 2:',sentences[1],'\\n')\n",
    "print('Sentence 3:',sentences[2],'\\n')"
   ]
  },
  {
   "cell_type": "markdown",
   "metadata": {},
   "source": [
    "### Step 2: Tokenization\n",
    "\n",
    "#### The task of splitting a text into meaningful segments called tokens. We segment the sentence into words, punctuation, etc. This is done by first splitting on whitespace characters and them applying rules specific to each language. For example, \"don't\" does not contain whitespace, but should be split into two tokens, \"do\" and \"n't\", while \"U.K.\" should always remain one token and \"but,\" shouldn't."
   ]
  },
  {
   "cell_type": "markdown",
   "metadata": {},
   "source": [
    "### We will analyze the methods on an example sentence first"
   ]
  },
  {
   "cell_type": "code",
   "execution_count": 20,
   "metadata": {},
   "outputs": [
    {
     "name": "stdout",
     "output_type": "stream",
     "text": [
      "I am already far north of London, and as I walk in the streets of Petersburgh, I feel a cold northern breeze play upon my cheeks, which braces my nerves and fills me with delight. \n",
      "\n",
      "['I', 'am', 'already', 'far', 'north', 'of', 'London', ',', 'and', 'as', 'I', 'walk', 'in', 'the', 'streets', 'of', 'Petersburgh', ',', 'I', 'feel', 'a', 'cold', 'northern', 'breeze', 'play', 'upon', 'my', 'cheeks', ',', 'which', 'braces', 'my', 'nerves', 'and', 'fills', 'me', 'with', 'delight', '.']\n"
     ]
    },
    {
     "name": "stderr",
     "output_type": "stream",
     "text": [
      "C:\\ProgramData\\Anaconda3\\envs\\ada_nlp\\lib\\site-packages\\ipykernel\\ipkernel.py:287: DeprecationWarning: `should_run_async` will not call `transform_cell` automatically in the future. Please pass the result to `transformed_cell` argument and any exception that happen during thetransform in `preprocessing_exc_tuple` in IPython 7.17 and above.\n",
      "  and should_run_async(code)\n"
     ]
    }
   ],
   "source": [
    "example = 'I am already far north of London, and as I walk in the streets of Petersburgh, I feel a cold northern breeze play upon my cheeks, which braces my nerves and fills me with delight.'\n",
    "\n",
    "doc = nlp(example)\n",
    "\n",
    "#strings are encoded to hashes\n",
    "tokens = [token.text for token in doc]\n",
    "\n",
    "print(example,'\\n')\n",
    "print(tokens)"
   ]
  },
  {
   "cell_type": "markdown",
   "metadata": {},
   "source": [
    "### Step 3: Part of speech tagging\n",
    "\n",
    "#### The model makes a prediction of which tag or label most likely applies in this context. For example, a word following \"the\" in English is most likely a noun."
   ]
  },
  {
   "cell_type": "code",
   "execution_count": 10,
   "metadata": {},
   "outputs": [
    {
     "name": "stdout",
     "output_type": "stream",
     "text": [
      "I am already far north of London, and as I walk in the streets of Petersburgh, I feel a cold northern breeze play upon my cheeks, which braces my nerves and fills me with delight. \n",
      "\n",
      "[('I', 'PRON'), ('am', 'AUX'), ('already', 'ADV'), ('far', 'ADV'), ('north', 'ADV'), ('of', 'ADP'), ('London', 'PROPN'), (',', 'PUNCT'), ('and', 'CCONJ'), ('as', 'SCONJ'), ('I', 'PRON'), ('walk', 'VERB'), ('in', 'ADP'), ('the', 'DET'), ('streets', 'NOUN'), ('of', 'ADP'), ('Petersburgh', 'PROPN'), (',', 'PUNCT'), ('I', 'PRON'), ('feel', 'VERB'), ('a', 'DET'), ('cold', 'ADJ'), ('northern', 'ADJ'), ('breeze', 'NOUN'), ('play', 'NOUN'), ('upon', 'SCONJ'), ('my', 'DET'), ('cheeks', 'NOUN'), (',', 'PUNCT'), ('which', 'DET'), ('braces', 'VERB'), ('my', 'DET'), ('nerves', 'NOUN'), ('and', 'CCONJ'), ('fills', 'VERB'), ('me', 'PRON'), ('with', 'ADP'), ('delight', 'NOUN'), ('.', 'PUNCT')]\n"
     ]
    },
    {
     "name": "stderr",
     "output_type": "stream",
     "text": [
      "C:\\ProgramData\\Anaconda3\\envs\\ada_nlp\\lib\\site-packages\\ipykernel\\ipkernel.py:287: DeprecationWarning: `should_run_async` will not call `transform_cell` automatically in the future. Please pass the result to `transformed_cell` argument and any exception that happen during thetransform in `preprocessing_exc_tuple` in IPython 7.17 and above.\n",
      "  and should_run_async(code)\n"
     ]
    }
   ],
   "source": [
    "pos_tagged = [(token.text, token.pos_) for token in doc]\n",
    "\n",
    "print(example,'\\n')\n",
    "print(pos_tagged)"
   ]
  },
  {
   "cell_type": "code",
   "execution_count": 11,
   "metadata": {},
   "outputs": [
    {
     "name": "stdout",
     "output_type": "stream",
     "text": [
      "coordinating conjunction\n",
      "adposition\n",
      "determiner\n"
     ]
    },
    {
     "name": "stderr",
     "output_type": "stream",
     "text": [
      "C:\\ProgramData\\Anaconda3\\envs\\ada_nlp\\lib\\site-packages\\ipykernel\\ipkernel.py:287: DeprecationWarning: `should_run_async` will not call `transform_cell` automatically in the future. Please pass the result to `transformed_cell` argument and any exception that happen during thetransform in `preprocessing_exc_tuple` in IPython 7.17 and above.\n",
      "  and should_run_async(code)\n"
     ]
    }
   ],
   "source": [
    "print(spacy.explain('CCONJ'))\n",
    "print(spacy.explain('ADP'))\n",
    "print(spacy.explain('DET'))"
   ]
  },
  {
   "cell_type": "markdown",
   "metadata": {},
   "source": [
    "### When unsure, see here for more details: http://universaldependencies.org/u/pos/all.html"
   ]
  },
  {
   "cell_type": "markdown",
   "metadata": {},
   "source": [
    "#### More detailed annotation:"
   ]
  },
  {
   "cell_type": "code",
   "execution_count": 12,
   "metadata": {},
   "outputs": [
    {
     "name": "stdout",
     "output_type": "stream",
     "text": [
      "[('I', 'PRP'), ('am', 'VBP'), ('already', 'RB'), ('far', 'RB'), ('north', 'RB'), ('of', 'IN'), ('London', 'NNP'), (',', ','), ('and', 'CC'), ('as', 'IN'), ('I', 'PRP'), ('walk', 'VBP'), ('in', 'IN'), ('the', 'DT'), ('streets', 'NNS'), ('of', 'IN'), ('Petersburgh', 'NNP'), (',', ','), ('I', 'PRP'), ('feel', 'VBP'), ('a', 'DT'), ('cold', 'JJ'), ('northern', 'JJ'), ('breeze', 'NN'), ('play', 'NN'), ('upon', 'IN'), ('my', 'PRP$'), ('cheeks', 'NNS'), (',', ','), ('which', 'WDT'), ('braces', 'VBZ'), ('my', 'PRP$'), ('nerves', 'NNS'), ('and', 'CC'), ('fills', 'VBZ'), ('me', 'PRP'), ('with', 'IN'), ('delight', 'NN'), ('.', '.')]\n"
     ]
    },
    {
     "name": "stderr",
     "output_type": "stream",
     "text": [
      "C:\\ProgramData\\Anaconda3\\envs\\ada_nlp\\lib\\site-packages\\ipykernel\\ipkernel.py:287: DeprecationWarning: `should_run_async` will not call `transform_cell` automatically in the future. Please pass the result to `transformed_cell` argument and any exception that happen during thetransform in `preprocessing_exc_tuple` in IPython 7.17 and above.\n",
      "  and should_run_async(code)\n"
     ]
    }
   ],
   "source": [
    "pos_tagged = [(token.text, token.tag_) for token in doc]\n",
    "\n",
    "print(pos_tagged)"
   ]
  },
  {
   "cell_type": "code",
   "execution_count": 13,
   "metadata": {},
   "outputs": [
    {
     "name": "stdout",
     "output_type": "stream",
     "text": [
      "pronoun, personal\n",
      "verb, non-3rd person singular present\n"
     ]
    },
    {
     "name": "stderr",
     "output_type": "stream",
     "text": [
      "C:\\ProgramData\\Anaconda3\\envs\\ada_nlp\\lib\\site-packages\\ipykernel\\ipkernel.py:287: DeprecationWarning: `should_run_async` will not call `transform_cell` automatically in the future. Please pass the result to `transformed_cell` argument and any exception that happen during thetransform in `preprocessing_exc_tuple` in IPython 7.17 and above.\n",
      "  and should_run_async(code)\n"
     ]
    }
   ],
   "source": [
    "print(spacy.explain('PRP'))\n",
    "print(spacy.explain('VBP'))"
   ]
  },
  {
   "cell_type": "markdown",
   "metadata": {},
   "source": [
    "### Step 4: Named entity recognition\n",
    "\n",
    "#### For example, a person, a country, a product or a book title. Spacy can recognise various types of named entities in a document. This doesn't always work perfectly and might need some tuning later, depending on your use case.\n",
    "\n",
    "Built in entity types: <br>\n",
    "\n",
    "PERSON  People, including fictional.  <br>\n",
    "NORP\tNationalities or religious or political groups. <br>\n",
    "FAC\tBuildings, airports, highways, bridges, etc. <br>\n",
    "ORG\tCompanies, agencies, institutions, etc. <br>\n",
    "GPE\tCountries, cities, states. <br>\n",
    "LOC\tNon-GPE locations, mountain ranges, bodies of water. <br>\n",
    "PRODUCT\tObjects, vehicles, foods, etc. (Not services.) <br>\n",
    "EVENT\tNamed hurricanes, battles, wars, sports events, etc. <br>\n",
    "WORK_OF_ART\tTitles of books, songs, etc. <br>\n",
    "LAW\tNamed documents made into laws. <br>\n",
    "LANGUAGE\tAny named language. <br>\n",
    "DATE\tAbsolute or relative dates or periods. <br>\n",
    "TIME\tTimes smaller than a day. <br>\n",
    "PERCENT\tPercentage, including \"%\". <br>\n",
    "MONEY\tMonetary values, including unit. <br>\n",
    "QUANTITY\tMeasurements, as of weight or distance. <br>\n",
    "ORDINAL\t\"first\", \"second\", etc. <br>\n",
    "CARDINAL\tNumerals that do not fall under another type. <br>"
   ]
  },
  {
   "cell_type": "code",
   "execution_count": 21,
   "metadata": {},
   "outputs": [
    {
     "name": "stdout",
     "output_type": "stream",
     "text": [
      "I am already far north of London, and as I walk in the streets of Petersburgh, I feel a cold northern breeze play upon my cheeks, which braces my nerves and fills me with delight. \n",
      "\n",
      "London GPE\n",
      "Petersburgh GPE\n"
     ]
    },
    {
     "name": "stderr",
     "output_type": "stream",
     "text": [
      "C:\\ProgramData\\Anaconda3\\envs\\ada_nlp\\lib\\site-packages\\ipykernel\\ipkernel.py:287: DeprecationWarning: `should_run_async` will not call `transform_cell` automatically in the future. Please pass the result to `transformed_cell` argument and any exception that happen during thetransform in `preprocessing_exc_tuple` in IPython 7.17 and above.\n",
      "  and should_run_async(code)\n"
     ]
    }
   ],
   "source": [
    "print(example,'\\n')\n",
    "for ent in doc.ents:\n",
    "    print(ent.text, ent.label_)"
   ]
  },
  {
   "cell_type": "markdown",
   "metadata": {},
   "source": [
    "### Step 5: Removing stop words"
   ]
  },
  {
   "cell_type": "markdown",
   "metadata": {},
   "source": [
    "Let's check out all the stopwords:"
   ]
  },
  {
   "cell_type": "code",
   "execution_count": 22,
   "metadata": {},
   "outputs": [
    {
     "name": "stdout",
     "output_type": "stream",
     "text": [
      "Number of stop words: 326\n",
      "First ten stop words: ['hers', 'nothing', \"'ll\", 'go', \"'ve\", 'own', 'every', 'some', 'call', 'nor']\n"
     ]
    },
    {
     "name": "stderr",
     "output_type": "stream",
     "text": [
      "C:\\ProgramData\\Anaconda3\\envs\\ada_nlp\\lib\\site-packages\\ipykernel\\ipkernel.py:287: DeprecationWarning: `should_run_async` will not call `transform_cell` automatically in the future. Please pass the result to `transformed_cell` argument and any exception that happen during thetransform in `preprocessing_exc_tuple` in IPython 7.17 and above.\n",
      "  and should_run_async(code)\n"
     ]
    }
   ],
   "source": [
    "spacy_stopwords = spacy.lang.en.stop_words.STOP_WORDS\n",
    "print('Number of stop words: %d' % len(spacy_stopwords))\n",
    "print('First ten stop words:',list(spacy_stopwords)[:10])"
   ]
  },
  {
   "cell_type": "markdown",
   "metadata": {},
   "source": [
    "Detecting stopwords in the example:"
   ]
  },
  {
   "cell_type": "code",
   "execution_count": 23,
   "metadata": {},
   "outputs": [
    {
     "name": "stdout",
     "output_type": "stream",
     "text": [
      "I am already far north of London, and as I walk in the streets of Petersburgh, I feel a cold northern breeze play upon my cheeks, which braces my nerves and fills me with delight. \n",
      "\n",
      "['I', 'am', 'already', 'of', 'and', 'as', 'I', 'in', 'the', 'of', 'I', 'a', 'upon', 'my', 'which', 'my', 'and', 'me', 'with']\n"
     ]
    },
    {
     "name": "stderr",
     "output_type": "stream",
     "text": [
      "C:\\ProgramData\\Anaconda3\\envs\\ada_nlp\\lib\\site-packages\\ipykernel\\ipkernel.py:287: DeprecationWarning: `should_run_async` will not call `transform_cell` automatically in the future. Please pass the result to `transformed_cell` argument and any exception that happen during thetransform in `preprocessing_exc_tuple` in IPython 7.17 and above.\n",
      "  and should_run_async(code)\n"
     ]
    }
   ],
   "source": [
    "print(example,'\\n')\n",
    "\n",
    "stop_words = [token.text for token in doc if token.is_stop]\n",
    "\n",
    "print(stop_words)"
   ]
  },
  {
   "cell_type": "markdown",
   "metadata": {},
   "source": [
    "#### Sometimes it's useful to define a custom list of stopwords. Other solutions: https://www.ranks.nl/stopwords \n"
   ]
  },
  {
   "cell_type": "markdown",
   "metadata": {},
   "source": [
    "### Step 6: Lemmatization\n",
    "\n",
    "#### A rule-based deterministic lemmatizer maps the surface form of a token to a lemma."
   ]
  },
  {
   "cell_type": "code",
   "execution_count": 24,
   "metadata": {},
   "outputs": [
    {
     "name": "stdout",
     "output_type": "stream",
     "text": [
      "I am already far north of London, and as I walk in the streets of Petersburgh, I feel a cold northern breeze play upon my cheeks, which braces my nerves and fills me with delight. \n",
      "\n",
      "I ---> -PRON-\n",
      "am ---> be\n",
      "I ---> -PRON-\n",
      "streets ---> street\n",
      "I ---> -PRON-\n",
      "my ---> -PRON-\n",
      "cheeks ---> cheek\n",
      "braces ---> brace\n",
      "my ---> -PRON-\n",
      "nerves ---> nerve\n",
      "fills ---> fill\n",
      "me ---> -PRON-\n"
     ]
    },
    {
     "name": "stderr",
     "output_type": "stream",
     "text": [
      "C:\\ProgramData\\Anaconda3\\envs\\ada_nlp\\lib\\site-packages\\ipykernel\\ipkernel.py:287: DeprecationWarning: `should_run_async` will not call `transform_cell` automatically in the future. Please pass the result to `transformed_cell` argument and any exception that happen during thetransform in `preprocessing_exc_tuple` in IPython 7.17 and above.\n",
      "  and should_run_async(code)\n"
     ]
    }
   ],
   "source": [
    "print(example,'\\n')\n",
    "for token in doc:\n",
    "    if token.text != token.lemma_:\n",
    "        print(token.text,'--->',token.lemma_)"
   ]
  },
  {
   "cell_type": "markdown",
   "metadata": {},
   "source": [
    "### Step 7: Chunking (shallow parsing)\n",
    "\n",
    "#### Noun chunks are \"base noun phrases\" – flat phrases that have a noun as their head -- a noun plus the words describing the noun – for example, \"the lavish green grass\" or \"the world’s largest tech fund\". "
   ]
  },
  {
   "cell_type": "code",
   "execution_count": 25,
   "metadata": {},
   "outputs": [
    {
     "name": "stdout",
     "output_type": "stream",
     "text": [
      "I am already far north of London, and as I walk in the streets of Petersburgh, I feel a cold northern breeze play upon my cheeks, which braces my nerves and fills me with delight. \n",
      "\n",
      "I\n",
      "London\n",
      "I\n",
      "the streets\n",
      "Petersburgh\n",
      "I\n",
      "a cold northern breeze\n",
      "my cheeks\n",
      "my nerves\n",
      "me\n",
      "delight\n"
     ]
    },
    {
     "name": "stderr",
     "output_type": "stream",
     "text": [
      "C:\\ProgramData\\Anaconda3\\envs\\ada_nlp\\lib\\site-packages\\ipykernel\\ipkernel.py:287: DeprecationWarning: `should_run_async` will not call `transform_cell` automatically in the future. Please pass the result to `transformed_cell` argument and any exception that happen during thetransform in `preprocessing_exc_tuple` in IPython 7.17 and above.\n",
      "  and should_run_async(code)\n"
     ]
    }
   ],
   "source": [
    "print(example,'\\n')\n",
    "\n",
    "for chunk in doc.noun_chunks:\n",
    "    print(chunk.text)"
   ]
  },
  {
   "cell_type": "markdown",
   "metadata": {},
   "source": [
    "### Step 8: Dependancy parsing\n",
    "\n",
    "#### The terms head and child describe the words connected by an arc in the dependency tree. The type of syntactic relation that connects the child to the head can be obtain through .dep_."
   ]
  },
  {
   "cell_type": "code",
   "execution_count": 27,
   "metadata": {},
   "outputs": [
    {
     "name": "stderr",
     "output_type": "stream",
     "text": [
      "C:\\ProgramData\\Anaconda3\\envs\\ada_nlp\\lib\\site-packages\\ipykernel\\ipkernel.py:287: DeprecationWarning: `should_run_async` will not call `transform_cell` automatically in the future. Please pass the result to `transformed_cell` argument and any exception that happen during thetransform in `preprocessing_exc_tuple` in IPython 7.17 and above.\n",
      "  and should_run_async(code)\n"
     ]
    },
    {
     "name": "stdout",
     "output_type": "stream",
     "text": [
      "I am already far north of London, and as I walk in the streets of Petersburgh, I feel a cold northern breeze play upon my cheeks, which braces my nerves and fills me with delight. \n",
      "\n",
      "Token: I Head: am Children: []\n",
      "Token: am Head: am Children: [(I, 'nsubj'), (already, 'advmod'), (north, 'advmod'), (,, 'punct'), (and, 'cc'), (feel, 'conj')]\n",
      "Token: already Head: am Children: []\n",
      "Token: far Head: north Children: []\n",
      "Token: north Head: am Children: [(far, 'advmod'), (of, 'prep')]\n",
      "Token: of Head: north Children: [(London, 'pobj')]\n",
      "Token: London Head: of Children: []\n",
      "Token: , Head: am Children: []\n",
      "Token: and Head: am Children: []\n",
      "Token: as Head: walk Children: []\n",
      "Token: I Head: walk Children: []\n",
      "Token: walk Head: feel Children: [(as, 'mark'), (I, 'nsubj'), (in, 'prep')]\n",
      "Token: in Head: walk Children: [(streets, 'pobj')]\n",
      "Token: the Head: streets Children: []\n",
      "Token: streets Head: in Children: [(the, 'det'), (of, 'prep')]\n",
      "Token: of Head: streets Children: [(Petersburgh, 'pobj')]\n",
      "Token: Petersburgh Head: of Children: []\n",
      "Token: , Head: feel Children: []\n",
      "Token: I Head: feel Children: []\n",
      "Token: feel Head: am Children: [(walk, 'advcl'), (,, 'punct'), (I, 'nsubj'), (play, 'ccomp'), (., 'punct')]\n",
      "Token: a Head: breeze Children: []\n",
      "Token: cold Head: breeze Children: []\n",
      "Token: northern Head: breeze Children: []\n",
      "Token: breeze Head: play Children: [(a, 'det'), (cold, 'amod'), (northern, 'amod')]\n",
      "Token: play Head: feel Children: [(breeze, 'nsubj'), (upon, 'prep')]\n",
      "Token: upon Head: play Children: [(cheeks, 'pobj')]\n",
      "Token: my Head: cheeks Children: []\n",
      "Token: cheeks Head: upon Children: [(my, 'poss'), (,, 'punct'), (braces, 'relcl')]\n",
      "Token: , Head: cheeks Children: []\n",
      "Token: which Head: braces Children: []\n",
      "Token: braces Head: cheeks Children: [(which, 'nsubj'), (nerves, 'dobj'), (and, 'cc'), (fills, 'conj')]\n",
      "Token: my Head: nerves Children: []\n",
      "Token: nerves Head: braces Children: [(my, 'poss')]\n",
      "Token: and Head: braces Children: []\n",
      "Token: fills Head: braces Children: [(me, 'dobj'), (with, 'prep')]\n",
      "Token: me Head: fills Children: []\n",
      "Token: with Head: fills Children: [(delight, 'pobj')]\n",
      "Token: delight Head: with Children: []\n",
      "Token: . Head: feel Children: []\n"
     ]
    }
   ],
   "source": [
    "print(example,'\\n')\n",
    "\n",
    "for token in doc:\n",
    "    print('Token:',token.text,'Head:',token.head.text, 'Children:',[(child,child.dep_) for child in token.children])"
   ]
  },
  {
   "cell_type": "markdown",
   "metadata": {},
   "source": [
    "### Counting word occurences"
   ]
  },
  {
   "cell_type": "code",
   "execution_count": 28,
   "metadata": {},
   "outputs": [
    {
     "name": "stdout",
     "output_type": "stream",
     "text": [
      "I am already far north of London, and as I walk in the streets of Petersburgh, I feel a cold northern breeze play upon my cheeks, which braces my nerves and fills me with delight. \n",
      "\n",
      "[('I', 3), (',', 3), ('of', 2), ('and', 2), ('my', 2), ('am', 1), ('already', 1), ('far', 1), ('north', 1), ('London', 1), ('as', 1), ('walk', 1), ('in', 1), ('the', 1), ('streets', 1), ('Petersburgh', 1), ('feel', 1), ('a', 1), ('cold', 1), ('northern', 1), ('breeze', 1), ('play', 1), ('upon', 1), ('cheeks', 1), ('which', 1), ('braces', 1), ('nerves', 1), ('fills', 1), ('me', 1), ('with', 1), ('delight', 1), ('.', 1)]\n"
     ]
    },
    {
     "name": "stderr",
     "output_type": "stream",
     "text": [
      "C:\\ProgramData\\Anaconda3\\envs\\ada_nlp\\lib\\site-packages\\ipykernel\\ipkernel.py:287: DeprecationWarning: `should_run_async` will not call `transform_cell` automatically in the future. Please pass the result to `transformed_cell` argument and any exception that happen during thetransform in `preprocessing_exc_tuple` in IPython 7.17 and above.\n",
      "  and should_run_async(code)\n"
     ]
    }
   ],
   "source": [
    "from collections import Counter\n",
    "\n",
    "print(example,'\\n')\n",
    "words = [token.text for token in doc]\n",
    "\n",
    "# five most common tokens\n",
    "word_freq = Counter(words)\n",
    "common_words = word_freq.most_common()\n",
    "\n",
    "print(common_words)"
   ]
  },
  {
   "cell_type": "markdown",
   "metadata": {},
   "source": [
    "### Without stop words and punctuation"
   ]
  },
  {
   "cell_type": "code",
   "execution_count": 29,
   "metadata": {},
   "outputs": [
    {
     "name": "stdout",
     "output_type": "stream",
     "text": [
      "[('far', 1), ('north', 1), ('London', 1), ('walk', 1), ('streets', 1), ('Petersburgh', 1), ('feel', 1), ('cold', 1), ('northern', 1), ('breeze', 1), ('play', 1), ('cheeks', 1), ('braces', 1), ('nerves', 1), ('fills', 1), ('delight', 1)]\n"
     ]
    },
    {
     "name": "stderr",
     "output_type": "stream",
     "text": [
      "C:\\ProgramData\\Anaconda3\\envs\\ada_nlp\\lib\\site-packages\\ipykernel\\ipkernel.py:287: DeprecationWarning: `should_run_async` will not call `transform_cell` automatically in the future. Please pass the result to `transformed_cell` argument and any exception that happen during thetransform in `preprocessing_exc_tuple` in IPython 7.17 and above.\n",
      "  and should_run_async(code)\n"
     ]
    }
   ],
   "source": [
    "words = [token.text for token in doc if token.is_stop != True and token.is_punct != True]\n",
    "\n",
    "# five most common tokens\n",
    "word_freq = Counter(words)\n",
    "common_words = word_freq.most_common()\n",
    "\n",
    "print(common_words)"
   ]
  },
  {
   "cell_type": "markdown",
   "metadata": {},
   "source": [
    "## Putting all the components together"
   ]
  },
  {
   "cell_type": "markdown",
   "metadata": {},
   "source": [
    "### Under the hood: the pipeline [\"tokenizer\",\"tagger\", \"parser\", \"ner\"]."
   ]
  },
  {
   "cell_type": "markdown",
   "metadata": {},
   "source": [
    "#### The NLP pipeline with Spacy\n",
    "<img src=\"spacy.png\">"
   ]
  },
  {
   "cell_type": "code",
   "execution_count": 48,
   "metadata": {},
   "outputs": [
    {
     "name": "stderr",
     "output_type": "stream",
     "text": [
      "C:\\ProgramData\\Anaconda3\\envs\\ada_nlp\\lib\\site-packages\\ipykernel\\ipkernel.py:287: DeprecationWarning: `should_run_async` will not call `transform_cell` automatically in the future. Please pass the result to `transformed_cell` argument and any exception that happen during thetransform in `preprocessing_exc_tuple` in IPython 7.17 and above.\n",
      "  and should_run_async(code)\n"
     ]
    }
   ],
   "source": [
    "nlp = spacy.load('en')"
   ]
  },
  {
   "cell_type": "markdown",
   "metadata": {},
   "source": [
    "### If you don't need a particular component of the pipeline – for example, the tagger or the parser, you can disable loading it. This can sometimes make a big difference and improve loading speed. "
   ]
  },
  {
   "cell_type": "code",
   "execution_count": 31,
   "metadata": {},
   "outputs": [
    {
     "name": "stderr",
     "output_type": "stream",
     "text": [
      "C:\\ProgramData\\Anaconda3\\envs\\ada_nlp\\lib\\site-packages\\ipykernel\\ipkernel.py:287: DeprecationWarning: `should_run_async` will not call `transform_cell` automatically in the future. Please pass the result to `transformed_cell` argument and any exception that happen during thetransform in `preprocessing_exc_tuple` in IPython 7.17 and above.\n",
      "  and should_run_async(code)\n"
     ]
    },
    {
     "data": {
      "text/plain": [
       "('tagger', <spacy.pipeline.pipes.Tagger at 0x241b08180c8>)"
      ]
     },
     "execution_count": 31,
     "metadata": {},
     "output_type": "execute_result"
    }
   ],
   "source": [
    "nlp.remove_pipe('parser')\n",
    "nlp.remove_pipe('tagger')"
   ]
  },
  {
   "cell_type": "markdown",
   "metadata": {},
   "source": [
    "# Task 1: Seniment analysis"
   ]
  },
  {
   "cell_type": "markdown",
   "metadata": {},
   "source": [
    "### Initialize the analyzer. Typically used for data from social media (short sentences)."
   ]
  },
  {
   "cell_type": "code",
   "execution_count": 49,
   "metadata": {},
   "outputs": [
    {
     "name": "stderr",
     "output_type": "stream",
     "text": [
      "C:\\ProgramData\\Anaconda3\\envs\\ada_nlp\\lib\\site-packages\\ipykernel\\ipkernel.py:287: DeprecationWarning: `should_run_async` will not call `transform_cell` automatically in the future. Please pass the result to `transformed_cell` argument and any exception that happen during thetransform in `preprocessing_exc_tuple` in IPython 7.17 and above.\n",
      "  and should_run_async(code)\n"
     ]
    }
   ],
   "source": [
    "analyzer = SentimentIntensityAnalyzer()\n",
    "vs = analyzer.polarity_scores(example)"
   ]
  },
  {
   "cell_type": "markdown",
   "metadata": {},
   "source": [
    "### The sentiment score consits of four values. Neutral, positive and negative sum to one. The final score is obtained by thresholding the compound value (e.g. +/-0.05)."
   ]
  },
  {
   "cell_type": "code",
   "execution_count": 50,
   "metadata": {},
   "outputs": [
    {
     "name": "stdout",
     "output_type": "stream",
     "text": [
      "I am already far north of London, and as I walk in the streets of Petersburgh, I feel a cold northern breeze play upon my cheeks, which braces my nerves and fills me with delight. \n",
      "\n",
      "Negative sentiment: 0.035\n",
      "Neutral sentiment: 0.806\n",
      "Positive sentiment: 0.159\n",
      "Compound sentiment: 0.7096\n"
     ]
    },
    {
     "name": "stderr",
     "output_type": "stream",
     "text": [
      "C:\\ProgramData\\Anaconda3\\envs\\ada_nlp\\lib\\site-packages\\ipykernel\\ipkernel.py:287: DeprecationWarning: `should_run_async` will not call `transform_cell` automatically in the future. Please pass the result to `transformed_cell` argument and any exception that happen during thetransform in `preprocessing_exc_tuple` in IPython 7.17 and above.\n",
      "  and should_run_async(code)\n"
     ]
    }
   ],
   "source": [
    "print(example, '\\n')\n",
    "print('Negative sentiment:',vs['neg'])\n",
    "print('Neutral sentiment:',vs['neu'])\n",
    "print('Positive sentiment:',vs['pos'])\n",
    "print('Compound sentiment:',vs['compound'])"
   ]
  },
  {
   "cell_type": "markdown",
   "metadata": {},
   "source": [
    "### We can now observe the distributions of sentiment across all sentences in the book Pride and Prejudice:"
   ]
  },
  {
   "cell_type": "code",
   "execution_count": 60,
   "metadata": {},
   "outputs": [],
   "source": [
    "nlp = spacy.load('en')\n",
    "doc = nlp(books[3])"
   ]
  },
  {
   "cell_type": "code",
   "execution_count": 61,
   "metadata": {},
   "outputs": [
    {
     "data": {
      "text/plain": [
       "Text(0, 0.5, 'Number of sentences')"
      ]
     },
     "execution_count": 61,
     "metadata": {},
     "output_type": "execute_result"
    },
    {
     "data": {
      "image/png": "[encoded data removed]",
      "text/plain": [
       "<Figure size 432x288 with 1 Axes>"
      ]
     },
     "metadata": {
      "needs_background": "light"
     },
     "output_type": "display_data"
    }
   ],
   "source": [
    "positive_sent = []\n",
    "#iterate through the sentences, get polarity scores, choose a value\n",
    "[positive_sent.append(analyzer.polarity_scores(sent.text)['pos']) for sent in doc.sents]\n",
    "plt.hist(positive_sent,bins=15)\n",
    "plt.xlim([0,1])\n",
    "plt.ylim([0,8000])\n",
    "plt.xlabel('Positive sentiment')\n",
    "plt.ylabel('Number of sentences')"
   ]
  },
  {
   "cell_type": "code",
   "execution_count": 64,
   "metadata": {},
   "outputs": [
    {
     "data": {
      "text/plain": [
       "Text(0, 0.5, 'Number of sentences')"
      ]
     },
     "execution_count": 64,
     "metadata": {},
     "output_type": "execute_result"
    },
    {
     "data": {
      "image/png": "[encoded data removed]",
      "text/plain": [
       "<Figure size 432x288 with 1 Axes>"
      ]
     },
     "metadata": {
      "needs_background": "light"
     },
     "output_type": "display_data"
    }
   ],
   "source": [
    "negative_sent = []\n",
    "[negative_sent.append(analyzer.polarity_scores(sent.text)['neg']) for sent in doc.sents]\n",
    "plt.hist(negative_sent,bins=15)\n",
    "plt.xlim([0,1])\n",
    "plt.ylim([0,8000])\n",
    "plt.xlabel('Negative sentiment')\n",
    "plt.ylabel('Number of sentences')"
   ]
  },
  {
   "cell_type": "code",
   "execution_count": 65,
   "metadata": {},
   "outputs": [
    {
     "data": {
      "text/plain": [
       "Text(0, 0.5, 'Number of sentences')"
      ]
     },
     "execution_count": 65,
     "metadata": {},
     "output_type": "execute_result"
    },
    {
     "data": {
      "image/png": "[encoded data removed]",
      "text/plain": [
       "<Figure size 432x288 with 1 Axes>"
      ]
     },
     "metadata": {
      "needs_background": "light"
     },
     "output_type": "display_data"
    }
   ],
   "source": [
    "total_sent = []\n",
    "[total_sent.append(analyzer.polarity_scores(sent.text)['compound']) for sent in doc.sents]\n",
    "plt.hist(total_sent,bins = 15)\n",
    "plt.xlim([-1,1])\n",
    "plt.ylim([0,8000])\n",
    "plt.xlabel('Compound sentiment')\n",
    "plt.ylabel('Number of sentences')"
   ]
  },
  {
   "cell_type": "code",
   "execution_count": 66,
   "metadata": {},
   "outputs": [
    {
     "name": "stdout",
     "output_type": "stream",
     "text": [
      "Number of positive sentences: 2891\n",
      "Number of negative sentences: 1445\n",
      "Number of neutral sentences: 2252\n"
     ]
    }
   ],
   "source": [
    "sents = [analyzer.polarity_scores(sent.text)['compound'] for sent in doc.sents]\n",
    "print('Number of positive sentences:',sum(np.array(sents)>=0.05))\n",
    "print('Number of negative sentences:',sum(np.array(sents)<=-0.05))\n",
    "print('Number of neutral sentences:',sum(np.abs(np.array(sents))<0.05))"
   ]
  },
  {
   "cell_type": "markdown",
   "metadata": {},
   "source": [
    "#### Most of the sentences are quite neutral in sentiment. This is not the case when working with data from other sources (e.g., in social media opinions are strong and polarized (bimodal distribution))."
   ]
  },
  {
   "cell_type": "markdown",
   "metadata": {},
   "source": [
    "# Task 2: Document classification: Can we detect paragraphs from Frankenstein?"
   ]
  },
  {
   "cell_type": "code",
   "execution_count": 40,
   "metadata": {},
   "outputs": [
    {
     "name": "stdout",
     "output_type": "stream",
     "text": [
      "['.ipynb_checkpoints/DRACULA-checkpoint.txt', 'DRACULA.txt', 'Frankenstein.txt', 'Moby_Dick.txt', 'PRIDE_AND_PREJUDICE.txt']\n"
     ]
    },
    {
     "name": "stderr",
     "output_type": "stream",
     "text": [
      "C:\\ProgramData\\Anaconda3\\envs\\ada_nlp\\lib\\site-packages\\ipykernel\\ipkernel.py:287: DeprecationWarning: `should_run_async` will not call `transform_cell` automatically in the future. Please pass the result to `transformed_cell` argument and any exception that happen during thetransform in `preprocessing_exc_tuple` in IPython 7.17 and above.\n",
      "  and should_run_async(code)\n"
     ]
    },
    {
     "data": {
      "text/plain": [
       "\u001b[1;31mInit signature:\u001b[0m\n",
       "\u001b[0mPlaintextCorpusReader\u001b[0m\u001b[1;33m(\u001b[0m\u001b[1;33m\n",
       "\u001b[0m    \u001b[0mroot\u001b[0m\u001b[1;33m,\u001b[0m\u001b[1;33m\n",
       "\u001b[0m    \u001b[0mfileids\u001b[0m\u001b[1;33m,\u001b[0m\u001b[1;33m\n",
       "\u001b[0m    \u001b[0mword_tokenizer\u001b[0m\u001b[1;33m=\u001b[0m\u001b[0mWordPunctTokenizer\u001b[0m\u001b[1;33m(\u001b[0m\u001b[0mpattern\u001b[0m\u001b[1;33m=\u001b[0m\u001b[1;34m'\\\\w+|[^\\\\w\\\\s]+'\u001b[0m\u001b[1;33m,\u001b[0m \u001b[0mgaps\u001b[0m\u001b[1;33m=\u001b[0m\u001b[1;32mFalse\u001b[0m\u001b[1;33m,\u001b[0m \u001b[0mdiscard_empty\u001b[0m\u001b[1;33m=\u001b[0m\u001b[1;32mTrue\u001b[0m\u001b[1;33m,\u001b[0m \u001b[0mflags\u001b[0m\u001b[1;33m=\u001b[0m\u001b[1;33m<\u001b[0m\u001b[0mRegexFlag\u001b[0m\u001b[1;33m.\u001b[0m\u001b[0mUNICODE\u001b[0m\u001b[1;33m|\u001b[0m\u001b[0mDOTALL\u001b[0m\u001b[1;33m|\u001b[0m\u001b[0mMULTILINE\u001b[0m\u001b[1;33m:\u001b[0m \u001b[1;36m56\u001b[0m\u001b[1;33m>\u001b[0m\u001b[1;33m)\u001b[0m\u001b[1;33m,\u001b[0m\u001b[1;33m\n",
       "\u001b[0m    \u001b[0msent_tokenizer\u001b[0m\u001b[1;33m=\u001b[0m\u001b[1;33m<\u001b[0m\u001b[0mnltk\u001b[0m\u001b[1;33m.\u001b[0m\u001b[0mtokenize\u001b[0m\u001b[1;33m.\u001b[0m\u001b[0mpunkt\u001b[0m\u001b[1;33m.\u001b[0m\u001b[0mPunktSentenceTokenizer\u001b[0m \u001b[0mobject\u001b[0m \u001b[0mat\u001b[0m \u001b[1;36m0x00000241A8DE5AC8\u001b[0m\u001b[1;33m>\u001b[0m\u001b[1;33m,\u001b[0m\u001b[1;33m\n",
       "\u001b[0m    \u001b[0mpara_block_reader\u001b[0m\u001b[1;33m=\u001b[0m\u001b[1;33m<\u001b[0m\u001b[0mfunction\u001b[0m \u001b[0mread_blankline_block\u001b[0m \u001b[0mat\u001b[0m \u001b[1;36m0x00000241A8DF90D8\u001b[0m\u001b[1;33m>\u001b[0m\u001b[1;33m,\u001b[0m\u001b[1;33m\n",
       "\u001b[0m    \u001b[0mencoding\u001b[0m\u001b[1;33m=\u001b[0m\u001b[1;34m'utf8'\u001b[0m\u001b[1;33m,\u001b[0m\u001b[1;33m\n",
       "\u001b[0m\u001b[1;33m)\u001b[0m\u001b[1;33m\u001b[0m\u001b[1;33m\u001b[0m\u001b[0m\n",
       "\u001b[1;31mDocstring:\u001b[0m     \n",
       "Reader for corpora that consist of plaintext documents.  Paragraphs\n",
       "are assumed to be split using blank lines.  Sentences and words can\n",
       "be tokenized using the default tokenizers, or by custom tokenizers\n",
       "specificed as parameters to the constructor.\n",
       "\n",
       "This corpus reader can be customized (e.g., to skip preface\n",
       "sections of specific document formats) by creating a subclass and\n",
       "overriding the ``CorpusView`` class variable.\n",
       "\u001b[1;31mInit docstring:\u001b[0m\n",
       "Construct a new plaintext corpus reader for a set of documents\n",
       "located at the given root directory.  Example usage:\n",
       "\n",
       "    >>> root = '/usr/local/share/nltk_data/corpora/webtext/'\n",
       "    >>> reader = PlaintextCorpusReader(root, '.*\\.txt') # doctest: +SKIP\n",
       "\n",
       ":param root: The root directory for this corpus.\n",
       ":param fileids: A list or regexp specifying the fileids in this corpus.\n",
       ":param word_tokenizer: Tokenizer for breaking sentences or\n",
       "    paragraphs into words.\n",
       ":param sent_tokenizer: Tokenizer for breaking paragraphs\n",
       "    into words.\n",
       ":param para_block_reader: The block reader used to divide the\n",
       "    corpus into paragraph blocks.\n",
       "\u001b[1;31mFile:\u001b[0m           c:\\programdata\\anaconda3\\envs\\ada_nlp\\lib\\site-packages\\nltk\\corpus\\reader\\plaintext.py\n",
       "\u001b[1;31mType:\u001b[0m           type\n",
       "\u001b[1;31mSubclasses:\u001b[0m     CategorizedPlaintextCorpusReader, EuroparlCorpusReader, UdhrCorpusReader\n"
      ]
     },
     "metadata": {},
     "output_type": "display_data"
    }
   ],
   "source": [
    "# Let's load our corpus via NLTK this time\n",
    "from nltk.corpus import PlaintextCorpusReader\n",
    "?PlaintextCorpusReader\n",
    "our_books = PlaintextCorpusReader(corpus_root, '.*.txt')\n",
    "print(our_books.fileids())"
   ]
  },
  {
   "cell_type": "markdown",
   "metadata": {},
   "source": [
    "### We will segment the books into equally long chunks"
   ]
  },
  {
   "cell_type": "code",
   "execution_count": 41,
   "metadata": {},
   "outputs": [
    {
     "name": "stderr",
     "output_type": "stream",
     "text": [
      "C:\\ProgramData\\Anaconda3\\envs\\ada_nlp\\lib\\site-packages\\ipykernel\\ipkernel.py:287: DeprecationWarning: `should_run_async` will not call `transform_cell` automatically in the future. Please pass the result to `transformed_cell` argument and any exception that happen during thetransform in `preprocessing_exc_tuple` in IPython 7.17 and above.\n",
      "  and should_run_async(code)\n"
     ]
    },
    {
     "name": "stdout",
     "output_type": "stream",
     "text": [
      ".ipynb_checkpoints/DRACULA-checkpoint.txt :\n",
      "Number of sentences: 9303\n",
      "Number of chunks: 187 \n",
      "\n",
      "DRACULA.txt :\n",
      "Number of sentences: 9303\n",
      "Number of chunks: 187 \n",
      "\n",
      "Frankenstein.txt :\n",
      "Number of sentences: 3378\n",
      "Number of chunks: 68 \n",
      "\n",
      "Moby_Dick.txt :\n",
      "Number of sentences: 9609\n",
      "Number of chunks: 193 \n",
      "\n",
      "PRIDE_AND_PREJUDICE.txt :\n",
      "Number of sentences: 6055\n",
      "Number of chunks: 122 \n",
      "\n"
     ]
    }
   ],
   "source": [
    "def get_chunks(l, n):\n",
    "    \"\"\"Yield successive n-sized chunks from l.\"\"\"\n",
    "    for i in range(0, len(l), n):\n",
    "        yield l[i:i + n]\n",
    "\n",
    "\n",
    "# Get the data\n",
    "book_id = {f:n for n,f in enumerate(our_books.fileids())} # dictionary of books\n",
    "\n",
    "chunks = list()\n",
    "chunk_class = list() # this list contains the original book of the chunk, for evaluation\n",
    "\n",
    "limit = 500 # how many chunks total\n",
    "size = 50 # how many sentences per chunk/page\n",
    "\n",
    "for f in our_books.fileids():\n",
    "    sentences = our_books.sents(f)\n",
    "    print(f,\":\")\n",
    "    print('Number of sentences:',len(sentences))\n",
    "    \n",
    "    # create chunks\n",
    "    chunks_of_sents = [x for x in get_chunks(sentences,size)] # this is a list of lists of sentences, which are a list of tokens\n",
    "    chs = list()\n",
    "    \n",
    "    # regroup so to have a list of chunks which are strings\n",
    "    for c in chunks_of_sents:\n",
    "        grouped_chunk = list()\n",
    "        for s in c:\n",
    "            grouped_chunk.extend(s)\n",
    "        chs.append(\" \".join(grouped_chunk))\n",
    "    print(\"Number of chunks:\",len(chs),'\\n')\n",
    "    \n",
    "    # filter to the limit, to have the same number of chunks per book\n",
    "    chunks.extend(chs[:limit])\n",
    "    chunk_class.extend([book_id[f] for _ in range(len(chs[:limit]))])"
   ]
  },
  {
   "cell_type": "markdown",
   "metadata": {},
   "source": [
    "### Representing the chunks with bag-of-words"
   ]
  },
  {
   "cell_type": "code",
   "execution_count": 43,
   "metadata": {},
   "outputs": [
    {
     "name": "stderr",
     "output_type": "stream",
     "text": [
      "C:\\ProgramData\\Anaconda3\\envs\\ada_nlp\\lib\\site-packages\\ipykernel\\ipkernel.py:287: DeprecationWarning: `should_run_async` will not call `transform_cell` automatically in the future. Please pass the result to `transformed_cell` argument and any exception that happen during thetransform in `preprocessing_exc_tuple` in IPython 7.17 and above.\n",
      "  and should_run_async(code)\n"
     ]
    },
    {
     "name": "stdout",
     "output_type": "stream",
     "text": [
      "Number of samples: 757\n",
      "Number of features: 23116\n"
     ]
    }
   ],
   "source": [
    "vectorizer = CountVectorizer()\n",
    "\n",
    "#initialize and specify minumum number of occurences to avoid untractable number of features\n",
    "#vectorizer = CountVectorizer(min_df = 2) if we want high frequency\n",
    "\n",
    "#create bag of words features\n",
    "X = vectorizer.fit_transform(chunks)\n",
    "\n",
    "print('Number of samples:',X.toarray().shape[0])\n",
    "print('Number of features:',X.toarray().shape[1])\n",
    "\n",
    "#mask and convert to int Frankenstein\n",
    "Y = np.array(chunk_class) == 2\n",
    "Y = Y.astype(int)  \n",
    "\n",
    "#shuffle the data\n",
    "X, Y = shuffle(X, Y, random_state=0)\n",
    "\n",
    "#split into training and test set\n",
    "X_train, X_test, Y_train, Y_test = train_test_split(X, Y, test_size=0.2, random_state=42)"
   ]
  },
  {
   "cell_type": "markdown",
   "metadata": {},
   "source": [
    "### Let's fit the regularized logistic regression. We will crossvalidate the regularization parameter on the training set."
   ]
  },
  {
   "cell_type": "code",
   "execution_count": 44,
   "metadata": {},
   "outputs": [
    {
     "name": "stderr",
     "output_type": "stream",
     "text": [
      "C:\\ProgramData\\Anaconda3\\envs\\ada_nlp\\lib\\site-packages\\ipykernel\\ipkernel.py:287: DeprecationWarning: `should_run_async` will not call `transform_cell` automatically in the future. Please pass the result to `transformed_cell` argument and any exception that happen during thetransform in `preprocessing_exc_tuple` in IPython 7.17 and above.\n",
      "  and should_run_async(code)\n"
     ]
    }
   ],
   "source": [
    "accs = []\n",
    "\n",
    "#the grid of regularization parameter \n",
    "grid = [0.01,0.1,1,10,100,1000,10000]\n",
    "\n",
    "for c in grid:\n",
    "    \n",
    "    #initialize the classifier\n",
    "    clf = LogisticRegression(random_state=0, solver='lbfgs',C = c)\n",
    "    \n",
    "    #crossvalidate\n",
    "    scores = cross_val_score(clf, X_train,Y_train, cv=10)\n",
    "    accs.append(np.mean(scores))"
   ]
  },
  {
   "cell_type": "code",
   "execution_count": 45,
   "metadata": {},
   "outputs": [
    {
     "name": "stderr",
     "output_type": "stream",
     "text": [
      "C:\\ProgramData\\Anaconda3\\envs\\ada_nlp\\lib\\site-packages\\ipykernel\\ipkernel.py:287: DeprecationWarning: `should_run_async` will not call `transform_cell` automatically in the future. Please pass the result to `transformed_cell` argument and any exception that happen during thetransform in `preprocessing_exc_tuple` in IPython 7.17 and above.\n",
      "  and should_run_async(code)\n"
     ]
    },
    {
     "data": {
      "text/plain": [
       "(0.986, 1.0)"
      ]
     },
     "execution_count": 45,
     "metadata": {},
     "output_type": "execute_result"
    },
    {
     "data": {
      "image/png": "[encoded data removed]",
      "text/plain": [
       "<Figure size 432x288 with 1 Axes>"
      ]
     },
     "metadata": {
      "needs_background": "light"
     },
     "output_type": "display_data"
    }
   ],
   "source": [
    "plt.plot(accs)\n",
    "plt.xticks(range(len(grid)), grid)\n",
    "plt.xlabel('Regularization parameter \\n (Low - strong regularization, High - weak regularization)')\n",
    "plt.ylabel('Crossvalidation accuracy')\n",
    "plt.ylim([0.986,1])"
   ]
  },
  {
   "cell_type": "markdown",
   "metadata": {},
   "source": [
    "### Let's train again, on the entire training set, with the chosen regularization parameter. We will test on the test set"
   ]
  },
  {
   "cell_type": "code",
   "execution_count": 46,
   "metadata": {},
   "outputs": [
    {
     "name": "stderr",
     "output_type": "stream",
     "text": [
      "C:\\ProgramData\\Anaconda3\\envs\\ada_nlp\\lib\\site-packages\\ipykernel\\ipkernel.py:287: DeprecationWarning: `should_run_async` will not call `transform_cell` automatically in the future. Please pass the result to `transformed_cell` argument and any exception that happen during thetransform in `preprocessing_exc_tuple` in IPython 7.17 and above.\n",
      "  and should_run_async(code)\n"
     ]
    },
    {
     "name": "stdout",
     "output_type": "stream",
     "text": [
      "Accuracy: 1.0\n"
     ]
    }
   ],
   "source": [
    "clf = LogisticRegression(random_state=0, solver='lbfgs',C = 10).fit(X_train,Y_train)\n",
    "\n",
    "#predict on the test set\n",
    "print('Accuracy:',clf.score(X_test,Y_test))"
   ]
  },
  {
   "cell_type": "markdown",
   "metadata": {},
   "source": [
    "### What features characterize Frankenstein? BOW are interpretable!"
   ]
  },
  {
   "cell_type": "code",
   "execution_count": 47,
   "metadata": {},
   "outputs": [
    {
     "name": "stdout",
     "output_type": "stream",
     "text": [
      "['during' 'father' 'upon' 'of' 'ice' 'towards' 'will' 'who' 'this'\n",
      " 'although' 'me' 'our' 'by' 'and' 'yet' 'but' 'which' 'justine' 'misery'\n",
      " 'my']\n"
     ]
    },
    {
     "name": "stderr",
     "output_type": "stream",
     "text": [
      "C:\\ProgramData\\Anaconda3\\envs\\ada_nlp\\lib\\site-packages\\ipykernel\\ipkernel.py:287: DeprecationWarning: `should_run_async` will not call `transform_cell` automatically in the future. Please pass the result to `transformed_cell` argument and any exception that happen during thetransform in `preprocessing_exc_tuple` in IPython 7.17 and above.\n",
      "  and should_run_async(code)\n"
     ]
    }
   ],
   "source": [
    "coefs=clf.coef_[0]\n",
    "top_three = np.argpartition(coefs, -20)[-20:]\n",
    "\n",
    "print(np.array(vectorizer.get_feature_names())[top_three])"
   ]
  },
  {
   "cell_type": "markdown",
   "metadata": {},
   "source": [
    "### We can perfectly predict paragraphs from Frankenstein! We saw issues of high dimensionality when using bag of words (more features than samples) and how regularization helps."
   ]
  },
  {
   "cell_type": "markdown",
   "metadata": {},
   "source": [
    "### Alternative text representation: word emdeddings, pretrained on intergraded in Spacy (300-dimensional word vectors trained on Common Crawl with GloVe.) Depending on the application, might be suitable or not"
   ]
  },
  {
   "cell_type": "code",
   "execution_count": 67,
   "metadata": {},
   "outputs": [
    {
     "name": "stdout",
     "output_type": "stream",
     "text": [
      "I am already far north of London, and as I walk in the streets of Petersburgh, I feel a cold northern breeze play upon my cheeks, which braces my nerves and fills me with delight. \n",
      "\n",
      "Embedding representation: [0.44159147, 0.47352052, 0.38473955, -0.8381282, 0.8601264, -0.7688055, 0.01724484, 1.2903913, -0.6650688, 0.7241268] ...\n"
     ]
    }
   ],
   "source": [
    "print(example,'\\n')\n",
    "print('Embedding representation:',list((nlp(example).vector)[0:10]),'...')"
   ]
  },
  {
   "cell_type": "markdown",
   "metadata": {},
   "source": [
    "# Task 3: Topic detection"
   ]
  },
  {
   "cell_type": "code",
   "execution_count": 68,
   "metadata": {},
   "outputs": [
    {
     "name": "stdout",
     "output_type": "stream",
     "text": [
      ".ipynb_checkpoints/DRACULA-checkpoint.txt\n",
      "Number of sentences: 9303\n",
      "Number of chunks: 187 \n",
      "\n",
      "DRACULA.txt\n",
      "Number of sentences: 9303\n",
      "Number of chunks: 187 \n",
      "\n",
      "Frankenstein.txt\n",
      "Number of sentences: 3378\n",
      "Number of chunks: 68 \n",
      "\n",
      "Moby_Dick.txt\n",
      "Number of sentences: 9609\n",
      "Number of chunks: 193 \n",
      "\n",
      "PRIDE_AND_PREJUDICE.txt\n",
      "Number of sentences: 6055\n",
      "Number of chunks: 122 \n",
      "\n"
     ]
    }
   ],
   "source": [
    "# Get the chunks again (into smaller chunks)\n",
    "book_id = {f:n for n,f in enumerate(our_books.fileids())} # dictionary of books\n",
    "chunks = list()\n",
    "chunk_class = list() # this list contains the original book of the chunk, for evaluation\n",
    "\n",
    "limit = 60 # how many chunks total\n",
    "size = 50 # how many sentences per chunk/page\n",
    "\n",
    "for f in our_books.fileids():\n",
    "    sentences = our_books.sents(f)\n",
    "    print(f)\n",
    "    print('Number of sentences:',len(sentences))\n",
    "    \n",
    "    # create chunks\n",
    "    chunks_of_sents = [x for x in get_chunks(sentences,size)] # this is a list of lists of sentences, which are a list of tokens\n",
    "    chs = list()\n",
    "    \n",
    "    # regroup so to have a list of chunks which are strings\n",
    "    for c in chunks_of_sents:\n",
    "        grouped_chunk = list()\n",
    "        for s in c:\n",
    "            grouped_chunk.extend(s)\n",
    "        chs.append(\" \".join(grouped_chunk))\n",
    "    print(\"Number of chunks:\",len(chs),'\\n')\n",
    "    \n",
    "    # filter to the limit, to have the same number of chunks per book\n",
    "    chunks.extend(chs[:limit])\n",
    "    chunk_class.extend([book_id[f] for _ in range(len(chs[:limit]))])"
   ]
  },
  {
   "cell_type": "code",
   "execution_count": 69,
   "metadata": {},
   "outputs": [],
   "source": [
    "STOPWORDS = spacy.lang.en.stop_words.STOP_WORDS\n",
    "\n",
    "processed_docs = list()\n",
    "for doc in nlp.pipe(chunks, n_threads=5, batch_size=10):\n",
    "\n",
    "    # Process document using Spacy NLP pipeline.\n",
    "    ents = doc.ents  # Named entities\n",
    "\n",
    "    # Keep only words (no numbers, no punctuation).\n",
    "    # Lemmatize tokens, remove punctuation and remove stopwords.\n",
    "    doc = [token.lemma_ for token in doc if token.is_alpha and not token.is_stop]\n",
    "\n",
    "    # Remove common words from a stopword list and keep only words of length 3 or more.\n",
    "    doc = [token for token in doc if token not in STOPWORDS and len(token) > 2]\n",
    "\n",
    "    # Add named entities, but only if they are a compound of more than word.\n",
    "    doc.extend([str(entity) for entity in ents if len(entity) > 1])\n",
    "\n",
    "    processed_docs.append(doc)\n",
    "docs = processed_docs\n",
    "del processed_docs"
   ]
  },
  {
   "cell_type": "code",
   "execution_count": 70,
   "metadata": {},
   "outputs": [],
   "source": [
    "# Add bigrams too\n",
    "from gensim.models.phrases import Phrases\n",
    "\n",
    "# Add bigrams to docs (only ones that appear 15 times or more).\n",
    "bigram = Phrases(docs, min_count=15)\n",
    "\n",
    "for idx in range(len(docs)):\n",
    "    for token in bigram[docs[idx]]:\n",
    "        if '_' in token:\n",
    "            # Token is a bigram, add to document.\n",
    "            docs[idx].append(token)"
   ]
  },
  {
   "cell_type": "code",
   "execution_count": 71,
   "metadata": {},
   "outputs": [
    {
     "name": "stdout",
     "output_type": "stream",
     "text": [
      "Number of unique tokens: 3511\n",
      "Number of chunks: 300\n"
     ]
    }
   ],
   "source": [
    "# Create a dictionary representation of the documents, and filter out frequent and rare words.\n",
    "from gensim.corpora import Dictionary\n",
    "dictionary = Dictionary(docs)\n",
    "\n",
    "# Remove rare and common tokens.\n",
    "# Filter out words that occur too frequently or too rarely.\n",
    "max_freq = 0.5\n",
    "min_wordcount = 5\n",
    "dictionary.filter_extremes(no_below=min_wordcount, no_above=max_freq)\n",
    "\n",
    "# Bag-of-words representation of the documents.\n",
    "corpus = [dictionary.doc2bow(doc) for doc in docs]\n",
    "#MmCorpus.serialize(\"models/corpus.mm\", corpus)\n",
    "\n",
    "print('Number of unique tokens: %d' % len(dictionary))\n",
    "print('Number of chunks: %d' % len(corpus))"
   ]
  },
  {
   "cell_type": "code",
   "execution_count": 72,
   "metadata": {},
   "outputs": [],
   "source": [
    "# models\n",
    "from gensim.models import LdaMulticore\n",
    "params = {'passes': 10, 'random_state': seed}\n",
    "base_models = dict()\n",
    "model = LdaMulticore(corpus=corpus, num_topics=4, id2word=dictionary, workers=6,\n",
    "                passes=params['passes'], random_state=params['random_state'])"
   ]
  },
  {
   "cell_type": "code",
   "execution_count": 73,
   "metadata": {},
   "outputs": [
    {
     "data": {
      "text/plain": [
       "[(0,\n",
       "  '0.006*\"room\" + 0.006*\"door\" + 0.006*\"Count\" + 0.005*\"old\" + 0.005*\"window\"'),\n",
       " (1,\n",
       "  '0.014*\"Elizabeth\" + 0.009*\"Darcy\" + 0.008*\"Bingley\" + 0.007*\"Miss\" + 0.007*\"Mrs\"'),\n",
       " (2,\n",
       "  '0.016*\"whale\" + 0.011*\"ship\" + 0.009*\"sea\" + 0.008*\"Queequeg\" + 0.008*\"old\"'),\n",
       " (3,\n",
       "  '0.011*\"dear\" + 0.006*\"sleep\" + 0.006*\"life\" + 0.005*\"Lucy\" + 0.005*\"poor\"')]"
      ]
     },
     "execution_count": 73,
     "metadata": {},
     "output_type": "execute_result"
    }
   ],
   "source": [
    "model.show_topics(num_words=5)"
   ]
  },
  {
   "cell_type": "code",
   "execution_count": 74,
   "metadata": {},
   "outputs": [
    {
     "data": {
      "text/plain": [
       "[('Elizabeth', 0.013708223),\n",
       " ('Darcy', 0.008924339),\n",
       " ('Bingley', 0.008313646),\n",
       " ('Miss', 0.007450771),\n",
       " ('Mrs', 0.0071238717),\n",
       " ('Bennet', 0.007053309),\n",
       " ('sister', 0.0066519883),\n",
       " ('Jane', 0.005788881),\n",
       " ('Collins', 0.005730903),\n",
       " ('young', 0.005672894),\n",
       " ('speak', 0.0047241994),\n",
       " ('father', 0.0046896674),\n",
       " ('wish', 0.0044884463),\n",
       " ('hope', 0.0043245),\n",
       " ('manner', 0.0042489963),\n",
       " ('lady', 0.003914979),\n",
       " ('dear', 0.0038725596),\n",
       " ('room', 0.0038525092),\n",
       " ('family', 0.003685496),\n",
       " ('love', 0.0036200378)]"
      ]
     },
     "execution_count": 74,
     "metadata": {},
     "output_type": "execute_result"
    }
   ],
   "source": [
    "model.show_topic(1,20)"
   ]
  },
  {
   "cell_type": "code",
   "execution_count": 75,
   "metadata": {},
   "outputs": [
    {
     "data": {
      "text/plain": [
       "[(0, 0.9975509)]"
      ]
     },
     "execution_count": 75,
     "metadata": {},
     "output_type": "execute_result"
    }
   ],
   "source": [
    "sorted(model[corpus[0]],key=lambda x:x[1],reverse=True)"
   ]
  },
  {
   "cell_type": "code",
   "execution_count": 76,
   "metadata": {},
   "outputs": [
    {
     "data": {
      "text/html": [
       "\n",
       "<link rel=\"stylesheet\" type=\"text/css\" href=\"https://cdn.rawgit.com/bmabey/pyLDAvis/files/ldavis.v1.0.0.css\">\n",
       "\n",
       "\n",
       "<div id=\"ldavis_el1541224812614107606394267984\"></div>\n",
       "<script type=\"text/javascript\">\n",
       "\n",
       "var ldavis_el1541224812614107606394267984_data = {\"mdsDat\": {\"x\": [0.06902873150437215, -0.15832212408824434, 0.12316570982672449, -0.03387231724285231], \"y\": [-0.0672311280622319, 0.0636262901446657, 0.09447669065710919, -0.09087185273954283], \"topics\": [1, 2, 3, 4], \"cluster\": [1, 1, 1, 1], \"Freq\": [32.160520329392014, 27.508805266232493, 21.868878207306537, 18.461796197068946]}, \"tinfo\": {\"Term\": [\"whale\", \"Elizabeth\", \"ship\", \"Darcy\", \"Bingley\", \"Queequeg\", \"dear\", \"Bennet\", \"sea\", \"Jane\", \"Miss\", \"Collins\", \"Captain\", \"Ahab\", \"Lucy\", \"Mrs\", \"sister\", \"Count\", \"Arthur\", \"Bildad\", \"harpooneer\", \"old\", \"Peleg\", \"Mrs_Bennet\", \"sleep\", \"Lady\", \"Wickham\", \"Catherine\", \"Van_Helsing\", \"Helsing\", \"harbour\", \"spider\", \"cliff\", \"driver\", \"courtyard\", \"June\", \"Szgany\", \"Safie\", \"cat\", \"Bistritz\", \"howling_wolf\", \"Pier\", \"abbey\", \"wolf\", \"lunatic\", \"the East Cliff\", \"Slovaks\", \"pier\", \"pet\", \"Transylvania\", \"JOURNAL\", \"sparrow\", \"moonlight\", \"Tate\", \"Kettleness\", \"fury\", \"lid\", \"crash\", \"Mem\", \"Count\", \"Felix\", \"chill\", \"steep\", \"castle\", \"sweep\", \"lock\", \"East\", \"window\", \"cloud\", \"stone\", \"flame\", \"attendant\", \"wall\", \"horse\", \"door\", \"run\", \"sound\", \"fly\", \"light\", \"fall\", \"mountain\", \"key\", \"Lucy\", \"strange\", \"dark\", \"fear\", \"room\", \"wind\", \"sun\", \"open\", \"close\", \"foot\", \"old\", \"lie\", \"sleep\", \"pass\", \"try\", \"sit\", \"heart\", \"throw\", \"write\", \"work\", \"white\", \"morning\", \"sea\", \"ask\", \"mind\", \"word\", \"face\", \"life\", \"sort\", \"Jane\", \"Bennet\", \"Bingley\", \"Darcy\", \"Collins\", \"Mrs_Bennet\", \"Miss_Bingley\", \"Charlotte\", \"Wickham\", \"Lucas\", \"Netherfield\", \"Longbourn\", \"Lizzy\", \"Catherine\", \"Miss_Bennet\", \"Meryton\", \"Lydia\", \"Lady_Catherine\", \"Lady Catherine\", \"Hurst\", \"Colonel\", \"Miss_Lucas\", \"Fitzwilliam\", \"Hertfordshire\", \"invitation\", \"Phillips\", \"Bourgh\", \"Colonel_Fitzwilliam\", \"Eliza\", \"Lady\", \"Sir_William\", \"Miss\", \"Elizabeth\", \"sister\", \"Mrs\", \"dance\", \"agreeable\", \"daughter\", \"family\", \"attention\", \"lady\", \"manner\", \"young\", \"pleasure\", \"hope\", \"father\", \"subject\", \"reply\", \"wish\", \"speak\", \"girl\", \"believe\", \"love\", \"dear\", \"room\", \"feeling\", \"return\", \"whale\", \"Queequeg\", \"harpooneer\", \"Jonah\", \"Ahab\", \"Bildad\", \"Peleg\", \"mast\", \"Whale\", \"Nantucket\", \"Pequod\", \"Starbuck\", \"whaling\", \"Captain_Ahab\", \"harpoon\", \"shipmate\", \"whaleman\", \"Stubb\", \"leg\", \"Captain_Peleg\", \"Flask\", \"oil\", \"mast_head\", \"pipe\", \"whale_ship\", \"Captain Ahab\", \"Cape\", \"cannibal\", \"cabin\", \"pilot\", \"Captain\", \"ship\", \"thou\", \"sailor\", \"voyage\", \"deck\", \"sea\", \"mate\", \"crew\", \"head\", \"captain\", \"old\", \"sail\", \"stand\", \"sort\", \"God\", \"round\", \"world\", \"water\", \"bed\", \"land\", \"small\", \"Van_Helsing\", \"Helsing\", \"Van Helsing\", \"Justine\", \"Van\", \"Professor\", \"Amsterdam\", \"Victor\", \"Telegram\", \"telegram\", \"transfusion\", \"September\", \"innocence\", \"seward\", \"rave\", \"Ernest\", \"weak\", \"Frankenstein\", \"Madame\", \"ghastly\", \"drug\", \"Arthur_Holmwood\", \"Arthur Holmwood\", \"firmly\", \"Arthur\", \"victim\", \"bewilder\", \"murderer\", \"Henry\", \"sickness\", \"Clerval\", \"disease\", \"Geneva\", \"crime\", \"murder\", \"Westenra\", \"Letter\", \"dear\", \"restore\", \"nurse\", \"Holmwood\", \"poor\", \"Seward\", \"weep\", \"Lucy\", \"death\", \"sleep\", \"life\", \"misery\", \"miserable\", \"cause\", \"bad\", \"ask\", \"love\", \"happy\", \"write\", \"let\", \"father\", \"letter\", \"wish\", \"mind\", \"heart\", \"fear\", \"want\", \"work\", \"blood\", \"young\", \"old\", \"return\", \"face\", \"room\"], \"Freq\": [318.0, 390.0, 224.0, 223.0, 208.0, 158.0, 320.0, 176.0, 256.0, 144.0, 206.0, 143.0, 116.0, 105.0, 211.0, 203.0, 184.0, 177.0, 86.0, 73.0, 72.0, 365.0, 69.0, 84.0, 248.0, 91.0, 77.0, 79.0, 55.0, 55.0, 48.4224270625356, 21.17082132226929, 23.904689090865325, 56.90522766662774, 20.154843850661937, 21.952543782084604, 17.37869737159264, 22.852588694419083, 19.184971613457066, 17.33052561216324, 19.139619220690303, 17.283273431107673, 15.442604263326627, 41.727616922237615, 15.396104923906785, 13.538099345885666, 15.279663733372189, 27.826446644901214, 11.644448316412076, 15.172596852780396, 11.588860140555594, 10.65452051276831, 37.22481552006711, 11.533139754255254, 9.742001502950652, 22.839155439639388, 8.786694309293276, 8.78224715417219, 11.406058570356725, 162.22009250903116, 42.61175616028179, 23.43886369718581, 18.96724038083298, 54.3370136894518, 47.32017259210683, 55.555862613477466, 25.499857780183813, 135.3406212735101, 51.799381587939074, 48.19680362430749, 36.02839689784135, 39.01453398278354, 53.51634556971601, 51.90184889245221, 164.57799924895275, 115.6042462144846, 73.35534624894538, 58.200883279591885, 116.15273260924079, 96.5832896566276, 54.929980056466235, 46.88785286174067, 122.62770962348877, 88.39653602578842, 65.21953658633291, 116.01115122385959, 168.78392841522708, 70.56053536046427, 61.932963478243586, 102.94895473905243, 84.90863925378913, 74.12391840117294, 139.6922008752594, 83.74158313956603, 108.12638308888536, 95.96428204269695, 87.05529896756879, 86.13580143578778, 84.57260577915959, 67.58232753373457, 80.32424127093071, 73.34521404473843, 68.6464784489808, 74.63861281700487, 81.9133737534876, 77.33076776951154, 76.9950913472909, 75.14220492397175, 72.25462777755862, 75.05716581911511, 72.26883576869723, 143.27131049500832, 174.56514728337754, 205.75771533739743, 220.87200767122906, 141.83638773324284, 83.0358559555636, 67.85817126105275, 72.56630880801148, 76.30472360026188, 58.376412048713405, 48.81452641375386, 40.28572996330078, 36.53666334133348, 77.55969180956374, 34.53476186416643, 29.83589028538988, 36.359517967656444, 70.86036800175312, 59.58597240398813, 29.750819708105293, 29.622643362794065, 23.11902135530145, 28.66203099098128, 24.01844116951555, 25.803753521633013, 19.34493575487954, 30.3405167565655, 22.969856842943223, 19.274043607142385, 87.1191514665353, 38.20508504383922, 184.40209041786463, 339.27024413599275, 164.63269783256487, 176.31152873932658, 61.819445293066515, 37.77499256859176, 78.95714156692078, 91.21380470343179, 71.10487316091874, 96.89336491841587, 105.16009524077595, 140.40070433229823, 76.04196310079702, 107.02876673202493, 116.06643943694614, 71.32159194037386, 76.66976125723025, 111.08633880893862, 116.92108670372023, 81.89426908329699, 79.9889082764908, 89.59375273781738, 95.84351574108733, 95.34727935055429, 81.60759454903358, 81.21447086661748, 316.71721936926616, 157.4397726253172, 71.88105156465768, 59.715256033437974, 103.55390225802283, 72.70509873669212, 68.0352079656678, 54.854901356387124, 61.3305046645836, 45.51863801622481, 44.536629076684136, 39.79707057872301, 35.12085116719611, 38.79796995788294, 34.17153447734537, 31.36119893342952, 32.27062205410423, 43.25381387586136, 35.848200468764645, 28.455617693524296, 35.786437243592005, 29.344325568196357, 26.58691880630496, 28.40931073549295, 20.98042588883554, 21.8698987891782, 21.847387794296072, 19.033719578671484, 48.0359297898695, 17.202702786721115, 110.66204436604221, 209.6268187426972, 65.45229806204922, 45.81625590704742, 66.34841798184121, 67.41197316067712, 171.37606660790138, 59.72686884825812, 36.812224433558214, 117.3459316392989, 47.38286356471757, 156.9101000017414, 66.88882845075761, 79.17824205216338, 75.78480806501099, 67.0360111439949, 68.37214909215751, 69.69708651478355, 55.12627016282336, 59.05293620436625, 49.75312839885432, 50.045491891807615, 54.28316917008748, 54.272580524131534, 46.29016076957484, 54.01190182825629, 54.27457991418238, 21.255681924134592, 14.25282213832957, 24.98181019340445, 10.159540885215492, 8.258345249804226, 8.244660836467807, 31.052157553327422, 18.234367652480124, 11.796158627423145, 7.2489694252604195, 12.650819561494515, 27.79113884487078, 14.312914057681816, 6.2378334993686595, 14.99268443804037, 5.243833545073244, 14.860365036512741, 14.82394191205161, 5.208096381560409, 74.43299116420224, 15.351305208538976, 5.948395685286192, 25.410779908907838, 24.39765571143021, 6.658223627197374, 38.84628078587098, 17.959252354941793, 29.22332088802525, 20.662532120577623, 37.68641798801739, 33.72687543265659, 26.16595185148865, 182.4879883993418, 26.56186975447835, 21.25696006419611, 22.204943592396187, 79.13290360137088, 23.013619522121083, 23.787992570315943, 87.33389110738563, 60.39672385175727, 94.03197153107779, 92.40565142109044, 35.05588585535354, 37.97451578536365, 52.601299275399185, 42.10283470551968, 73.38104902158845, 75.92032852825652, 59.58342070695338, 69.10845689981355, 60.2699424126142, 66.97731593938602, 61.21217721100656, 66.28305964938923, 61.52651071842044, 58.60649629781419, 59.17196789132488, 51.50895553150646, 47.894015779358355, 41.30318696936095, 52.31332136411013, 54.11181332141621, 47.36269624298314, 44.58698209504094, 45.73311600569818], \"Total\": [318.0, 390.0, 224.0, 223.0, 208.0, 158.0, 320.0, 176.0, 256.0, 144.0, 206.0, 143.0, 116.0, 105.0, 211.0, 203.0, 184.0, 177.0, 86.0, 73.0, 72.0, 365.0, 69.0, 84.0, 248.0, 91.0, 77.0, 79.0, 55.0, 55.0, 49.68665968560525, 21.97391661607091, 24.8463673090659, 59.22763389805065, 21.02210337777265, 22.927413423545588, 18.154334418601664, 23.883570242836527, 20.069642869838365, 18.15626951735004, 20.06504706936194, 18.15801766113977, 16.245671192075076, 43.932540652776844, 16.243238142742367, 14.335617193897935, 16.25009227570837, 29.604636449850798, 12.423117371852454, 16.244523047107304, 12.426613765929421, 11.467805537069223, 40.10843425961607, 12.428821733689137, 10.514017087946483, 24.831067035772797, 9.558751975066619, 9.558555494284256, 12.429164416259756, 177.30320670460463, 46.8204428740931, 25.836113593289035, 21.024467062506556, 63.24309888141605, 55.34613499067272, 65.82900004266264, 28.776196083312144, 171.62367178062945, 61.230598763250235, 57.246623141826106, 42.93431509129281, 47.07830895906468, 67.69768563812771, 65.95263190853854, 253.67547795191695, 171.1024530913314, 101.33378450878475, 77.29363924447946, 180.45744533511743, 152.21415465338006, 75.28384380979224, 61.64333505861751, 211.43253039444684, 139.03035407229498, 94.96620869920443, 209.98778967091516, 349.8762657818156, 110.41623075578144, 92.71412792222932, 195.15733825141965, 148.27196926835967, 124.75901028494178, 365.02250932195545, 155.68373261582423, 248.60279613371483, 213.68709336316286, 182.39733701238953, 201.84392385574824, 204.1733600276341, 118.70861002450484, 198.22640242651158, 154.98106031035428, 132.06579958165756, 180.53747322935374, 256.3152673150491, 209.93155979054512, 207.20976304485131, 205.88115947794006, 174.62945813033576, 255.51060332544597, 194.05268677649656, 144.88730656723078, 176.55298292232754, 208.21371646732433, 223.56591102042455, 143.94645324408214, 84.44303276638999, 69.08436482097692, 73.88998549393085, 77.73380205973905, 59.49136801289057, 49.89891129892019, 41.26043768075543, 37.42223154921208, 79.67927317159332, 35.502669547815294, 30.70572892939872, 37.42751301692691, 72.9661113996954, 61.441445163474405, 30.70505751276005, 30.706303356912773, 23.990231323302307, 29.745618523509677, 24.95098384179531, 26.876332468418173, 20.152320451655857, 31.683951914576927, 23.990629954253656, 20.15421206962137, 91.17918720395514, 40.29089905861912, 206.86194647898083, 390.4754939908621, 184.47505037391556, 203.92357022489196, 68.09103181171714, 40.3529806523068, 93.44739085288921, 116.39696271933191, 90.25911150591335, 144.8758842629708, 167.1846818057109, 256.7765550636443, 113.56666220481826, 194.14717246316252, 223.28028250601437, 104.9173753266204, 118.67887135780425, 229.00705246822156, 260.1890321447785, 133.3570254840984, 151.39037062926414, 225.5241343112749, 320.5049716651555, 349.8762657818156, 175.38778406434452, 174.46108888154535, 318.8241981610392, 158.94850618485606, 72.86011677391956, 60.5601355292458, 105.02985715387518, 73.80596300174732, 69.07570432597498, 55.833314864424246, 62.456246676009606, 46.37101322137132, 45.42572016877641, 40.69668994511666, 35.966081669710896, 39.75042197256077, 35.01953320592767, 32.18121067596683, 33.12788811210618, 44.4849462775931, 36.91386625156286, 29.343838520195796, 36.915208820052705, 30.292147377379646, 27.45307672702409, 29.34463660626389, 21.775997977690544, 22.72194409935934, 22.72145256981311, 19.883724342977885, 50.190016801334416, 17.99135314674643, 116.43760535878931, 224.52999448572092, 70.20216897177795, 49.232558391810855, 75.90864360996338, 78.87341721563783, 256.3152673150491, 74.479420374805, 40.83402267142636, 215.19907330493655, 58.80552824188488, 365.02250932195545, 101.66977518849868, 171.91633274442881, 194.05268677649656, 153.03725530417876, 161.90106418343854, 175.3893915760166, 109.52436229687027, 143.52128014385238, 88.73110847460995, 104.90438168391631, 55.13298693734297, 55.13249806554178, 47.10859092724294, 55.11977715413149, 56.0761752808702, 22.02923390508342, 15.007462086095147, 26.983947543766927, 10.990120663466278, 8.989135212124802, 8.988306101882953, 33.95768380664151, 19.962211373403992, 12.978139020550934, 7.984730928843004, 13.973950507887729, 30.942575411259234, 15.963335645286763, 6.981188306958983, 16.939842338868782, 5.978885776967562, 16.94483646069334, 16.942894284788064, 5.975696134796657, 86.66147530436648, 17.92304813971641, 6.966289357610448, 29.84964167402265, 28.84752464686313, 7.955647174352583, 47.72430537539111, 21.855569149890492, 36.739506014486324, 25.809871495579586, 49.50552433398177, 44.59134594974716, 33.69858132251166, 320.5049716651555, 34.68751058345401, 26.787739438603335, 28.757450712870572, 154.47688446182656, 30.706220293993375, 32.64478959487401, 211.43253039444684, 128.76186195585464, 248.60279613371483, 255.51060332544597, 59.0004326188632, 66.7595552657718, 115.21278204971789, 82.2162192863138, 209.93155979054512, 225.5241343112749, 150.1401943857454, 198.22640242651158, 173.60643769349878, 223.28028250601437, 189.37886085616822, 229.00705246822156, 207.20976304485131, 204.1733600276341, 209.98778967091516, 179.18648553285834, 154.98106031035428, 93.51690048507642, 256.7765550636443, 365.02250932195545, 174.46108888154535, 174.62945813033576, 349.8762657818156], \"Category\": [\"Default\", \"Default\", \"Default\", \"Default\", \"Default\", \"Default\", \"Default\", \"Default\", \"Default\", \"Default\", \"Default\", \"Default\", \"Default\", \"Default\", \"Default\", \"Default\", \"Default\", \"Default\", \"Default\", \"Default\", \"Default\", \"Default\", \"Default\", \"Default\", \"Default\", \"Default\", \"Default\", \"Default\", \"Default\", \"Default\", \"Topic1\", \"Topic1\", \"Topic1\", \"Topic1\", \"Topic1\", \"Topic1\", \"Topic1\", \"Topic1\", \"Topic1\", \"Topic1\", \"Topic1\", \"Topic1\", \"Topic1\", \"Topic1\", \"Topic1\", \"Topic1\", \"Topic1\", \"Topic1\", \"Topic1\", \"Topic1\", \"Topic1\", \"Topic1\", \"Topic1\", \"Topic1\", \"Topic1\", \"Topic1\", \"Topic1\", \"Topic1\", \"Topic1\", \"Topic1\", \"Topic1\", \"Topic1\", \"Topic1\", \"Topic1\", \"Topic1\", \"Topic1\", \"Topic1\", \"Topic1\", \"Topic1\", \"Topic1\", \"Topic1\", \"Topic1\", \"Topic1\", \"Topic1\", \"Topic1\", \"Topic1\", \"Topic1\", \"Topic1\", \"Topic1\", \"Topic1\", \"Topic1\", \"Topic1\", \"Topic1\", \"Topic1\", \"Topic1\", \"Topic1\", \"Topic1\", \"Topic1\", \"Topic1\", \"Topic1\", \"Topic1\", \"Topic1\", \"Topic1\", \"Topic1\", \"Topic1\", \"Topic1\", \"Topic1\", \"Topic1\", \"Topic1\", \"Topic1\", \"Topic1\", \"Topic1\", \"Topic1\", \"Topic1\", \"Topic1\", \"Topic1\", \"Topic1\", \"Topic1\", \"Topic1\", \"Topic1\", \"Topic1\", \"Topic2\", \"Topic2\", \"Topic2\", \"Topic2\", \"Topic2\", \"Topic2\", \"Topic2\", \"Topic2\", \"Topic2\", \"Topic2\", \"Topic2\", \"Topic2\", \"Topic2\", \"Topic2\", \"Topic2\", \"Topic2\", \"Topic2\", \"Topic2\", \"Topic2\", \"Topic2\", \"Topic2\", \"Topic2\", \"Topic2\", \"Topic2\", \"Topic2\", \"Topic2\", \"Topic2\", \"Topic2\", \"Topic2\", \"Topic2\", \"Topic2\", \"Topic2\", \"Topic2\", \"Topic2\", \"Topic2\", \"Topic2\", \"Topic2\", \"Topic2\", \"Topic2\", \"Topic2\", \"Topic2\", \"Topic2\", \"Topic2\", \"Topic2\", \"Topic2\", \"Topic2\", \"Topic2\", \"Topic2\", \"Topic2\", \"Topic2\", \"Topic2\", \"Topic2\", \"Topic2\", \"Topic2\", \"Topic2\", \"Topic2\", \"Topic2\", \"Topic3\", \"Topic3\", \"Topic3\", \"Topic3\", \"Topic3\", \"Topic3\", \"Topic3\", \"Topic3\", \"Topic3\", \"Topic3\", \"Topic3\", \"Topic3\", \"Topic3\", \"Topic3\", \"Topic3\", \"Topic3\", \"Topic3\", \"Topic3\", \"Topic3\", \"Topic3\", \"Topic3\", \"Topic3\", \"Topic3\", \"Topic3\", \"Topic3\", \"Topic3\", \"Topic3\", \"Topic3\", \"Topic3\", \"Topic3\", \"Topic3\", \"Topic3\", \"Topic3\", \"Topic3\", \"Topic3\", \"Topic3\", \"Topic3\", \"Topic3\", \"Topic3\", \"Topic3\", \"Topic3\", \"Topic3\", \"Topic3\", \"Topic3\", \"Topic3\", \"Topic3\", \"Topic3\", \"Topic3\", \"Topic3\", \"Topic3\", \"Topic3\", \"Topic3\", \"Topic4\", \"Topic4\", \"Topic4\", \"Topic4\", \"Topic4\", \"Topic4\", \"Topic4\", \"Topic4\", \"Topic4\", \"Topic4\", \"Topic4\", \"Topic4\", \"Topic4\", \"Topic4\", \"Topic4\", \"Topic4\", \"Topic4\", \"Topic4\", \"Topic4\", \"Topic4\", \"Topic4\", \"Topic4\", \"Topic4\", \"Topic4\", \"Topic4\", \"Topic4\", \"Topic4\", \"Topic4\", \"Topic4\", \"Topic4\", \"Topic4\", \"Topic4\", \"Topic4\", \"Topic4\", \"Topic4\", \"Topic4\", \"Topic4\", \"Topic4\", \"Topic4\", \"Topic4\", \"Topic4\", \"Topic4\", \"Topic4\", \"Topic4\", \"Topic4\", \"Topic4\", \"Topic4\", \"Topic4\", \"Topic4\", \"Topic4\", \"Topic4\", \"Topic4\", \"Topic4\", \"Topic4\", \"Topic4\", \"Topic4\", \"Topic4\", \"Topic4\", \"Topic4\", \"Topic4\", \"Topic4\", \"Topic4\", \"Topic4\", \"Topic4\", \"Topic4\", \"Topic4\", \"Topic4\", \"Topic4\", \"Topic4\", \"Topic4\", \"Topic4\"], \"logprob\": [30.0, 29.0, 28.0, 27.0, 26.0, 25.0, 24.0, 23.0, 22.0, 21.0, 20.0, 19.0, 18.0, 17.0, 16.0, 15.0, 14.0, 13.0, 12.0, 11.0, 10.0, 9.0, 8.0, 7.0, 6.0, 5.0, 4.0, 3.0, 2.0, 1.0, -6.3927998542785645, -7.220200061798096, -7.098700046539307, -6.231400012969971, -7.2692999839782715, -7.183899879455566, -7.417500019073486, -7.143700122833252, -7.318699836730957, -7.420300006866455, -7.321000099182129, -7.423099994659424, -7.535699844360352, -6.541600227355957, -7.538700103759766, -7.667300224304199, -7.546299934387207, -6.946800231933594, -7.817999839782715, -7.553299903869629, -7.822700023651123, -7.906799793243408, -6.655799865722656, -7.827600002288818, -7.996300220489502, -7.1442999839782715, -8.099599838256836, -8.100099563598633, -7.838600158691406, -5.183800220489502, -6.520699977874756, -7.1184000968933105, -7.330100059509277, -6.277599811553955, -6.415900230407715, -6.25540018081665, -7.03410005569458, -5.364999771118164, -6.325399875640869, -6.397500038146973, -6.688499927520752, -6.60890007019043, -6.292799949645996, -6.323400020599365, -5.169400215148926, -5.522600173950195, -5.977499961853027, -6.208899974822998, -5.517899990081787, -5.702400207519531, -6.26669979095459, -6.425000190734863, -5.463600158691406, -5.790999889373779, -6.09499979019165, -5.519100189208984, -5.144199848175049, -6.016300201416016, -6.146699905395508, -5.638599872589111, -5.831200122833252, -5.967100143432617, -5.3333001136779785, -5.845099925994873, -5.5894999504089355, -5.708799839019775, -5.80620002746582, -5.81689977645874, -5.83519983291626, -6.0594000816345215, -5.88670015335083, -5.97760009765625, -6.043799877166748, -5.960100173950195, -5.867099761962891, -5.924699783325195, -5.928999900817871, -5.953400135040283, -5.992599964141846, -5.954500198364258, -5.992400169372559, -5.151800155639648, -4.9542999267578125, -4.789899826049805, -4.718999862670898, -5.161900043487549, -5.697299957275391, -5.899099826812744, -5.832099914550781, -5.781799793243408, -6.049600124359131, -6.228499889373779, -6.420599937438965, -6.518199920654297, -5.765500068664551, -6.5746002197265625, -6.720799922943115, -6.523099899291992, -5.855800151824951, -6.029099941253662, -6.723700046539307, -6.728000164031982, -6.975900173187256, -6.761000156402588, -6.937699794769287, -6.866000175476074, -7.154099941253662, -6.704100131988525, -6.982399940490723, -7.157800197601318, -5.6493000984191895, -6.473599910736084, -4.899400234222412, -4.28980016708374, -5.012800216674805, -4.944300174713135, -5.992300033569336, -6.484899997711182, -5.747700214385986, -5.603400230407715, -5.852399826049805, -5.542900085449219, -5.461100101470947, -5.172100067138672, -5.785299777984619, -5.44350004196167, -5.362400054931641, -5.849400043487549, -5.7769999504089355, -5.406199932098389, -5.355100154876709, -5.711100101470947, -5.7347002029418945, -5.621300220489502, -5.553800106048584, -5.559000015258789, -5.714600086212158, -5.7195000648498535, -4.1290998458862305, -4.828100204467773, -5.612100124359131, -5.797500133514404, -5.247000217437744, -5.6006999015808105, -5.667099952697754, -5.882400035858154, -5.7708001136779785, -6.068999767303467, -6.090799808502197, -6.2032999992370605, -6.3282999992370605, -6.228700160980225, -6.3557000160217285, -6.441500186920166, -6.413000106811523, -6.119999885559082, -6.307799816131592, -6.53879976272583, -6.309500217437744, -6.507999897003174, -6.6066999435424805, -6.54040002822876, -6.843500137329102, -6.802000045776367, -6.802999973297119, -6.940899848937988, -6.015200138092041, -7.041999816894531, -5.180600166320801, -4.541800022125244, -5.7058000564575195, -6.0625, -5.692200183868408, -5.676300048828125, -4.743299961090088, -5.797299861907959, -6.281300067901611, -5.122000217437744, -6.028900146484375, -4.831399917602539, -5.684100151062012, -5.515399932861328, -5.559199810028076, -5.6819000244140625, -5.662099838256836, -5.64300012588501, -5.877500057220459, -5.808700084686279, -5.980000019073486, -5.9741997718811035, -5.723499774932861, -5.723700046539307, -5.882800102233887, -5.728499889373779, -5.723700046539307, -6.661099910736084, -7.060800075531006, -6.499599933624268, -7.3993000984191895, -7.606500148773193, -7.6082000732421875, -6.282100200653076, -6.8144001960754395, -7.25, -7.7368998527526855, -7.179999828338623, -6.39300012588501, -7.056600093841553, -7.8871002197265625, -7.010200023651123, -8.060700416564941, -7.019100189208984, -7.021500110626221, -8.067500114440918, -5.407899856567383, -6.986599922180176, -7.934599876403809, -6.482600212097168, -6.5233001708984375, -7.821899890899658, -6.05810022354126, -6.829599857330322, -6.342800140380859, -6.6894001960754395, -6.088500022888184, -6.19950008392334, -6.4532999992370605, -4.511099815368652, -6.438300132751465, -6.661099910736084, -6.617400169372559, -5.34660005569458, -6.581699848175049, -6.548600196838379, -5.248000144958496, -5.616799831390381, -5.174099922180176, -5.1915998458862305, -6.160799980163574, -6.0808000564575195, -5.755000114440918, -5.97760009765625, -5.422100067138672, -5.3881001472473145, -5.63040018081665, -5.482100009918213, -5.618899822235107, -5.513400077819824, -5.603400230407715, -5.523799896240234, -5.598299980163574, -5.646900177001953, -5.63730001449585, -5.776000022888184, -5.848800182342529, -5.996799945831299, -5.760499954223633, -5.7266998291015625, -5.859899997711182, -5.920300006866455, -5.894899845123291], \"loglift\": [30.0, 29.0, 28.0, 27.0, 26.0, 25.0, 24.0, 23.0, 22.0, 21.0, 20.0, 19.0, 18.0, 17.0, 16.0, 15.0, 14.0, 13.0, 12.0, 11.0, 10.0, 9.0, 8.0, 7.0, 6.0, 5.0, 4.0, 3.0, 2.0, 1.0, 1.1087, 1.0972, 1.0958, 1.0944, 1.0923, 1.091, 1.0908, 1.0903, 1.0893, 1.0879, 1.0872, 1.0851, 1.0837, 1.0829, 1.0809, 1.0772, 1.0729, 1.0725, 1.0697, 1.0662, 1.0646, 1.0609, 1.0598, 1.0596, 1.0582, 1.0508, 1.0502, 1.0497, 1.0485, 1.0455, 1.0402, 1.0371, 1.0315, 0.9827, 0.9778, 0.9648, 1.0136, 0.8969, 0.9672, 0.9624, 0.9591, 0.9466, 0.8994, 0.8948, 0.7018, 0.7423, 0.8113, 0.8507, 0.6938, 0.6795, 0.8192, 0.8608, 0.5897, 0.6816, 0.7587, 0.5411, 0.4055, 0.6866, 0.731, 0.4949, 0.577, 0.6138, 0.1739, 0.5143, 0.3019, 0.3339, 0.3948, 0.2829, 0.2531, 0.5711, 0.2311, 0.3863, 0.4801, 0.2512, -0.0063, 0.1357, 0.1444, 0.1265, 0.252, -0.0906, 0.1467, 1.2794, 1.2793, 1.2788, 1.2785, 1.2759, 1.2739, 1.2728, 1.2726, 1.2721, 1.2717, 1.2687, 1.2668, 1.2667, 1.2637, 1.263, 1.2619, 1.2617, 1.2614, 1.26, 1.2591, 1.2547, 1.2537, 1.2536, 1.2526, 1.2499, 1.2498, 1.2473, 1.2472, 1.246, 1.2451, 1.2375, 1.1757, 1.1501, 1.1769, 1.1452, 1.194, 1.2246, 1.1222, 1.0469, 1.0521, 0.8884, 0.827, 0.687, 0.8896, 0.6951, 0.6364, 0.9047, 0.8538, 0.5672, 0.4908, 0.8031, 0.6527, 0.3675, 0.0835, -0.0094, 0.5256, 0.5261, 1.5135, 1.5106, 1.5066, 1.5061, 1.506, 1.5051, 1.5049, 1.5024, 1.5019, 1.5016, 1.5003, 1.4978, 1.4963, 1.4959, 1.4956, 1.4943, 1.4939, 1.492, 1.4908, 1.4894, 1.4891, 1.4883, 1.488, 1.4877, 1.4829, 1.4819, 1.4809, 1.4764, 1.4762, 1.4753, 1.4692, 1.4514, 1.45, 1.4482, 1.3855, 1.3631, 1.1176, 1.2994, 1.4164, 0.9137, 1.3041, 0.6758, 1.1014, 0.7448, 0.5799, 0.6947, 0.6581, 0.5973, 0.8336, 0.6321, 0.9416, 0.78, 1.6739, 1.6737, 1.6719, 1.6692, 1.6568, 1.6537, 1.6379, 1.6124, 1.6109, 1.6047, 1.6031, 1.6, 1.5989, 1.594, 1.5928, 1.59, 1.5821, 1.5803, 1.5769, 1.5674, 1.5583, 1.5582, 1.5559, 1.552, 1.5374, 1.5346, 1.5315, 1.5285, 1.5219, 1.5114, 1.4836, 1.4931, 1.4606, 1.467, 1.4167, 1.4102, 1.4365, 1.1263, 1.4226, 1.4582, 1.4309, 1.0206, 1.4011, 1.373, 0.8053, 0.9324, 0.7172, 0.6724, 1.1689, 1.1253, 0.9054, 1.0202, 0.6384, 0.6007, 0.7653, 0.6357, 0.6315, 0.4854, 0.5601, 0.4496, 0.4752, 0.4413, 0.4229, 0.4428, 0.5152, 0.8723, 0.0985, -0.2194, 0.3856, 0.3242, -0.3453]}, \"token.table\": {\"Topic\": [1, 2, 3, 4, 1, 2, 4, 1, 4, 1, 4, 2, 3, 4, 1, 3, 2, 3, 4, 1, 2, 4, 3, 1, 2, 3, 3, 3, 3, 2, 4, 2, 4, 1, 2, 4, 2, 3, 4, 2, 2, 1, 2, 3, 4, 2, 3, 4, 1, 4, 2, 1, 2, 3, 4, 1, 4, 1, 2, 2, 3, 1, 4, 1, 2, 4, 1, 2, 3, 4, 4, 1, 2, 3, 4, 2, 1, 4, 2, 1, 2, 3, 4, 3, 1, 4, 1, 1, 2, 4, 2, 4, 2, 4, 1, 3, 4, 2, 2, 2, 1, 3, 4, 2, 4, 1, 2, 1, 2, 3, 4, 2, 2, 2, 1, 2, 3, 4, 2, 4, 3, 2, 3, 3, 2, 1, 4, 1, 3, 1, 2, 1, 4, 1, 4, 2, 3, 4, 1, 3, 2, 3, 1, 1, 4, 1, 2, 3, 4, 4, 4, 1, 2, 4, 1, 4, 2, 3, 2, 4, 1, 1, 2, 4, 1, 2, 3, 4, 1, 3, 4, 1, 2, 3, 4, 1, 2, 3, 4, 1, 2, 3, 4, 1, 2, 3, 4, 1, 4, 1, 2, 3, 4, 1, 2, 3, 4, 3, 1, 3, 4, 1, 2, 3, 4, 1, 1, 2, 3, 4, 1, 3, 4, 1, 1, 2, 3, 4, 1, 2, 3, 4, 1, 1, 1, 3, 4, 1, 3, 4, 1, 2, 3, 4, 1, 2, 3, 4, 1, 2, 3, 4, 1, 2, 3, 4, 1, 2, 3, 4, 1, 3, 4, 1, 3, 4, 1, 2, 3, 4, 1, 3, 4, 4, 1, 2, 3, 4, 1, 2, 3, 4, 1, 2, 3, 4, 1, 2, 3, 4, 1, 2, 3, 4, 1, 2, 3, 4, 4, 1, 2, 3, 1, 2, 3, 4, 1, 2, 3, 4, 1, 3, 3, 4, 1, 2, 3, 4, 1, 2, 3, 4, 1, 4, 3, 3, 1, 2, 3, 4, 1, 2, 3, 4, 1, 2, 3, 4, 1, 2, 3, 4, 1, 3, 4, 2, 4, 1, 3, 4, 1, 2, 3, 4, 1, 2, 3, 4, 3, 1, 2, 3, 4, 1, 2, 3, 4, 1, 1, 2, 3, 4, 1, 2, 3, 4, 1, 2, 3, 4, 1, 2, 3, 1, 2, 3, 4, 1, 1, 2, 3, 4, 3, 3, 1, 3, 4, 1, 2, 3, 4, 1, 2, 3, 4, 1, 2, 3, 4, 1, 3, 1, 2, 3, 4, 1, 2, 3, 4, 1, 3, 4, 1, 3, 4, 1, 2, 3, 4, 3, 1, 2, 3, 4, 1, 2, 3, 4, 1, 2, 3, 4, 1, 1, 3, 3, 3, 1, 2, 3, 4, 1, 2, 3, 4, 4, 1, 2, 3, 4, 1, 2, 3, 4, 1, 2, 3, 4, 1, 2, 3, 4, 1, 2, 3, 4, 1, 2, 3, 4, 1, 3, 4, 1, 3, 1, 2, 3, 4, 2, 4, 1, 2, 3, 4, 3, 1, 2, 4, 1, 2, 3, 4, 1, 2, 3, 4, 1, 2, 3, 4, 1, 2, 3, 4, 1, 2, 3, 4, 1, 2, 3, 4, 1, 1, 2, 3, 4, 1, 1, 2, 3, 4, 1, 3, 4, 1, 2, 3, 1, 2, 3, 4, 1, 2, 3, 4, 1, 2, 3, 4, 1, 3, 4, 1, 1, 3, 4, 1, 2, 3, 4, 4, 1, 2, 3, 4, 1, 4, 1, 2, 3, 4, 1, 3, 1, 2, 3, 4, 1, 2, 3, 4, 1, 2, 4, 1, 2, 3, 4, 1, 2, 3, 3, 3, 3, 1, 2, 3, 4, 1, 2, 3, 4, 1, 2, 3, 4, 1, 2, 3, 4, 1, 3, 1, 2, 3, 4, 1, 2, 3, 4, 1, 2, 3, 4, 1, 2, 3, 4, 1, 2, 3, 4], \"Freq\": [0.009521102161787563, 0.009521102161787563, 0.9901946248259066, 0.9328692566194393, 0.12693068011324013, 0.011539152737567284, 0.853897302579979, 0.1180435860829086, 0.8853268956218145, 0.11803005621443247, 0.8852254216082435, 0.9912038703814438, 0.005664022116465392, 0.005664022116465392, 0.013549040745885607, 0.9890799744496493, 0.9893680565099959, 0.004802757555873767, 0.004802757555873767, 0.9363156888453812, 0.9468515821789836, 0.031561719405966124, 0.9682479556447194, 0.00858829067223268, 0.042941453361163395, 0.9533002646178274, 0.9682270101448011, 0.9811216602158643, 0.9542037242581299, 0.9789245922465065, 0.012550315285211623, 0.9879552623000047, 0.013533633730137051, 0.06286105112274595, 0.10476841853790991, 0.8171936645956973, 0.9864779353696083, 0.006947027713870481, 0.006947027713870481, 0.9769980987713467, 0.9587076305981698, 0.9136890584832993, 0.005640055916563576, 0.005640055916563576, 0.07332072691532648, 0.9885227984502962, 0.004472953839141612, 0.004472953839141612, 0.8687736185707314, 0.10425283422848777, 0.9427309752604457, 0.010243920710920743, 0.8681722802505328, 0.005121960355460371, 0.11524410799785835, 0.07156172475604093, 0.9303024218285321, 0.9184022482579497, 0.08543276727980928, 0.9749335007802788, 0.9752078113789362, 0.06264354908150126, 0.8770096871410177, 0.16331193994917106, 0.02721865665819518, 0.7893410430876602, 0.28751169061771953, 0.026137426419792685, 0.43780189253152746, 0.2483055509880305, 0.9794586114310391, 0.034665019347118915, 0.034665019347118915, 0.06933003869423783, 0.8319604643308539, 0.9618859180934453, 0.208641581616783, 0.765019132594871, 0.9770377400378732, 0.965669346938336, 0.9869739688593422, 0.006901915866149246, 0.006901915866149246, 0.9907507550247259, 0.9595500196025963, 0.9796846574506233, 0.9511112561785957, 0.021934830319624135, 0.9541651189036499, 0.010967415159812068, 0.9765395302854739, 0.016275658838091234, 0.9730544582686422, 0.013704992369980877, 0.14837419866870927, 0.08902451920122556, 0.7715458330772882, 0.9887170932429077, 0.9694516648003635, 0.9749313545358812, 0.5817458636593535, 0.004729641167962224, 0.4114787816127135, 0.9618592606919593, 0.8594525367578302, 0.8850152457239899, 0.9770163759661464, 0.03383899319883499, 0.8894821069408054, 0.004834141885547856, 0.07251212828321783, 0.985841359136718, 0.9843037592690198, 0.9587235608545187, 0.019615192081958457, 0.8630684516061721, 0.039230384163916915, 0.0735569703073442, 0.9829111684041226, 0.01184230323378461, 0.991999027073225, 0.9819853524752223, 0.9844271681849435, 0.9906282131093427, 0.9428194656580516, 0.9362255460507641, 0.9532787245567393, 0.006291345694290493, 0.9877412740036075, 0.963005102090985, 0.04186978704743413, 0.05889683205097858, 0.912900896790168, 0.22796683971453535, 0.7490339019191875, 0.9431410290625162, 0.02481950076480306, 0.02481950076480306, 0.9230716814096445, 0.9828809186679258, 0.0224795146151204, 0.9666191284501772, 0.9364154921912815, 0.9654977967439353, 0.9099081171367235, 0.9233881448228227, 0.06155920965485485, 0.017832885267072406, 0.9629758044219099, 0.9764673299408358, 0.9794499264364077, 0.03705906996661769, 0.03705906996661769, 0.9264767491654421, 0.2242587611342712, 0.7624797878565222, 0.016011208697626, 0.9766837305551861, 0.9776956483048828, 0.012864416425064248, 0.9233228853799075, 0.02478131686519753, 0.9416900408775061, 0.04956263373039506, 0.3667862044031167, 0.23340940280198336, 0.047634572000404767, 0.3477323756029548, 0.8284069853467146, 0.021241204752479863, 0.1274472285148792, 0.1440297802970097, 0.7866241846990529, 0.03323764160700224, 0.04431685547600298, 0.15811965221519322, 0.20677185289679115, 0.12163050170399478, 0.5108481071567781, 0.44592690321499606, 0.027870431450937254, 0.41108886390132454, 0.11844933366648333, 0.15192511851578783, 0.5284351948375229, 0.03302719967734518, 0.2906393571606376, 0.14354844432460045, 0.8612906659476027, 0.37426390116068226, 0.021386508637753272, 0.17109206910202618, 0.43842342707394205, 0.019924281036969343, 0.019924281036969343, 0.9563654897745284, 0.019924281036969343, 0.9555553915486673, 0.17005203930601528, 0.7992445847382719, 0.01700520393060153, 0.8538481028776386, 0.015812001905141454, 0.04743600571542436, 0.07906000952570727, 0.9467034427679889, 0.36454288537078894, 0.12151429512359632, 0.06075714756179816, 0.46001840296790036, 0.8902267717995435, 0.03870551181737145, 0.03870551181737145, 0.9659359737164845, 0.5732708644757879, 0.10790980978367772, 0.13488726222959715, 0.188842167121436, 0.8492485954785353, 0.0163317037592026, 0.081658518796013, 0.048995111277607806, 0.9513795856006801, 0.9415648635802495, 0.024489382494753593, 0.9061071523058829, 0.07346814748426077, 0.1549794620513734, 0.03874486551284335, 0.8136421757697103, 0.058744887448036555, 0.9105457554445665, 0.014686221862009139, 0.014686221862009139, 0.6844539851630881, 0.03159018393060407, 0.15795091965302033, 0.11583067441221491, 0.03210362507309369, 0.8453954602581338, 0.010701208357697896, 0.10701208357697896, 0.11856290341636302, 0.29952733494660133, 0.012480305622775056, 0.567853905836265, 0.2795858917630627, 0.062130198169569495, 0.18639059450870848, 0.4659764862717712, 0.07607125710803374, 0.8494623710397101, 0.06339271425669478, 0.0915098566540886, 0.0457549283270443, 0.8235887098867974, 0.6504373277707001, 0.09855111026828789, 0.11431928791121396, 0.14191359878633455, 0.962388605597767, 0.016884010624522227, 0.016884010624522227, 0.8362762204391795, 0.41230157140075624, 0.07444333928069209, 0.25768848212547263, 0.25768848212547263, 0.6372600512802967, 0.07226660375343572, 0.09854536875468506, 0.1905210462590578, 0.06873031574965068, 0.7818073416522764, 0.060139026280944335, 0.08591289468706334, 0.12540292266624922, 0.5195263939030325, 0.053744109714106814, 0.30007127923709637, 0.5524130721209589, 0.08095708815565776, 0.08571926981187293, 0.28096871771669457, 0.3478007338163354, 0.4675354126711394, 0.03420990824422971, 0.14824293572499542, 0.8367225988759454, 0.838490142988234, 0.023291392860784278, 0.13974835716470566, 0.7503851619218787, 0.0388130256166489, 0.1940651280832445, 0.012937675205549632, 0.5931435319259798, 0.016030906268269723, 0.3767262973043385, 0.016030906268269723, 0.9262590273251295, 0.04027213162283172, 0.059032426630410924, 0.8854863994561639, 0.14247468351238515, 0.6148907393692412, 0.04499200531970058, 0.19496535638536916, 0.25975722330423956, 0.3330220811592815, 0.013320883246371259, 0.3996264973911378, 0.9660540737437842, 0.020126126536328837, 0.9708867277032951, 0.9881949575158047, 0.22769614779226824, 0.09758406333954353, 0.5436826386060283, 0.1301120844527247, 0.41631288229030255, 0.15183175707058094, 0.14693395845540091, 0.2889701182956218, 0.23178292750330062, 0.5511282942856259, 0.030904390333773415, 0.19057707372493607, 0.7884446533098528, 0.10613678025324941, 0.07581198589517815, 0.030324794358071262, 0.9469202805415693, 0.050094650401924797, 0.9017037072346463, 0.967393896862679, 0.0372074575716415, 0.7624506356657543, 0.0486670618510056, 0.1784458934536872, 0.1173418204588317, 0.6695386226180396, 0.0345123001349505, 0.1794639607017426, 0.3155601285879584, 0.03381001377728125, 0.5635002296213543, 0.09016003673941668, 0.9752432799822434, 0.17280465170862405, 0.2304062022781654, 0.24768666744902781, 0.3456093034172481, 0.3696294279284131, 0.29042312194375314, 0.021121681595909318, 0.3221056443376171, 0.9415455096518786, 0.5395554088318535, 0.019269836029709053, 0.263354425739357, 0.17985180294395114, 0.2935298927867658, 0.20742779090264782, 0.13698061663382405, 0.36006333515176603, 0.6428108288055552, 0.060956199283285405, 0.25490774245737535, 0.038790308634817985, 0.8506889055538952, 0.015190873313462413, 0.13671785982116172, 0.22170576179216617, 0.39907037122589906, 0.04434115235843323, 0.33699275792409256, 0.9234611884762732, 0.19140509557680602, 0.6280479698613948, 0.09570254778840301, 0.08373972931485264, 0.9850749527150999, 0.9834963224148172, 0.040279583070101925, 0.8055916614020385, 0.1611183322804077, 0.37160411202889637, 0.18338904229997482, 0.1447808228684012, 0.29921370059469576, 0.26962432461303043, 0.11983303316134686, 0.05991651658067343, 0.5692069075163976, 0.22033736742200993, 0.15254125436908378, 0.03389805652646306, 0.5932159892131036, 0.9224992369561069, 0.04986482361924902, 0.4154262196010711, 0.2603337642833379, 0.19940458540851413, 0.12739737401099513, 0.7305684356255744, 0.026566124931839068, 0.026566124931839068, 0.22581206192063208, 0.12119859512085719, 0.100998829267381, 0.7675911024320956, 0.067002479354402, 0.067002479354402, 0.837530991930025, 0.037330510933629504, 0.07466102186725901, 0.07466102186725901, 0.7839407296062195, 0.9573438171522781, 0.38353799128732047, 0.03835379912873205, 0.43011046165792366, 0.14793608235368075, 0.5277792827206217, 0.11785362623858542, 0.18959061612294176, 0.1639702625928145, 0.4492550227956317, 0.2807843892472698, 0.11231375569890792, 0.1591111539067862, 0.9659411274008304, 0.9457977991869958, 0.03377849282810699, 0.9448983554121549, 0.9541777727798862, 0.22013502479197924, 0.6692104753676169, 0.00880540099167917, 0.09685941090847087, 0.18773035267400356, 0.1035753669925537, 0.19420381311103815, 0.5114033745257338, 0.8766732482761704, 0.12639149520369625, 0.648809675378974, 0.05898269776172491, 0.16852199360492834, 0.08648646009872511, 0.08648646009872511, 0.057657640065816744, 0.778378140888526, 0.21208167527328722, 0.46428691073341255, 0.04585549735638642, 0.26940104696877026, 0.4830279059437234, 0.2715245625127439, 0.11432613158431323, 0.13147505132196022, 0.38912653426798477, 0.043236281585331646, 0.4200095925432217, 0.14823867972113705, 0.6779563817128986, 0.07013341879788607, 0.20455580482716768, 0.05260006409841455, 0.31474447485175494, 0.6589962442208619, 0.029507294517352026, 0.06093528546952392, 0.9343410438660334, 0.31991851620453793, 0.0039014453195675355, 0.6671471496460486, 0.007802890639135071, 0.07705264972246761, 0.9246317966696114, 0.044537479381784574, 0.004453747938178458, 0.9352870670174761, 0.01781499175271383, 0.9632950205677324, 0.12569687645573327, 0.12569687645573327, 0.8798781351901328, 0.027103936222624234, 0.8944298953465997, 0.03252472346714908, 0.04878708520072362, 0.426071780399303, 0.18330995203225825, 0.2278988592833481, 0.16349265992066278, 0.434427937576014, 0.012067442710444833, 0.1729666788497093, 0.37811320492727146, 0.21924727671814975, 0.2573772378865236, 0.47662451460467337, 0.04766245146046734, 0.37103325491662587, 0.1545971895485941, 0.3916462135231051, 0.08245183442591686, 0.7203915293785513, 0.07894701691819742, 0.14802565672162016, 0.03947350845909871, 0.959207057047047, 0.23828829174283173, 0.44967306667598894, 0.1422043031368512, 0.17295117949076497, 0.9556785149826853, 0.3257398474364255, 0.12796922577859574, 0.4595258562049574, 0.08143496185910637, 0.9037089950252848, 0.04756363131712025, 0.04756363131712025, 0.8384774047035406, 0.017468279264657095, 0.13974623411725676, 0.632955303805387, 0.05034871734815579, 0.19420219548574374, 0.11508278251007037, 0.1429696459075839, 0.6767229906292306, 0.06671916809020582, 0.11437571672606713, 0.6687222475091065, 0.010785842701759783, 0.25886022484223475, 0.06471505621055869, 0.8492011232206321, 0.1264767630328601, 0.889963251326932, 0.9765885772925917, 0.014244574129924832, 0.9258973184451141, 0.0427337223897745, 0.5728312376495931, 0.12635983183446906, 0.21902370851307973, 0.08423988788964605, 0.8900453443974372, 0.47698064799098705, 0.14802847696272012, 0.14254594077891566, 0.23026651971978684, 0.11158816203635133, 0.8369112152726349, 0.06586865160825671, 0.013173730321651343, 0.8694662012289887, 0.03952119096495403, 0.7976639007816673, 0.1920301983363273, 0.32368512517850706, 0.27903890101595435, 0.11161556040638175, 0.29020045705659253, 0.4473890463491903, 0.009130388701003883, 0.5021713785552135, 0.045651943505019416, 0.032317930447254395, 0.06463586089450879, 0.9049020525231231, 0.21442931894709352, 0.03063275984958479, 0.03063275984958479, 0.735186236390035, 0.003136524786286443, 0.003136524786286443, 0.9942783572528024, 0.9643645274726076, 0.965953516013778, 0.9731390903634496, 0.5224668325832278, 0.022715949242749035, 0.3483112217221519, 0.11357974621374518, 0.6430214064908425, 0.01811327905608007, 0.19924606961688077, 0.1539628719766806, 0.7866047765984049, 0.058267020488770735, 0.06409372253764781, 0.0874005307331561, 0.1965004986309078, 0.4847012299562392, 0.030566744231474544, 0.2882007313253314, 0.9560111793203406, 0.02276217093619859, 0.36428782599719217, 0.29143026079775375, 0.18457249850524404, 0.16028664343876456, 0.4710252972448071, 0.09033361864968903, 0.12259562531029226, 0.30971526394179094, 0.14824157702110038, 0.20525756818306207, 0.3991119381337318, 0.24516876199643525, 0.4035789330821275, 0.19674472987753716, 0.05044736663526594, 0.348086829783335, 0.08567760399522109, 0.5452211163332251, 0.16356633489996752, 0.20251070035234076], \"Term\": [\"Ahab\", \"Ahab\", \"Ahab\", \"Amsterdam\", \"Arthur\", \"Arthur\", \"Arthur\", \"Arthur Holmwood\", \"Arthur Holmwood\", \"Arthur_Holmwood\", \"Arthur_Holmwood\", \"Bennet\", \"Bennet\", \"Bennet\", \"Bildad\", \"Bildad\", \"Bingley\", \"Bingley\", \"Bingley\", \"Bistritz\", \"Bourgh\", \"Bourgh\", \"Cape\", \"Captain\", \"Captain\", \"Captain\", \"Captain Ahab\", \"Captain_Ahab\", \"Captain_Peleg\", \"Catherine\", \"Catherine\", \"Charlotte\", \"Charlotte\", \"Clerval\", \"Clerval\", \"Clerval\", \"Collins\", \"Collins\", \"Collins\", \"Colonel\", \"Colonel_Fitzwilliam\", \"Count\", \"Count\", \"Count\", \"Count\", \"Darcy\", \"Darcy\", \"Darcy\", \"East\", \"East\", \"Eliza\", \"Elizabeth\", \"Elizabeth\", \"Elizabeth\", \"Elizabeth\", \"Ernest\", \"Ernest\", \"Felix\", \"Felix\", \"Fitzwilliam\", \"Flask\", \"Frankenstein\", \"Frankenstein\", \"Geneva\", \"Geneva\", \"Geneva\", \"God\", \"God\", \"God\", \"God\", \"Helsing\", \"Henry\", \"Henry\", \"Henry\", \"Henry\", \"Hertfordshire\", \"Holmwood\", \"Holmwood\", \"Hurst\", \"JOURNAL\", \"Jane\", \"Jane\", \"Jane\", \"Jonah\", \"June\", \"Justine\", \"Kettleness\", \"Lady\", \"Lady\", \"Lady\", \"Lady Catherine\", \"Lady Catherine\", \"Lady_Catherine\", \"Lady_Catherine\", \"Letter\", \"Letter\", \"Letter\", \"Lizzy\", \"Longbourn\", \"Lucas\", \"Lucy\", \"Lucy\", \"Lucy\", \"Lydia\", \"Madame\", \"Mem\", \"Meryton\", \"Miss\", \"Miss\", \"Miss\", \"Miss\", \"Miss_Bennet\", \"Miss_Bingley\", \"Miss_Lucas\", \"Mrs\", \"Mrs\", \"Mrs\", \"Mrs\", \"Mrs_Bennet\", \"Mrs_Bennet\", \"Nantucket\", \"Netherfield\", \"Peleg\", \"Pequod\", \"Phillips\", \"Pier\", \"Professor\", \"Queequeg\", \"Queequeg\", \"Safie\", \"Safie\", \"September\", \"September\", \"Seward\", \"Seward\", \"Sir_William\", \"Sir_William\", \"Sir_William\", \"Slovaks\", \"Starbuck\", \"Stubb\", \"Stubb\", \"Szgany\", \"Tate\", \"Telegram\", \"Transylvania\", \"Transylvania\", \"Van\", \"Van\", \"Van Helsing\", \"Van_Helsing\", \"Victor\", \"Victor\", \"Victor\", \"Westenra\", \"Westenra\", \"Whale\", \"Whale\", \"Wickham\", \"Wickham\", \"abbey\", \"agreeable\", \"agreeable\", \"agreeable\", \"ask\", \"ask\", \"ask\", \"ask\", \"attendant\", \"attendant\", \"attendant\", \"attention\", \"attention\", \"attention\", \"attention\", \"bad\", \"bad\", \"bad\", \"bad\", \"bed\", \"bed\", \"bed\", \"bed\", \"believe\", \"believe\", \"believe\", \"believe\", \"bewilder\", \"bewilder\", \"blood\", \"blood\", \"blood\", \"blood\", \"cabin\", \"cabin\", \"cabin\", \"cabin\", \"cannibal\", \"captain\", \"captain\", \"captain\", \"castle\", \"castle\", \"castle\", \"castle\", \"cat\", \"cause\", \"cause\", \"cause\", \"cause\", \"chill\", \"chill\", \"chill\", \"cliff\", \"close\", \"close\", \"close\", \"close\", \"cloud\", \"cloud\", \"cloud\", \"cloud\", \"courtyard\", \"crash\", \"crew\", \"crew\", \"crew\", \"crime\", \"crime\", \"crime\", \"dance\", \"dance\", \"dance\", \"dance\", \"dark\", \"dark\", \"dark\", \"dark\", \"daughter\", \"daughter\", \"daughter\", \"daughter\", \"dear\", \"dear\", \"dear\", \"dear\", \"death\", \"death\", \"death\", \"death\", \"deck\", \"deck\", \"deck\", \"disease\", \"disease\", \"disease\", \"door\", \"door\", \"door\", \"door\", \"driver\", \"driver\", \"driver\", \"drug\", \"face\", \"face\", \"face\", \"face\", \"fall\", \"fall\", \"fall\", \"fall\", \"family\", \"family\", \"family\", \"family\", \"father\", \"father\", \"father\", \"father\", \"fear\", \"fear\", \"fear\", \"fear\", \"feeling\", \"feeling\", \"feeling\", \"feeling\", \"firmly\", \"flame\", \"flame\", \"flame\", \"fly\", \"fly\", \"fly\", \"fly\", \"foot\", \"foot\", \"foot\", \"foot\", \"fury\", \"fury\", \"ghastly\", \"ghastly\", \"girl\", \"girl\", \"girl\", \"girl\", \"happy\", \"happy\", \"happy\", \"happy\", \"harbour\", \"harbour\", \"harpoon\", \"harpooneer\", \"head\", \"head\", \"head\", \"head\", \"heart\", \"heart\", \"heart\", \"heart\", \"hope\", \"hope\", \"hope\", \"hope\", \"horse\", \"horse\", \"horse\", \"horse\", \"howling_wolf\", \"innocence\", \"innocence\", \"invitation\", \"invitation\", \"key\", \"key\", \"key\", \"lady\", \"lady\", \"lady\", \"lady\", \"land\", \"land\", \"land\", \"land\", \"leg\", \"let\", \"let\", \"let\", \"let\", \"letter\", \"letter\", \"letter\", \"letter\", \"lid\", \"lie\", \"lie\", \"lie\", \"lie\", \"life\", \"life\", \"life\", \"life\", \"light\", \"light\", \"light\", \"light\", \"lock\", \"lock\", \"lock\", \"love\", \"love\", \"love\", \"love\", \"lunatic\", \"manner\", \"manner\", \"manner\", \"manner\", \"mast\", \"mast_head\", \"mate\", \"mate\", \"mate\", \"mind\", \"mind\", \"mind\", \"mind\", \"miserable\", \"miserable\", \"miserable\", \"miserable\", \"misery\", \"misery\", \"misery\", \"misery\", \"moonlight\", \"moonlight\", \"morning\", \"morning\", \"morning\", \"morning\", \"mountain\", \"mountain\", \"mountain\", \"mountain\", \"murder\", \"murder\", \"murder\", \"murderer\", \"murderer\", \"murderer\", \"nurse\", \"nurse\", \"nurse\", \"nurse\", \"oil\", \"old\", \"old\", \"old\", \"old\", \"open\", \"open\", \"open\", \"open\", \"pass\", \"pass\", \"pass\", \"pass\", \"pet\", \"pier\", \"pier\", \"pilot\", \"pipe\", \"pleasure\", \"pleasure\", \"pleasure\", \"pleasure\", \"poor\", \"poor\", \"poor\", \"poor\", \"rave\", \"reply\", \"reply\", \"reply\", \"reply\", \"restore\", \"restore\", \"restore\", \"restore\", \"return\", \"return\", \"return\", \"return\", \"room\", \"room\", \"room\", \"room\", \"round\", \"round\", \"round\", \"round\", \"run\", \"run\", \"run\", \"run\", \"sail\", \"sail\", \"sail\", \"sailor\", \"sailor\", \"sea\", \"sea\", \"sea\", \"sea\", \"seward\", \"seward\", \"ship\", \"ship\", \"ship\", \"ship\", \"shipmate\", \"sickness\", \"sickness\", \"sickness\", \"sister\", \"sister\", \"sister\", \"sister\", \"sit\", \"sit\", \"sit\", \"sit\", \"sleep\", \"sleep\", \"sleep\", \"sleep\", \"small\", \"small\", \"small\", \"small\", \"sort\", \"sort\", \"sort\", \"sort\", \"sound\", \"sound\", \"sound\", \"sound\", \"sparrow\", \"speak\", \"speak\", \"speak\", \"speak\", \"spider\", \"stand\", \"stand\", \"stand\", \"stand\", \"steep\", \"steep\", \"steep\", \"stone\", \"stone\", \"stone\", \"strange\", \"strange\", \"strange\", \"strange\", \"subject\", \"subject\", \"subject\", \"subject\", \"sun\", \"sun\", \"sun\", \"sun\", \"sweep\", \"sweep\", \"telegram\", \"the East Cliff\", \"thou\", \"thou\", \"thou\", \"throw\", \"throw\", \"throw\", \"throw\", \"transfusion\", \"try\", \"try\", \"try\", \"try\", \"victim\", \"victim\", \"voyage\", \"voyage\", \"voyage\", \"voyage\", \"wall\", \"wall\", \"want\", \"want\", \"want\", \"want\", \"water\", \"water\", \"water\", \"water\", \"weak\", \"weak\", \"weak\", \"weep\", \"weep\", \"weep\", \"weep\", \"whale\", \"whale\", \"whale\", \"whale_ship\", \"whaleman\", \"whaling\", \"white\", \"white\", \"white\", \"white\", \"wind\", \"wind\", \"wind\", \"wind\", \"window\", \"window\", \"window\", \"window\", \"wish\", \"wish\", \"wish\", \"wish\", \"wolf\", \"wolf\", \"word\", \"word\", \"word\", \"word\", \"work\", \"work\", \"work\", \"work\", \"world\", \"world\", \"world\", \"world\", \"write\", \"write\", \"write\", \"write\", \"young\", \"young\", \"young\", \"young\"]}, \"R\": 30, \"lambda.step\": 0.01, \"plot.opts\": {\"xlab\": \"PC1\", \"ylab\": \"PC2\"}, \"topic.order\": [1, 2, 3, 4]};\n",
       "\n",
       "function LDAvis_load_lib(url, callback){\n",
       "  var s = document.createElement('script');\n",
       "  s.src = url;\n",
       "  s.async = true;\n",
       "  s.onreadystatechange = s.onload = callback;\n",
       "  s.onerror = function(){console.warn(\"failed to load library \" + url);};\n",
       "  document.getElementsByTagName(\"head\")[0].appendChild(s);\n",
       "}\n",
       "\n",
       "if(typeof(LDAvis) !== \"undefined\"){\n",
       "   // already loaded: just create the visualization\n",
       "   !function(LDAvis){\n",
       "       new LDAvis(\"#\" + \"ldavis_el1541224812614107606394267984\", ldavis_el1541224812614107606394267984_data);\n",
       "   }(LDAvis);\n",
       "}else if(typeof define === \"function\" && define.amd){\n",
       "   // require.js is available: use it to load d3/LDAvis\n",
       "   require.config({paths: {d3: \"https://cdnjs.cloudflare.com/ajax/libs/d3/3.5.5/d3.min\"}});\n",
       "   require([\"d3\"], function(d3){\n",
       "      window.d3 = d3;\n",
       "      LDAvis_load_lib(\"https://cdn.rawgit.com/bmabey/pyLDAvis/files/ldavis.v1.0.0.js\", function(){\n",
       "        new LDAvis(\"#\" + \"ldavis_el1541224812614107606394267984\", ldavis_el1541224812614107606394267984_data);\n",
       "      });\n",
       "    });\n",
       "}else{\n",
       "    // require.js not available: dynamically load d3 & LDAvis\n",
       "    LDAvis_load_lib(\"https://cdnjs.cloudflare.com/ajax/libs/d3/3.5.5/d3.min.js\", function(){\n",
       "         LDAvis_load_lib(\"https://cdn.rawgit.com/bmabey/pyLDAvis/files/ldavis.v1.0.0.js\", function(){\n",
       "                 new LDAvis(\"#\" + \"ldavis_el1541224812614107606394267984\", ldavis_el1541224812614107606394267984_data);\n",
       "            })\n",
       "         });\n",
       "}\n",
       "</script>"
      ],
      "text/plain": [
       "<IPython.core.display.HTML object>"
      ]
     },
     "execution_count": 76,
     "metadata": {},
     "output_type": "execute_result"
    }
   ],
   "source": [
    "# plot topics\n",
    "data =  pyLDAvis.gensim.prepare(model, corpus, dictionary)\n",
    "pyLDAvis.display(data)"
   ]
  },
  {
   "cell_type": "code",
   "execution_count": 77,
   "metadata": {},
   "outputs": [],
   "source": [
    "# assignment\n",
    "sent_to_cluster = list()\n",
    "for n,doc in enumerate(corpus):\n",
    "    if doc:\n",
    "        cluster = max(model[doc],key=lambda x:x[1])\n",
    "        sent_to_cluster.append(cluster[0])"
   ]
  },
  {
   "cell_type": "code",
   "execution_count": 78,
   "metadata": {},
   "outputs": [
    {
     "name": "stdout",
     "output_type": "stream",
     "text": [
      ".ipynb_checkpoints/DRACULA-checkpoint.txt : 0 - 42\n",
      "Accuracy: 0.7\n",
      "------\n",
      "DRACULA.txt : 0 - 42\n",
      "Accuracy: 0.7\n",
      "------\n",
      "Frankenstein.txt : 3 - 30\n",
      "Accuracy: 0.5\n",
      "------\n",
      "Moby_Dick.txt : 2 - 60\n",
      "Accuracy: 1.0\n",
      "------\n",
      "PRIDE_AND_PREJUDICE.txt : 1 - 60\n",
      "Accuracy: 1.0\n",
      "------\n"
     ]
    }
   ],
   "source": [
    "# accuracy\n",
    "from collections import Counter\n",
    "for book, cluster in book_id.items():\n",
    "    assignments = list()\n",
    "    for real,given in zip(chunk_class,sent_to_cluster):\n",
    "        if real == cluster:\n",
    "            assignments.append(given)\n",
    "    most_common,num_most_common = Counter(assignments).most_common(1)[0] # 4, 6 times\n",
    "    print(book,\":\",most_common,\"-\",num_most_common)\n",
    "    print(\"Accuracy:\",num_most_common/limit)\n",
    "    print(\"------\")"
   ]
  },
  {
   "cell_type": "markdown",
   "metadata": {},
   "source": [
    "# Task 4: Semantic analysis based on lexical categories"
   ]
  },
  {
   "cell_type": "code",
   "execution_count": 79,
   "metadata": {},
   "outputs": [],
   "source": [
    "from empath import Empath\n",
    "lexicon = Empath()"
   ]
  },
  {
   "cell_type": "markdown",
   "metadata": {},
   "source": [
    "### Let's see what pre-build categories we can study! More information: https://hci.stanford.edu/publications/2016/ethan/empath-chi-2016.pdf"
   ]
  },
  {
   "cell_type": "code",
   "execution_count": 80,
   "metadata": {},
   "outputs": [
    {
     "name": "stdout",
     "output_type": "stream",
     "text": [
      "help\n",
      "office\n",
      "dance\n",
      "money\n",
      "wedding\n",
      "domestic_work\n",
      "sleep\n",
      "medical_emergency\n",
      "cold\n",
      "hate\n",
      "cheerfulness\n",
      "aggression\n",
      "occupation\n",
      "envy\n",
      "anticipation\n"
     ]
    }
   ],
   "source": [
    "for cat in list(lexicon.cats.keys())[:15]:\n",
    "    print(cat)"
   ]
  },
  {
   "cell_type": "markdown",
   "metadata": {},
   "source": [
    "### For each category, we can examine representative terms"
   ]
  },
  {
   "cell_type": "code",
   "execution_count": 81,
   "metadata": {},
   "outputs": [
    {
     "data": {
      "text/plain": [
       "['disease',\n",
       " 'traumatic',\n",
       " 'malaria',\n",
       " 'nurse',\n",
       " 'dehydrated',\n",
       " 'transfusion',\n",
       " 'physician',\n",
       " 'stress',\n",
       " 'therapist',\n",
       " 'aspirin',\n",
       " 'diagnosis',\n",
       " 'vomiting',\n",
       " 'condition',\n",
       " 'infection',\n",
       " 'therapy']"
      ]
     },
     "execution_count": 81,
     "metadata": {},
     "output_type": "execute_result"
    }
   ],
   "source": [
    "lexicon.cats[\"health\"][:15]"
   ]
  },
  {
   "cell_type": "markdown",
   "metadata": {},
   "source": [
    "### Studying Pride and Prejudice"
   ]
  },
  {
   "cell_type": "code",
   "execution_count": 82,
   "metadata": {},
   "outputs": [],
   "source": [
    "nlp = spacy.load('en')\n",
    "doc = nlp(books[3])"
   ]
  },
  {
   "cell_type": "code",
   "execution_count": 83,
   "metadata": {},
   "outputs": [],
   "source": [
    "empath_features = lexicon.analyze(doc.text,categories = [\"disappointment\", \"pain\", \"joy\", \"beauty\", \"affection\"])"
   ]
  },
  {
   "cell_type": "code",
   "execution_count": 84,
   "metadata": {},
   "outputs": [
    {
     "data": {
      "text/plain": [
       "{'disappointment': 149.0,\n",
       " 'pain': 228.0,\n",
       " 'joy': 278.0,\n",
       " 'beauty': 136.0,\n",
       " 'affection': 439.0}"
      ]
     },
     "execution_count": 84,
     "metadata": {},
     "output_type": "execute_result"
    }
   ],
   "source": [
    "empath_features"
   ]
  },
  {
   "cell_type": "code",
   "execution_count": 85,
   "metadata": {},
   "outputs": [],
   "source": [
    "empath_features = lexicon.analyze(doc.text,categories = [\"disappointment\", \"pain\", \"joy\", \"beauty\", \"affection\"], normalize = True)"
   ]
  },
  {
   "cell_type": "code",
   "execution_count": 86,
   "metadata": {},
   "outputs": [
    {
     "data": {
      "text/plain": [
       "{'disappointment': 0.0012256615693403638,\n",
       " 'pain': 0.001875508978587939,\n",
       " 'joy': 0.002286804807225645,\n",
       " 'beauty': 0.0011187246538945602,\n",
       " 'affection': 0.0036111773754390585}"
      ]
     },
     "execution_count": 86,
     "metadata": {},
     "output_type": "execute_result"
    }
   ],
   "source": [
    "empath_features"
   ]
  },
  {
   "cell_type": "markdown",
   "metadata": {},
   "source": [
    "### Usecase: the evolution of topics"
   ]
  },
  {
   "cell_type": "code",
   "execution_count": 87,
   "metadata": {},
   "outputs": [],
   "source": [
    "bins = range(0,len(doc.text),150000)\n"
   ]
  },
  {
   "cell_type": "code",
   "execution_count": 88,
   "metadata": {},
   "outputs": [],
   "source": [
    "love = []\n",
    "pain = []\n",
    "beauty = []\n",
    "affection = []\n",
    "\n",
    "\n",
    "for cnt,i in enumerate(bins[:-1]):\n",
    "    empath_features = lexicon.analyze(doc.text[bins[cnt]:bins[cnt+1]],\n",
    "                                      categories = [\"love\", \"pain\", \"joy\", \"beauty\", \"affection\"], normalize = True)\n",
    "    love.append(empath_features[\"love\"])\n",
    "    pain.append(empath_features[\"pain\"])\n",
    "    beauty.append(empath_features[\"beauty\"])\n",
    "    affection.append(empath_features[\"affection\"])"
   ]
  },
  {
   "cell_type": "code",
   "execution_count": 89,
   "metadata": {},
   "outputs": [
    {
     "data": {
      "text/plain": [
       "<matplotlib.legend.Legend at 0x241b1622a88>"
      ]
     },
     "execution_count": 89,
     "metadata": {},
     "output_type": "execute_result"
    },
    {
     "data": {
      "image/png": "[encoded data removed]",
      "text/plain": [
       "<Figure size 432x288 with 1 Axes>"
      ]
     },
     "metadata": {
      "needs_background": "light"
     },
     "output_type": "display_data"
    }
   ],
   "source": [
    "plt.plot(love,label = \"love\")\n",
    "plt.plot(beauty, label = \"beauty\")\n",
    "plt.plot(affection, label = \"affection\")\n",
    "plt.plot(pain,label = \"pain\")\n",
    "\n",
    "plt.xlabel(\"progression in the book\")\n",
    "plt.ylabel(\"frequency of a category\")\n",
    "plt.legend()"
   ]
  },
  {
   "cell_type": "code",
   "execution_count": 67,
   "metadata": {
    "collapsed": true,
    "jupyter": {
     "outputs_hidden": true
    }
   },
   "outputs": [],
   "source": [
    "# We can observe how as the story progresses, beauty and affection categories decrease, while love and pain intensify!"
   ]
  },
  {
   "cell_type": "markdown",
   "metadata": {},
   "source": [
    "### We can create custom categories based on seed terms!\n",
    "### Models trained on: fiction, nytimes or reddit"
   ]
  },
  {
   "cell_type": "code",
   "execution_count": 90,
   "metadata": {},
   "outputs": [
    {
     "name": "stdout",
     "output_type": "stream",
     "text": [
      "[\"avocado\", \"kale\", \"Swiss_chard\", \"escarole\", \"black_beans\", \"cucumber\", \"dill\", \"leek\", \"mango\", \"red_peppers\", \"chicory\", \"chanterelles\", \"chutney\", \"tamarind\", \"papaya\", \"black_olives\", \"endive\", \"pesto\", \"walnuts\", \"green_beans\", \"bok_choy\", \"portobello_mushrooms\", \"lemon_grass\", \"radicchio\", \"ricotta\", \"chicken_breast\", \"porcini\", \"blue_cheese\", \"snow_peas\", \"pickled\", \"Gorgonzola\", \"chorizo\", \"yams\", \"hazelnuts\", \"fresh_tomatoes\", \"shiitake_mushrooms\", \"anchovies\", \"wild_rice\", \"scallion\", \"red_onions\", \"broccoli_rape\", \"red_cabbage\", \"wasabi\", \"sweet_potato\", \"feta\", \"roasted_garlic\", \"compote\", \"napoleon\", \"aioli\", \"crab_meat\", \"cauliflower\", \"jicama\", \"parsnips\", \"apricots\", \"new_potatoes\", \"truffle_oil\", \"lemongrass\", \"pistachios\", \"saut\\u00e9ed\", \"gnocchi\", \"duck_confit\", \"fresh_herbs\", \"ratatouille\", \"white_beans\", \"croutons\", \"fresh_mozzarella\", \"squab\", \"watercress\", \"roasted_red_peppers\", \"pine_nuts\", \"fritters\", \"butternut_squash\", \"fava_beans\", \"drizzled\", \"red_onion\", \"pea_shoots\", \"rosemary\", \"romaine\", \"mustard_greens\", \"horseradish\", \"caramelized_onions\", \"artichoke_hearts\", \"fettuccine\", \"grilled_eggplant\", \"julienne\", \"plum_tomatoes\", \"grilled_chicken\", \"pineapple\", \"candied\", \"pancetta\", \"celery_root\", \"sea_scallops\", \"shiitake\", \"porcini_mushrooms\", \"sour_cream\", \"bean_sprouts\", \"oyster_mushrooms\", \"monkfish\", \"chickpeas\", \"coconut_milk\"]\n"
     ]
    }
   ],
   "source": [
    "lexicon.create_category(\"healthy_food\", [\"healthy_food\",\"low_carb\",\"kale\",\"avocado\"], model=\"nytimes\")"
   ]
  },
  {
   "cell_type": "code",
   "execution_count": 91,
   "metadata": {},
   "outputs": [
    {
     "name": "stdout",
     "output_type": "stream",
     "text": [
      "[\"green_vegetables\", \"leafy_greens\", \"whole_grain_bread\", \"brown_rice\", \"white_rice\", \"green_veggies\", \"veggies\", \"whole_wheat_bread\", \"sweet_potatoes\", \"raw_veggies\", \"lean_meat\", \"spinach\", \"fatty_meat\", \"kale\", \"sweet_potato\", \"avocado\", \"hummus\", \"chicken_breast\", \"veggie\", \"whole_grain\", \"vegetables\", \"whole_wheat_pasta\", \"salads\", \"broccoli\", \"greek_yogurt\", \"Greek_yogurt\", \"yogurt\", \"avocados\", \"rice_cakes\", \"raw_vegetables\", \"almonds\", \"lean_protein\", \"grilled_chicken\", \"quinoa\", \"steamed_broccoli\", \"whole_grain_pasta\", \"brocolli\", \"kale\", \"avocado\", \"tofu\", \"Veggies\", \"edamame\", \"more_veggies\", \"lean_meats\", \"quinoa\", \"salad\", \"cottage_cheese\", \"whole_wheat\", \"wheat_bread\", \"romaine_lettuce\", \"white_bread\", \"raw_spinach\", \"oatmeal\", \"white_potatoes\", \"almond_butter\", \"pork_rinds\", \"veg\", \"cashews\", \"greek_yoghurt\", \"baby_carrots\", \"fresh_veggies\", \"fatty_meats\", \"more_vegetables\", \"avacado\", \"veges\", \"nut_butter\", \"hard_boiled_eggs\", \"carrot_sticks\", \"whole_grains\", \"grilled_chicken_breast\", \"steamed_vegetables\", \"meats\", \"lentils\", \"green_beans\", \"low_cal\", \"nuts/seeds\", \"iceberg_lettuce\", \"carrots\", \"red_meat\", \"other_foods\", \"fried_foods\", \"smoothies\", \"healthy_fats\", \"vegies\", \"avacados\", \"other_vegetables\", \"fresh_fruit\", \"spinach_salad\", \"egg_whites\", \"steamed_veggies\", \"nut_butters\", \"ground_turkey\", \"baked_chicken\"]\n"
     ]
    }
   ],
   "source": [
    "lexicon.create_category(\"healthy_food\", [\"healthy_food\",\"low_carb\",\"kale\",\"avocado\"], model=\"reddit\")"
   ]
  },
  {
   "cell_type": "code",
   "execution_count": 92,
   "metadata": {},
   "outputs": [
    {
     "name": "stdout",
     "output_type": "stream",
     "text": [
      "[\"turkey\", \"roast_beef\", \"white_bread\", \"fried_chicken\", \"pancakes\", \"peanut_butter\", \"gefilte_fish\", \"stuffing\", \"French_fries\", \"meatloaf\", \"brisket\", \"potato_salad\", \"pumpkin_pie\", \"scrambled_eggs\", \"french_fries\", \"spaghetti\", \"gravy\", \"tamales\", \"pot_roast\", \"oatmeal\", \"lasagna\", \"corned_beef\", \"latkes\", \"pickles\", \"sauerkraut\", \"burger\", \"grits\", \"biscuits\", \"hamburger\", \"salad_bar\", \"corn_bread\", \"chicken_soup\", \"bacon\", \"cream_cheese\", \"brownies\", \"tofu\", \"pastrami\", \"pork_chops\", \"salami\", \"marshmallows\", \"collard_greens\", \"macaroni\", \"pies\", \"raw_fish\", \"eggnog\", \"cheeseburgers\", \"truffles\", \"chocolate_cake\", \"hard-boiled_eggs\", \"baked_potatoes\", \"venison\", \"cottage_cheese\", \"pheasant\", \"applesauce\", \"quail\", \"fruit_salad\", \"meatballs\", \"chocolate_chip_cookies\", \"tacos\", \"roast\", \"jelly\", \"chicken_salad\", \"omelet\", \"gumbo\", \"steaks\", \"soup\", \"lox\", \"sausage\", \"roast_chicken\", \"rye\", \"bagel\", \"fruitcake\", \"fries\", \"fried_eggs\", \"ketchup\", \"chicken_wings\", \"barbecue_sauce\", \"sweet_potatoes\", \"pasta\", \"sausages\", \"crackers\", \"omelets\", \"roasting\", \"French_toast\", \"muffins\", \"mashed_potatoes\", \"fresh_fruit\", \"baked_potato\", \"waffles\", \"cranberry_sauce\", \"baked_beans\", \"cheese\", \"tripe\", \"noodles\", \"maple_syrup\", \"quiche\", \"buns\", \"baklava\", \"stews\"]\n"
     ]
    }
   ],
   "source": [
    "lexicon.create_category(\"festive_food\", [\"festive_food\",\"turkey\",\"eggnog\"], model=\"nytimes\")"
   ]
  },
  {
   "cell_type": "markdown",
   "metadata": {},
   "source": [
    "### List of further resources\n",
    "    * NLTK\n",
    "    * Jellyfish: string similarity library\n",
    "    * TextBlob: simplified text processing\n",
    "    * PyEnchant: language detection\n",
    "    * WordNet: ontology of concepts (inc. in NLTK)\n",
    "    * Stanford NLP (Java)\n",
    "    * Tweet NLP: https://www.cs.cmu.edu/~ark/TweetNLP/"
   ]
  },
  {
   "cell_type": "markdown",
   "metadata": {},
   "source": [
    "## Part 2"
   ]
  },
  {
   "cell_type": "markdown",
   "metadata": {},
   "source": [
    "### Question 1:\n",
    "An NLP preprocessing model, using the list of stopwords ['a', 'the', 'is', 'you', 'I','my','with','was'] for the input sentence\n",
    "“I was driving down the street with my CAR! :)” <br>\n",
    "gives the following output: {driving, down, street, car, :)}.\n",
    "The model consists of: <br>\n",
    "\n",
    "a) Stopword Removal, Casefolding and Stemming <br>\n",
    "b) Stopword Removal and Casefolding <br>\n",
    "c) Stopword Removal and Stemming <br>\n",
    "d) Casefolding and Stemming <br>"
   ]
  },
  {
   "cell_type": "code",
   "execution_count": 93,
   "metadata": {},
   "outputs": [],
   "source": [
    "# write your code and/or answer here\n",
    "# b"
   ]
  },
  {
   "cell_type": "markdown",
   "metadata": {},
   "source": [
    "### Question 2:\n",
    "Given the following preprocessed corpus :\n",
    "{time, flies, like, an, arrow} <br>\n",
    "{garbage, collector, is, used, by, java} <br>\n",
    "{switzerland, is, known, to, produce, clocks} <br>\n",
    "{five, apples, a, day, keep, the, doctor, away} <br>\n",
    "{it, is, about, time, you, arrive} <br>\n",
    "{my, favorite, course, this, year, is, applied, data, analysis} <br>\n",
    "The IDF value of the word \"time\" is: <br>\n",
    "\n",
    "a) log(3) <br>\n",
    "b) -log(3) <br>\n",
    "c) log(4) <br>\n",
    "d) log(2) <br>"
   ]
  },
  {
   "cell_type": "code",
   "execution_count": 94,
   "metadata": {},
   "outputs": [],
   "source": [
    "# write your code and/or answer here\n",
    "# b"
   ]
  },
  {
   "cell_type": "markdown",
   "metadata": {},
   "source": [
    "### Question 3:\n",
    "\n",
    "Which statement is correct regarding character encoding?<br>\n",
    "\n",
    "a) A UTF-8 file that includes ASCII characters is encoded in the same way as the corresponding ASCII file <br>\n",
    "b) The best practice is to specify the type of encoding when reading the file, and when writing the file <br>\n",
    "c) ASCII can encode the sentence: “J'habite à Lausanne” <br>\n",
    "d) Given two raw, uncompressed .txt files with the same number of letters, the one encoded in UTF-16 can be smaller than the one encoded in ASCII <br>\n"
   ]
  },
  {
   "cell_type": "code",
   "execution_count": 95,
   "metadata": {},
   "outputs": [],
   "source": [
    "# write your code and/or answer here\n",
    "# b"
   ]
  },
  {
   "cell_type": "markdown",
   "metadata": {},
   "source": [
    "### Question 4:\n",
    "What statement is false about topic detection using LSA: <br>\n",
    "\n",
    "a) It finds the representation of documents and words in the latent \"topic space\" <br>\n",
    "b) It produces topics interpretable in “word space” <br>\n",
    "c) A document's topic representation is a probability distribution over topics <br>\n",
    "d) The vectors representing topics in “word space” are linearly independent <br>"
   ]
  },
  {
   "cell_type": "code",
   "execution_count": 96,
   "metadata": {},
   "outputs": [],
   "source": [
    "# write your code and/or answer here\n",
    "# d"
   ]
  },
  {
   "cell_type": "markdown",
   "metadata": {},
   "source": [
    "### Question 5:\n",
    "The problem of having more features than documents when using a TF-IDF matrix for document classification cannot be addressed by: <br>\n",
    "\n",
    "a) Using SVD for dimensionality reduction <br>\n",
    "b) Using min-max scaling of features <br>\n",
    "c) Penalizing very large positive and very large negative weights (a.k.a. regularization) <br>\n",
    "d) Using online feature selection <br>"
   ]
  },
  {
   "cell_type": "code",
   "execution_count": 97,
   "metadata": {},
   "outputs": [],
   "source": [
    "# write your code and/or answer here\n",
    "# b"
   ]
  },
  {
   "cell_type": "markdown",
   "metadata": {},
   "source": [
    "### Question 7:\n",
    "Which of the following is false about word vectors: <br>\n",
    "\n",
    "a) Word2vec is used to achieve a lower dimensional representation than bag of words <br>\n",
    "b) Semantically similar words typically have similar word2vec vectors <br>\n",
    "c) Each dimension in the word2vec embedding has a clear interpretation <br>\n",
    "d) Word2Vec can be used for the computation of sentence vectors <br>"
   ]
  },
  {
   "cell_type": "code",
   "execution_count": 98,
   "metadata": {},
   "outputs": [],
   "source": [
    "# write your code and/or answer here\n",
    "# a"
   ]
  },
  {
   "cell_type": "markdown",
   "metadata": {},
   "source": [
    "### Question 8:\n",
    "Given the following word (W) / context (C) co-occurrence frequencies, which statement is true regarding the pointwise mutual information (PMI)?\n",
    "\n",
    "|  |W1|W2|W3|\n",
    "|--|--|--|--|\n",
    "|C1| 2| 0| 3|\n",
    "|C2| 6| 4| 0|\n",
    "|C3| 1| 1| 3|\n",
    "\n",
    "a) PMI(w=W1, c=C2) > PMI(w=W2, c=C2) > PMI(w=W3, c=C3) <br>\n",
    "b) PMI(w=W2, c=C2) > PMI(w=W1, c=C2) >  PMI(w=W3, c=C3) <br>\n",
    "c) PMI(w=W3, c=C3) > PMI(w=W1, c=C2) > PMI(w=W2, c=C2) <br>\n",
    "d) PMI(w=W3, c=C3) > PMI(w=W2, c=C2) > PMI(w=W1, c=C2) <br>"
   ]
  },
  {
   "cell_type": "code",
   "execution_count": 83,
   "metadata": {
    "collapsed": true,
    "jupyter": {
     "outputs_hidden": true
    }
   },
   "outputs": [],
   "source": [
    "# write your code and/or answer here"
   ]
  },
  {
   "cell_type": "code",
   "execution_count": null,
   "metadata": {
    "collapsed": true,
    "jupyter": {
     "outputs_hidden": true
    }
   },
   "outputs": [],
   "source": []
  }
 ],
 "metadata": {
  "kernelspec": {
   "display_name": "Python 3",
   "language": "python",
   "name": "python3"
  },
  "language_info": {
   "codemirror_mode": {
    "name": "ipython",
    "version": 3
   },
   "file_extension": ".py",
   "mimetype": "text/x-python",
   "name": "python",
   "nbconvert_exporter": "python",
   "pygments_lexer": "ipython3",
   "version": "3.7.9"
  },
  "toc": {
   "colors": {
    "hover_highlight": "#DAA520",
    "navigate_num": "#000000",
    "navigate_text": "#333333",
    "running_highlight": "#FF0000",
    "selected_highlight": "#FFD700",
    "sidebar_border": "#EEEEEE",
    "wrapper_background": "#FFFFFF"
   },
   "moveMenuLeft": true,
   "nav_menu": {
    "height": "228px",
    "width": "252px"
   },
   "navigate_menu": true,
   "number_sections": true,
   "sideBar": true,
   "threshold": 4,
   "toc_cell": false,
   "toc_section_display": "block",
   "toc_window_display": false,
   "widenNotebook": false
  },
  "varInspector": {
   "cols": {
    "lenName": 16,
    "lenType": 16,
    "lenVar": 40
   },
   "kernels_config": {
    "python": {
     "delete_cmd_postfix": "",
     "delete_cmd_prefix": "del ",
     "library": "var_list.py",
     "varRefreshCmd": "print(var_dic_list())"
    },
    "r": {
     "delete_cmd_postfix": ") ",
     "delete_cmd_prefix": "rm(",
     "library": "var_list.r",
     "varRefreshCmd": "cat(var_dic_list()) "
    }
   },
   "types_to_exclude": [
    "module",
    "function",
    "builtin_function_or_method",
    "instance",
    "_Feature"
   ],
   "window_display": false
  }
 },
 "nbformat": 4,
 "nbformat_minor": 4
}
