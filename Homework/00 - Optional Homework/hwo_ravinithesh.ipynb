{
 "cells": [
  {
   "cell_type": "code",
   "execution_count": 1,
   "metadata": {},
   "outputs": [],
   "source": [
    "import pandas as pd"
   ]
  },
  {
   "cell_type": "code",
   "execution_count": 16,
   "metadata": {},
   "outputs": [
    {
     "data": {
      "text/html": [
       "<div>\n",
       "<style scoped>\n",
       "    .dataframe tbody tr th:only-of-type {\n",
       "        vertical-align: middle;\n",
       "    }\n",
       "\n",
       "    .dataframe tbody tr th {\n",
       "        vertical-align: top;\n",
       "    }\n",
       "\n",
       "    .dataframe thead th {\n",
       "        text-align: right;\n",
       "    }\n",
       "</style>\n",
       "<table border=\"1\" class=\"dataframe\">\n",
       "  <thead>\n",
       "    <tr style=\"text-align: right;\">\n",
       "      <th></th>\n",
       "      <th>Intent</th>\n",
       "      <th>Gender</th>\n",
       "      <th>Age</th>\n",
       "      <th>Race</th>\n",
       "      <th>Deaths</th>\n",
       "      <th>Population</th>\n",
       "      <th>Rate</th>\n",
       "    </tr>\n",
       "  </thead>\n",
       "  <tbody>\n",
       "    <tr>\n",
       "      <th>1</th>\n",
       "      <td>None selected</td>\n",
       "      <td>None selected</td>\n",
       "      <td>None selected</td>\n",
       "      <td>None selected</td>\n",
       "      <td>33599</td>\n",
       "      <td>316299978</td>\n",
       "      <td>10.6</td>\n",
       "    </tr>\n",
       "    <tr>\n",
       "      <th>2</th>\n",
       "      <td>None selected</td>\n",
       "      <td>None selected</td>\n",
       "      <td>None selected</td>\n",
       "      <td>White</td>\n",
       "      <td>22079</td>\n",
       "      <td>197369634</td>\n",
       "      <td>11.2</td>\n",
       "    </tr>\n",
       "    <tr>\n",
       "      <th>3</th>\n",
       "      <td>None selected</td>\n",
       "      <td>None selected</td>\n",
       "      <td>None selected</td>\n",
       "      <td>Black</td>\n",
       "      <td>7765</td>\n",
       "      <td>38896382</td>\n",
       "      <td>20.0</td>\n",
       "    </tr>\n",
       "    <tr>\n",
       "      <th>4</th>\n",
       "      <td>None selected</td>\n",
       "      <td>None selected</td>\n",
       "      <td>None selected</td>\n",
       "      <td>Hispanic</td>\n",
       "      <td>3007</td>\n",
       "      <td>54049078</td>\n",
       "      <td>5.6</td>\n",
       "    </tr>\n",
       "    <tr>\n",
       "      <th>5</th>\n",
       "      <td>None selected</td>\n",
       "      <td>None selected</td>\n",
       "      <td>None selected</td>\n",
       "      <td>Asian/Pacific Islander</td>\n",
       "      <td>442</td>\n",
       "      <td>16315561</td>\n",
       "      <td>2.7</td>\n",
       "    </tr>\n",
       "  </tbody>\n",
       "</table>\n",
       "</div>"
      ],
      "text/plain": [
       "          Intent         Gender            Age                    Race  \\\n",
       "1  None selected  None selected  None selected           None selected   \n",
       "2  None selected  None selected  None selected                   White   \n",
       "3  None selected  None selected  None selected                   Black   \n",
       "4  None selected  None selected  None selected                Hispanic   \n",
       "5  None selected  None selected  None selected  Asian/Pacific Islander   \n",
       "\n",
       "   Deaths  Population  Rate  \n",
       "1   33599   316299978  10.6  \n",
       "2   22079   197369634  11.2  \n",
       "3    7765    38896382  20.0  \n",
       "4    3007    54049078   5.6  \n",
       "5     442    16315561   2.7  "
      ]
     },
     "execution_count": 16,
     "metadata": {},
     "output_type": "execute_result"
    }
   ],
   "source": [
    "gun_death = pd.read_csv(\"./interactive_data.csv\", index_col=0)\n",
    "gun_death.head(5)"
   ]
  },
  {
   "cell_type": "code",
   "execution_count": 17,
   "metadata": {},
   "outputs": [
    {
     "name": "stdout",
     "output_type": "stream",
     "text": [
      "['None selected' 'Suicide' 'Homicide' 'Accident' 'Unknown']\n",
      "['None selected' 'Female' 'Male']\n",
      "['None selected' 'Under 15' '15 - 34' '35 - 64' '65+' '5']\n",
      "['None selected' 'White' 'Black' 'Hispanic' 'Asian/Pacific Islander'\n",
      " 'Other']\n",
      "[33599 22079  7765  3007   442   306   427   242   109    63     7     5\n",
      " 12723  5244  5297  1822   200   160 14874 11396  2164   988   203   123\n",
      "  5569  5192   194   133    32    18     6     4     1     0  4816  3562\n",
      "   773   358    81    42    64    25     2  1521   835   441   191    30\n",
      "    23  2565  2105   270   131    44    16   606   558    29    11 28783\n",
      " 18517  6993  2650   361   263   303   179    77    39 11202  4409  4855\n",
      "  1631   170   136 12309  9291  1894   858   159   107  4964  4634   165\n",
      "   122    26 21058 18457  1111  1057   248   185   139   117    12     3\n",
      "  5061  3878   510   479   106    88 10764  9634   476   456   115    82\n",
      "  5092  4827    24    15  2896  2606   121   116    33    21    19   662\n",
      "   539    55    14    10  1773  1630    65    52   436   417 18162 15852\n",
      "   989   941   215   164   114    98     9  4399  3339   466   424    92\n",
      "    78  8991  8005   411   405    99    71  4656   104    22 11726  3049\n",
      "  6503  1878   186   221    45  7335  1180  4701  1296    66  3792  1505\n",
      "  1652   514    84    37   375   274    69  1791   860   633   232    47\n",
      "    20    85    38    27   815   267   389    13   733   426   199    76\n",
      "   158   129  9935  2189  5871  1646   140    89    50  6520   913  4312\n",
      "  1166    54  3059  1079  1453   438    57    31   217   145    51   546\n",
      "   377    48    59   210    60   206    73    28   474   323    43   189\n",
      "   102    56   173   137   269   195     8    70    17   113    91   213\n",
      "   153    35    94    87]\n",
      "[316299978 197369634  38896382  54049078  16315561   9669323  61085868\n",
      "  31538832   8323603  14994449   2825155   3403829  86611149  48773131\n",
      "  11893789  17960261   4950398   3033571 123935928  81870182  14848291\n",
      "  17777422   6797707   2642326  44667034  35187489   3830699   3316947\n",
      "   1742301    589598         0 160668110 100162288  20362385  26670924\n",
      "   8589119   4883395  29836679  15355910   4095428   7330024   1393440\n",
      "   1661877  42593280  23942099   6023846   8580577   2535358   1511400\n",
      "  63125058  41284839   7932606   8863203   3668172   1376239  25113094\n",
      "  19579439   2310506   1897119    992150    333879 155631868  97207346\n",
      "  18533996  27378155   7726442   4785929  31249189  16182922   4228176\n",
      "   7664425   1431715   1741952  44017869  24831032   5869943   9379683\n",
      "   2415040   1522171  60810870  40585343   6915685   8914219   3129535\n",
      "   1266087  19553940  15608050   1520192   1419828    750151    255719]\n",
      "[10.6 11.2 20.   5.6  2.7  3.2  0.7  0.8  1.3  0.4  0.2  0.1 14.7 10.8\n",
      " 44.5 10.1  4.   5.3 12.  13.9 14.6  3.   4.7 12.5 14.8  5.1  1.8  3.1\n",
      "  inf  nan  3.6  3.8  0.9  0.3  3.5  7.3  2.2  1.2  1.5  4.1  3.4  2.4\n",
      "  2.8  0.6 18.5 19.  37.7  9.7  5.5  1.   1.1  0.5 25.4 17.8 82.7 17.4\n",
      "  7.   8.9 20.2 22.9 27.4  9.6  8.5 29.7 10.9  8.6  6.3  6.7  9.4  2.9\n",
      "  2.   1.9  0.   5.8  8.   4.3  2.1  8.7 11.8  2.6  1.7 11.4 13.7  3.3\n",
      "  1.4  2.5  1.6  2.3  3.9 11.7 16.3 10.  13.4  7.9  4.5 19.7  5.9 23.8\n",
      " 28.2  3.7 16.7 39.5  7.2 11.1  6.5  6.4 31.7  6.  73.5 12.4  5.  21.\n",
      "  4.9]\n"
     ]
    }
   ],
   "source": [
    "for col in gun_death:\n",
    "    print(gun_death[col].unique())"
   ]
  },
  {
   "cell_type": "code",
   "execution_count": 29,
   "metadata": {},
   "outputs": [],
   "source": [
    "def get_count(intent=\"None selected\", gender=\"None selected\", age=\"None selected\", race=\"None selected\"):\n",
    "    count = gun_death.loc[(gun_death[\"Intent\"]==intent)&(gun_death[\"Gender\"]==gender)&(gun_death[\"Age\"]==age)&(gun_death[\"Race\"]==race)][\"Deaths\"].values[0]\n",
    "    return count"
   ]
  },
  {
   "cell_type": "code",
   "execution_count": 30,
   "metadata": {},
   "outputs": [
    {
     "data": {
      "text/plain": [
       "33599"
      ]
     },
     "execution_count": 30,
     "metadata": {},
     "output_type": "execute_result"
    }
   ],
   "source": [
    "total_deaths = get_count()\n",
    "total_deaths"
   ]
  },
  {
   "cell_type": "code",
   "execution_count": 33,
   "metadata": {},
   "outputs": [
    {
     "name": "stdout",
     "output_type": "stream",
     "text": [
      "0.6267448435965356\n"
     ]
    }
   ],
   "source": [
    "suicides = get_count(intent=\"Suicide\")\n",
    "print(suicides/total_deaths)"
   ]
  },
  {
   "cell_type": "code",
   "execution_count": 34,
   "metadata": {},
   "outputs": [
    {
     "name": "stdout",
     "output_type": "stream",
     "text": [
      "0.8624750688574414\n"
     ]
    }
   ],
   "source": [
    "male_suicides = get_count(intent=\"Suicide\",gender=\"Male\")\n",
    "print(male_suicides/suicides)"
   ]
  },
  {
   "cell_type": "code",
   "execution_count": 35,
   "metadata": {},
   "outputs": [
    {
     "name": "stdout",
     "output_type": "stream",
     "text": [
      "0.3489984820976815\n"
     ]
    }
   ],
   "source": [
    "homicide = get_count(intent=\"Homicide\")\n",
    "print(homicide/total_deaths)"
   ]
  },
  {
   "cell_type": "code",
   "execution_count": 38,
   "metadata": {},
   "outputs": [
    {
     "name": "stdout",
     "output_type": "stream",
     "text": [
      "0.6613496932515337\n"
     ]
    }
   ],
   "source": [
    "young_male_homicide = get_count(intent=\"Homicide\",gender=\"Male\", age='15 - 34')\n",
    "black_young_male_homicide = get_count(intent=\"Homicide\",gender=\"Male\", age='15 - 34', race=\"Black\")\n",
    "print(black_young_male_homicide/young_male_homicide)"
   ]
  },
  {
   "cell_type": "code",
   "execution_count": 39,
   "metadata": {},
   "outputs": [
    {
     "name": "stdout",
     "output_type": "stream",
     "text": [
      "0.15273750639604297\n"
     ]
    }
   ],
   "source": [
    "female_homicide = get_count(intent=\"Homicide\",gender=\"Female\")\n",
    "print(female_homicide/homicide)"
   ]
  },
  {
   "cell_type": "code",
   "execution_count": null,
   "metadata": {},
   "outputs": [],
   "source": []
  }
 ],
 "metadata": {
  "kernelspec": {
   "display_name": "Python [conda env:.conda-ada] *",
   "language": "python",
   "name": "conda-env-.conda-ada-py"
  },
  "language_info": {
   "codemirror_mode": {
    "name": "ipython",
    "version": 3
   },
   "file_extension": ".py",
   "mimetype": "text/x-python",
   "name": "python",
   "nbconvert_exporter": "python",
   "pygments_lexer": "ipython3",
   "version": "3.8.5"
  }
 },
 "nbformat": 4,
 "nbformat_minor": 4
}
