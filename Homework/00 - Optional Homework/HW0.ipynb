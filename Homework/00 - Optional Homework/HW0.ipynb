{
 "cells": [
  {
   "cell_type": "code",
   "execution_count": 1,
   "metadata": {},
   "outputs": [],
   "source": [
    "import pandas as pd"
   ]
  },
  {
   "cell_type": "code",
   "execution_count": 2,
   "metadata": {},
   "outputs": [],
   "source": [
    "gun_deaths = pd.read_csv(\"./interactive_data.csv\")"
   ]
  },
  {
   "cell_type": "code",
   "execution_count": 3,
   "metadata": {},
   "outputs": [
    {
     "data": {
      "text/html": [
       "<div>\n",
       "<style scoped>\n",
       "    .dataframe tbody tr th:only-of-type {\n",
       "        vertical-align: middle;\n",
       "    }\n",
       "\n",
       "    .dataframe tbody tr th {\n",
       "        vertical-align: top;\n",
       "    }\n",
       "\n",
       "    .dataframe thead th {\n",
       "        text-align: right;\n",
       "    }\n",
       "</style>\n",
       "<table border=\"1\" class=\"dataframe\">\n",
       "  <thead>\n",
       "    <tr style=\"text-align: right;\">\n",
       "      <th></th>\n",
       "      <th>Unnamed: 0</th>\n",
       "      <th>Intent</th>\n",
       "      <th>Gender</th>\n",
       "      <th>Age</th>\n",
       "      <th>Race</th>\n",
       "      <th>Deaths</th>\n",
       "      <th>Population</th>\n",
       "      <th>Rate</th>\n",
       "    </tr>\n",
       "  </thead>\n",
       "  <tbody>\n",
       "    <tr>\n",
       "      <th>0</th>\n",
       "      <td>1</td>\n",
       "      <td>None selected</td>\n",
       "      <td>None selected</td>\n",
       "      <td>None selected</td>\n",
       "      <td>None selected</td>\n",
       "      <td>33599</td>\n",
       "      <td>316299978</td>\n",
       "      <td>10.6</td>\n",
       "    </tr>\n",
       "    <tr>\n",
       "      <th>1</th>\n",
       "      <td>2</td>\n",
       "      <td>None selected</td>\n",
       "      <td>None selected</td>\n",
       "      <td>None selected</td>\n",
       "      <td>White</td>\n",
       "      <td>22079</td>\n",
       "      <td>197369634</td>\n",
       "      <td>11.2</td>\n",
       "    </tr>\n",
       "    <tr>\n",
       "      <th>2</th>\n",
       "      <td>3</td>\n",
       "      <td>None selected</td>\n",
       "      <td>None selected</td>\n",
       "      <td>None selected</td>\n",
       "      <td>Black</td>\n",
       "      <td>7765</td>\n",
       "      <td>38896382</td>\n",
       "      <td>20.0</td>\n",
       "    </tr>\n",
       "    <tr>\n",
       "      <th>3</th>\n",
       "      <td>4</td>\n",
       "      <td>None selected</td>\n",
       "      <td>None selected</td>\n",
       "      <td>None selected</td>\n",
       "      <td>Hispanic</td>\n",
       "      <td>3007</td>\n",
       "      <td>54049078</td>\n",
       "      <td>5.6</td>\n",
       "    </tr>\n",
       "    <tr>\n",
       "      <th>4</th>\n",
       "      <td>5</td>\n",
       "      <td>None selected</td>\n",
       "      <td>None selected</td>\n",
       "      <td>None selected</td>\n",
       "      <td>Asian/Pacific Islander</td>\n",
       "      <td>442</td>\n",
       "      <td>16315561</td>\n",
       "      <td>2.7</td>\n",
       "    </tr>\n",
       "  </tbody>\n",
       "</table>\n",
       "</div>"
      ],
      "text/plain": [
       "   Unnamed: 0         Intent         Gender            Age  \\\n",
       "0           1  None selected  None selected  None selected   \n",
       "1           2  None selected  None selected  None selected   \n",
       "2           3  None selected  None selected  None selected   \n",
       "3           4  None selected  None selected  None selected   \n",
       "4           5  None selected  None selected  None selected   \n",
       "\n",
       "                     Race  Deaths  Population  Rate  \n",
       "0           None selected   33599   316299978  10.6  \n",
       "1                   White   22079   197369634  11.2  \n",
       "2                   Black    7765    38896382  20.0  \n",
       "3                Hispanic    3007    54049078   5.6  \n",
       "4  Asian/Pacific Islander     442    16315561   2.7  "
      ]
     },
     "execution_count": 3,
     "metadata": {},
     "output_type": "execute_result"
    }
   ],
   "source": [
    "gun_deaths.head()"
   ]
  },
  {
   "cell_type": "code",
   "execution_count": 38,
   "metadata": {},
   "outputs": [],
   "source": [
    "total_deaths = gun_deaths.loc[(gun_deaths['Intent'] == \"None selected\") & (gun_deaths['Gender'] == \"None selected\") & (gun_deaths['Age'] == \"None selected\") & (gun_deaths['Race'] == \"None selected\")][\"Deaths\"].values[0]\n",
    "suicide = gun_deaths.loc[(gun_deaths['Intent'] == \"Suicide\") & (gun_deaths['Gender'] == \"None selected\") & (gun_deaths['Age'] == \"None selected\") & (gun_deaths['Race'] == \"None selected\")][\"Deaths\"].values[0]\n",
    "male_suicide = gun_deaths.loc[(gun_deaths['Intent'] == \"Suicide\") & (gun_deaths['Gender'] == \"Male\") & (gun_deaths['Age'] == \"None selected\") & (gun_deaths['Race'] == \"None selected\")][\"Deaths\"].values[0]\n",
    "homicide = gun_deaths.loc[(gun_deaths['Intent'] == \"Homicide\") & (gun_deaths['Gender'] == \"None selected\") & (gun_deaths['Age'] == \"None selected\") & (gun_deaths['Race'] == \"None selected\")][\"Deaths\"].values[0]\n",
    "homicide_male_black_young = gun_deaths.loc[(gun_deaths['Intent'] == \"Homicide\") & (gun_deaths['Gender'] == \"Male\") & (gun_deaths['Age'] == \"15 - 34\") & (gun_deaths['Race'] == \"Black\")][\"Deaths\"].values[0]\n",
    "homicide_women = gun_deaths.loc[(gun_deaths['Intent'] == \"Homicide\") & (gun_deaths['Gender'] == \"Female\") & (gun_deaths['Age'] == \"None selected\") & (gun_deaths['Race'] == \"None selected\")][\"Deaths\"].values[0]"
   ]
  },
  {
   "cell_type": "code",
   "execution_count": 39,
   "metadata": {},
   "outputs": [
    {
     "name": "stdout",
     "output_type": "stream",
     "text": [
      "The percentage of gun deaths that are suicide are  62.67448435965356\n",
      "The percentage of men in gun deaths that are suicide are  86.24750688574414\n",
      "The percentage of gun deaths that are Homicide are  34.899848209768145\n",
      "The percentage of gun deaths that are Homicide in Black Men aged between 15 and 34 are  36.772983114446525\n",
      "The percentage of women in gun deaths that are Homicid  15.273750639604296\n"
     ]
    }
   ],
   "source": [
    "print(\"The percentage of gun deaths that are suicide are \", (suicide/total_deaths)*100)\n",
    "print(\"The percentage of men in gun deaths that are suicide are \", (male_suicide/suicide)*100)\n",
    "print(\"The percentage of gun deaths that are Homicide are \", (homicide/total_deaths)*100)\n",
    "print(\"The percentage of gun deaths that are Homicide in Black Men aged between 15 and 34 are \", (homicide_male_black_young/homicide)*100)\n",
    "print(\"The percentage of women in gun deaths that are Homicid \", (homicide_women/homicide)*100)"
   ]
  },
  {
   "cell_type": "code",
   "execution_count": null,
   "metadata": {},
   "outputs": [],
   "source": []
  }
 ],
 "metadata": {
  "kernelspec": {
   "display_name": "Python [conda env:.conda-ada] *",
   "language": "python",
   "name": "conda-env-.conda-ada-py"
  },
  "language_info": {
   "codemirror_mode": {
    "name": "ipython",
    "version": 3
   },
   "file_extension": ".py",
   "mimetype": "text/x-python",
   "name": "python",
   "nbconvert_exporter": "python",
   "pygments_lexer": "ipython3",
   "version": "3.8.5"
  }
 },
 "nbformat": 4,
 "nbformat_minor": 4
}
